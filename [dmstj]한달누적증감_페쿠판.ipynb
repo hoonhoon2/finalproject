{
 "cells": [
  {
   "cell_type": "markdown",
   "id": "b9eb0c44",
   "metadata": {},
   "source": [
    "## 데이터 전처리"
   ]
  },
  {
   "cell_type": "code",
   "execution_count": 1,
   "id": "be0e694e",
   "metadata": {
    "ExecuteTime": {
     "end_time": "2022-01-17T00:16:37.872935Z",
     "start_time": "2022-01-17T00:16:32.858407Z"
    }
   },
   "outputs": [],
   "source": [
    "import pandas as pd\n",
    "import numpy as np\n",
    "import matplotlib.pyplot as plt\n",
    "import matplotlib\n",
    "plt.style.use('ggplot')\n",
    "import seaborn as sns\n",
    "from datetime import datetime\n",
    "import warnings\n",
    "warnings.filterwarnings(\"ignore\")\n",
    "import pickle\n",
    "import joblib\n",
    "from sklearn.preprocessing import LabelEncoder\n",
    "\n",
    "matplotlib.rcParams['font.family'] = 'Malgun Gothic'\n",
    "matplotlib.rcParams['axes.unicode_minus'] = False\n",
    "# pd.set_option('display.max_rows', None)\n",
    "pd.set_option('display.max_columns', None)"
   ]
  },
  {
   "cell_type": "code",
   "execution_count": 2,
   "id": "1efbc3bf",
   "metadata": {
    "ExecuteTime": {
     "end_time": "2022-01-17T00:16:37.887954Z",
     "start_time": "2022-01-17T00:16:37.874929Z"
    },
    "code_folding": [
     0
    ]
   },
   "outputs": [],
   "source": [
    "# 전처리 함수 만들기\n",
    "def dropcol(df) : # '등록일자', '리뷰건수', '찜하기수' 미포함\n",
    "    df.drop(['수집일자', '등록일자', '카테고리세분류', '상품명', '판매자', '리뷰건수', '구매건수',\n",
    "             '이미지url', '이미지사이즈', '이미지컬러코드'], axis=1, inplace=True) \n",
    "    return df\n",
    "def encodecol(df):\n",
    "    df['판매자등급'] = df['판매자등급'].str.extract(pat = '([0-9]$)').astype(int)\n",
    "    df['굿서비스'] = df['굿서비스'].astype(int)\n",
    "    df['적립포인트'] = df['적립포인트'].str.extract(pat = '([0-9]+)').astype(int)\n",
    "    df['배송정보'] = df['배송정보'].str.extract(pat = '([오]...)')\n",
    "    df['배송정보'] = df['배송정보'].apply(lambda x: 1 if str(x) == '오늘출발' else 0)\n",
    "    df['검색키워드'] = df['검색키워드'].notnull().astype(int)\n",
    "    df['태그'] = df['태그'].apply(lambda x : len(str(x).split(',')) if str(x) != 'nan' else 0)\n",
    "    df['배송비'] = df['배송비'].apply(lambda x: 0 if x == 0 else 1)\n",
    "    df['찜하기수'] = df['찜하기수'].fillna(0)\n",
    "    df['평점'] = df['평점'].fillna(0)\n",
    "    return df\n",
    "def lecol(df):\n",
    "    features = ['카테고리대분류', '카테고리중분류', '카테고리소분류']\n",
    "    for f in features:\n",
    "        le = LabelEncoder()\n",
    "        le.fit(df.loc[:,f])\n",
    "        df.loc[:,f] = le.transform(df.loc[:,f])\n",
    "    return df\n",
    "def derivedvar(df) :\n",
    "    df['수집일자'] = df['수집일자'].str[:10].apply(lambda x: datetime.strptime(x,\"%Y-%m-%d\"))\n",
    "    df['등록일자'] = df['등록일자'].astype('str').str[:8].apply(lambda x: datetime.strptime(x,\"%Y%m%d\"))\n",
    "    df['판매기간(주)'] = (df['수집일자']-df['등록일자']).dt.days//7\n",
    "    df['페이지'] = np.digitize(df['순위'], range(1,440, 40))\n",
    "    return df"
   ]
  },
  {
   "cell_type": "code",
   "execution_count": 3,
   "id": "874db3e7",
   "metadata": {
    "ExecuteTime": {
     "end_time": "2022-01-17T00:16:37.903903Z",
     "start_time": "2022-01-17T00:16:37.888891Z"
    },
    "code_folding": []
   },
   "outputs": [],
   "source": [
    "def preprocessing(df):\n",
    "    df = derivedvar(df)\n",
    "    df = dropcol(df)\n",
    "    df = encodecol(df)\n",
    "    df = lecol(df)\n",
    "    return df"
   ]
  },
  {
   "cell_type": "code",
   "execution_count": 4,
   "id": "abfdd117",
   "metadata": {
    "ExecuteTime": {
     "end_time": "2022-01-17T00:16:38.397531Z",
     "start_time": "2022-01-17T00:16:37.905846Z"
    }
   },
   "outputs": [
    {
     "data": {
      "text/html": [
       "<div>\n",
       "<style scoped>\n",
       "    .dataframe tbody tr th:only-of-type {\n",
       "        vertical-align: middle;\n",
       "    }\n",
       "\n",
       "    .dataframe tbody tr th {\n",
       "        vertical-align: top;\n",
       "    }\n",
       "\n",
       "    .dataframe thead th {\n",
       "        text-align: right;\n",
       "    }\n",
       "</style>\n",
       "<table border=\"1\" class=\"dataframe\">\n",
       "  <thead>\n",
       "    <tr style=\"text-align: right;\">\n",
       "      <th></th>\n",
       "      <th>카테고리대분류</th>\n",
       "      <th>카테고리중분류</th>\n",
       "      <th>카테고리소분류</th>\n",
       "      <th>상품아이디</th>\n",
       "      <th>판매자등급</th>\n",
       "      <th>굿서비스</th>\n",
       "      <th>가격</th>\n",
       "      <th>이벤트유무</th>\n",
       "      <th>배송비</th>\n",
       "      <th>배송정보</th>\n",
       "      <th>적립포인트</th>\n",
       "      <th>평점</th>\n",
       "      <th>검색키워드</th>\n",
       "      <th>태그</th>\n",
       "      <th>추가이미지개수</th>\n",
       "      <th>비디오유무</th>\n",
       "      <th>판매기간(주)</th>\n",
       "      <th>리뷰건수증감</th>\n",
       "      <th>쿠폰유무변화</th>\n",
       "      <th>크리스마스</th>\n",
       "    </tr>\n",
       "  </thead>\n",
       "  <tbody>\n",
       "    <tr>\n",
       "      <th>0</th>\n",
       "      <td>8</td>\n",
       "      <td>32</td>\n",
       "      <td>592</td>\n",
       "      <td>83477819660</td>\n",
       "      <td>3</td>\n",
       "      <td>0</td>\n",
       "      <td>99000</td>\n",
       "      <td>0</td>\n",
       "      <td>1</td>\n",
       "      <td>0</td>\n",
       "      <td>990</td>\n",
       "      <td>4.8</td>\n",
       "      <td>0</td>\n",
       "      <td>5</td>\n",
       "      <td>6</td>\n",
       "      <td>0</td>\n",
       "      <td>7</td>\n",
       "      <td>42</td>\n",
       "      <td>0</td>\n",
       "      <td>2</td>\n",
       "    </tr>\n",
       "    <tr>\n",
       "      <th>1</th>\n",
       "      <td>8</td>\n",
       "      <td>32</td>\n",
       "      <td>592</td>\n",
       "      <td>83548281046</td>\n",
       "      <td>2</td>\n",
       "      <td>1</td>\n",
       "      <td>109700</td>\n",
       "      <td>0</td>\n",
       "      <td>0</td>\n",
       "      <td>0</td>\n",
       "      <td>1097</td>\n",
       "      <td>4.9</td>\n",
       "      <td>0</td>\n",
       "      <td>4</td>\n",
       "      <td>2</td>\n",
       "      <td>0</td>\n",
       "      <td>3</td>\n",
       "      <td>198</td>\n",
       "      <td>1</td>\n",
       "      <td>2</td>\n",
       "    </tr>\n",
       "    <tr>\n",
       "      <th>2</th>\n",
       "      <td>8</td>\n",
       "      <td>31</td>\n",
       "      <td>381</td>\n",
       "      <td>81193080648</td>\n",
       "      <td>2</td>\n",
       "      <td>1</td>\n",
       "      <td>9900</td>\n",
       "      <td>0</td>\n",
       "      <td>1</td>\n",
       "      <td>0</td>\n",
       "      <td>99</td>\n",
       "      <td>4.6</td>\n",
       "      <td>0</td>\n",
       "      <td>7</td>\n",
       "      <td>1</td>\n",
       "      <td>0</td>\n",
       "      <td>165</td>\n",
       "      <td>333</td>\n",
       "      <td>0</td>\n",
       "      <td>2</td>\n",
       "    </tr>\n",
       "    <tr>\n",
       "      <th>3</th>\n",
       "      <td>8</td>\n",
       "      <td>32</td>\n",
       "      <td>592</td>\n",
       "      <td>83542825647</td>\n",
       "      <td>6</td>\n",
       "      <td>0</td>\n",
       "      <td>254000</td>\n",
       "      <td>0</td>\n",
       "      <td>1</td>\n",
       "      <td>0</td>\n",
       "      <td>2540</td>\n",
       "      <td>4.9</td>\n",
       "      <td>0</td>\n",
       "      <td>4</td>\n",
       "      <td>5</td>\n",
       "      <td>0</td>\n",
       "      <td>4</td>\n",
       "      <td>15</td>\n",
       "      <td>0</td>\n",
       "      <td>2</td>\n",
       "    </tr>\n",
       "    <tr>\n",
       "      <th>4</th>\n",
       "      <td>8</td>\n",
       "      <td>111</td>\n",
       "      <td>145</td>\n",
       "      <td>82237690733</td>\n",
       "      <td>3</td>\n",
       "      <td>0</td>\n",
       "      <td>18900</td>\n",
       "      <td>0</td>\n",
       "      <td>1</td>\n",
       "      <td>0</td>\n",
       "      <td>189</td>\n",
       "      <td>4.6</td>\n",
       "      <td>0</td>\n",
       "      <td>8</td>\n",
       "      <td>9</td>\n",
       "      <td>0</td>\n",
       "      <td>10</td>\n",
       "      <td>53</td>\n",
       "      <td>1</td>\n",
       "      <td>2</td>\n",
       "    </tr>\n",
       "    <tr>\n",
       "      <th>...</th>\n",
       "      <td>...</td>\n",
       "      <td>...</td>\n",
       "      <td>...</td>\n",
       "      <td>...</td>\n",
       "      <td>...</td>\n",
       "      <td>...</td>\n",
       "      <td>...</td>\n",
       "      <td>...</td>\n",
       "      <td>...</td>\n",
       "      <td>...</td>\n",
       "      <td>...</td>\n",
       "      <td>...</td>\n",
       "      <td>...</td>\n",
       "      <td>...</td>\n",
       "      <td>...</td>\n",
       "      <td>...</td>\n",
       "      <td>...</td>\n",
       "      <td>...</td>\n",
       "      <td>...</td>\n",
       "      <td>...</td>\n",
       "    </tr>\n",
       "    <tr>\n",
       "      <th>2805</th>\n",
       "      <td>1</td>\n",
       "      <td>171</td>\n",
       "      <td>650</td>\n",
       "      <td>82552623066</td>\n",
       "      <td>3</td>\n",
       "      <td>1</td>\n",
       "      <td>2700</td>\n",
       "      <td>0</td>\n",
       "      <td>1</td>\n",
       "      <td>1</td>\n",
       "      <td>127</td>\n",
       "      <td>4.8</td>\n",
       "      <td>0</td>\n",
       "      <td>9</td>\n",
       "      <td>0</td>\n",
       "      <td>0</td>\n",
       "      <td>74</td>\n",
       "      <td>7</td>\n",
       "      <td>0</td>\n",
       "      <td>2</td>\n",
       "    </tr>\n",
       "    <tr>\n",
       "      <th>2806</th>\n",
       "      <td>1</td>\n",
       "      <td>89</td>\n",
       "      <td>662</td>\n",
       "      <td>82082215428</td>\n",
       "      <td>4</td>\n",
       "      <td>1</td>\n",
       "      <td>13500</td>\n",
       "      <td>0</td>\n",
       "      <td>0</td>\n",
       "      <td>0</td>\n",
       "      <td>235</td>\n",
       "      <td>4.8</td>\n",
       "      <td>0</td>\n",
       "      <td>9</td>\n",
       "      <td>8</td>\n",
       "      <td>0</td>\n",
       "      <td>131</td>\n",
       "      <td>2</td>\n",
       "      <td>0</td>\n",
       "      <td>2</td>\n",
       "    </tr>\n",
       "    <tr>\n",
       "      <th>2807</th>\n",
       "      <td>1</td>\n",
       "      <td>89</td>\n",
       "      <td>64</td>\n",
       "      <td>82641621108</td>\n",
       "      <td>3</td>\n",
       "      <td>1</td>\n",
       "      <td>15300</td>\n",
       "      <td>0</td>\n",
       "      <td>0</td>\n",
       "      <td>0</td>\n",
       "      <td>153</td>\n",
       "      <td>4.9</td>\n",
       "      <td>0</td>\n",
       "      <td>2</td>\n",
       "      <td>0</td>\n",
       "      <td>0</td>\n",
       "      <td>66</td>\n",
       "      <td>12</td>\n",
       "      <td>1</td>\n",
       "      <td>2</td>\n",
       "    </tr>\n",
       "    <tr>\n",
       "      <th>2808</th>\n",
       "      <td>1</td>\n",
       "      <td>168</td>\n",
       "      <td>627</td>\n",
       "      <td>82471146375</td>\n",
       "      <td>3</td>\n",
       "      <td>1</td>\n",
       "      <td>14400</td>\n",
       "      <td>0</td>\n",
       "      <td>0</td>\n",
       "      <td>0</td>\n",
       "      <td>344</td>\n",
       "      <td>4.8</td>\n",
       "      <td>0</td>\n",
       "      <td>10</td>\n",
       "      <td>6</td>\n",
       "      <td>0</td>\n",
       "      <td>82</td>\n",
       "      <td>2</td>\n",
       "      <td>1</td>\n",
       "      <td>2</td>\n",
       "    </tr>\n",
       "    <tr>\n",
       "      <th>2809</th>\n",
       "      <td>1</td>\n",
       "      <td>145</td>\n",
       "      <td>548</td>\n",
       "      <td>82302807402</td>\n",
       "      <td>3</td>\n",
       "      <td>0</td>\n",
       "      <td>46800</td>\n",
       "      <td>0</td>\n",
       "      <td>0</td>\n",
       "      <td>1</td>\n",
       "      <td>1018</td>\n",
       "      <td>4.9</td>\n",
       "      <td>0</td>\n",
       "      <td>0</td>\n",
       "      <td>0</td>\n",
       "      <td>0</td>\n",
       "      <td>104</td>\n",
       "      <td>4</td>\n",
       "      <td>0</td>\n",
       "      <td>2</td>\n",
       "    </tr>\n",
       "  </tbody>\n",
       "</table>\n",
       "<p>2810 rows × 20 columns</p>\n",
       "</div>"
      ],
      "text/plain": [
       "      카테고리대분류  카테고리중분류  카테고리소분류        상품아이디  판매자등급  굿서비스      가격  이벤트유무  배송비  \\\n",
       "0           8       32      592  83477819660      3     0   99000      0    1   \n",
       "1           8       32      592  83548281046      2     1  109700      0    0   \n",
       "2           8       31      381  81193080648      2     1    9900      0    1   \n",
       "3           8       32      592  83542825647      6     0  254000      0    1   \n",
       "4           8      111      145  82237690733      3     0   18900      0    1   \n",
       "...       ...      ...      ...          ...    ...   ...     ...    ...  ...   \n",
       "2805        1      171      650  82552623066      3     1    2700      0    1   \n",
       "2806        1       89      662  82082215428      4     1   13500      0    0   \n",
       "2807        1       89       64  82641621108      3     1   15300      0    0   \n",
       "2808        1      168      627  82471146375      3     1   14400      0    0   \n",
       "2809        1      145      548  82302807402      3     0   46800      0    0   \n",
       "\n",
       "      배송정보  적립포인트   평점  검색키워드  태그  추가이미지개수  비디오유무  판매기간(주)  리뷰건수증감  쿠폰유무변화  \\\n",
       "0        0    990  4.8      0   5        6      0        7      42       0   \n",
       "1        0   1097  4.9      0   4        2      0        3     198       1   \n",
       "2        0     99  4.6      0   7        1      0      165     333       0   \n",
       "3        0   2540  4.9      0   4        5      0        4      15       0   \n",
       "4        0    189  4.6      0   8        9      0       10      53       1   \n",
       "...    ...    ...  ...    ...  ..      ...    ...      ...     ...     ...   \n",
       "2805     1    127  4.8      0   9        0      0       74       7       0   \n",
       "2806     0    235  4.8      0   9        8      0      131       2       0   \n",
       "2807     0    153  4.9      0   2        0      0       66      12       1   \n",
       "2808     0    344  4.8      0  10        6      0       82       2       1   \n",
       "2809     1   1018  4.9      0   0        0      0      104       4       0   \n",
       "\n",
       "      크리스마스  \n",
       "0         2  \n",
       "1         2  \n",
       "2         2  \n",
       "3         2  \n",
       "4         2  \n",
       "...     ...  \n",
       "2805      2  \n",
       "2806      2  \n",
       "2807      2  \n",
       "2808      2  \n",
       "2809      2  \n",
       "\n",
       "[2810 rows x 20 columns]"
      ]
     },
     "execution_count": 4,
     "metadata": {},
     "output_type": "execute_result"
    }
   ],
   "source": [
    "# 12/10 ~ 12/17 데이터프레임 만들기\n",
    "df1 = pd.read_csv(\n",
    "    'G:/내 드라이브/프로젝트/아자아자2조유통파이팅~!/data/shopping/전체카테고리_20211210.csv')\n",
    "df2 = pd.read_csv(\n",
    "    'G:/내 드라이브/프로젝트/아자아자2조유통파이팅~!/data/shopping/전체카테고리_20211217.csv')\n",
    "df = pd.concat([df1, df2])\n",
    "df.reset_index(inplace=True, drop=True)\n",
    "\n",
    "# 12/10과 12/17에 우리가 쓸 변수의 모든 값이 중복인 상품의 id를 idlist에 담기\n",
    "df = preprocessing(df)\n",
    "df = df[df.duplicated([\n",
    "    '상품아이디', '카테고리대분류', '카테고리중분류', '카테고리소분류', '가격', '판매자등급', '굿서비스', '이벤트유무',\n",
    "    '배송비', '배송정보', '적립포인트', '검색키워드', '태그', '추가이미지개수', '비디오유무', '평점'\n",
    "],\n",
    "                      keep='last')]\n",
    "idlist = list(df['상품아이디'].unique())\n",
    "\n",
    "# merge해서 idlist에 있는 상품만 가지고 오기\n",
    "df_1 = pd.merge(df, preprocessing(df2)[['상품아이디','리뷰건수합', '페이지', '찜하기수', '쿠폰유무']], how='inner', on='상품아이디')\n",
    "df_1 = df_1.query('상품아이디 == @idlist')\n",
    "\n",
    "# 파생변수 추가\n",
    "# df_1['페이지증감'] = df_1['페이지_x'] - df_1['페이지_y']\n",
    "# df_1['찜하기수증감'] = df_1['찜하기수_y'] - df_1['찜하기수_x']\n",
    "df_1['리뷰건수증감'] = df_1['리뷰건수합_y'] - df_1['리뷰건수합_x']\n",
    "df_1['쿠폰유무변화'] = df_1['쿠폰유무_x'] + df_1['쿠폰유무_y']\n",
    "df_1['쿠폰유무변화'] = df_1['쿠폰유무변화'].apply(lambda x: 1 if x == 1 else 0)\n",
    "df_1['크리스마스'] = 2\n",
    "\n",
    "# 필요없는컬럼 제거\n",
    "df_1 = df_1.drop(['순위','리뷰건수합_y','리뷰건수합_x','페이지_x','페이지_y','찜하기수_x','찜하기수_y','쿠폰유무_x', '쿠폰유무_y'], axis=1)\n",
    "df_1"
   ]
  },
  {
   "cell_type": "code",
   "execution_count": 5,
   "id": "b9cbe93c",
   "metadata": {
    "ExecuteTime": {
     "end_time": "2022-01-17T00:16:38.856765Z",
     "start_time": "2022-01-17T00:16:38.398559Z"
    }
   },
   "outputs": [
    {
     "data": {
      "text/html": [
       "<div>\n",
       "<style scoped>\n",
       "    .dataframe tbody tr th:only-of-type {\n",
       "        vertical-align: middle;\n",
       "    }\n",
       "\n",
       "    .dataframe tbody tr th {\n",
       "        vertical-align: top;\n",
       "    }\n",
       "\n",
       "    .dataframe thead th {\n",
       "        text-align: right;\n",
       "    }\n",
       "</style>\n",
       "<table border=\"1\" class=\"dataframe\">\n",
       "  <thead>\n",
       "    <tr style=\"text-align: right;\">\n",
       "      <th></th>\n",
       "      <th>카테고리대분류</th>\n",
       "      <th>카테고리중분류</th>\n",
       "      <th>카테고리소분류</th>\n",
       "      <th>상품아이디</th>\n",
       "      <th>판매자등급</th>\n",
       "      <th>굿서비스</th>\n",
       "      <th>가격</th>\n",
       "      <th>이벤트유무</th>\n",
       "      <th>배송비</th>\n",
       "      <th>배송정보</th>\n",
       "      <th>적립포인트</th>\n",
       "      <th>평점</th>\n",
       "      <th>검색키워드</th>\n",
       "      <th>태그</th>\n",
       "      <th>추가이미지개수</th>\n",
       "      <th>비디오유무</th>\n",
       "      <th>판매기간(주)</th>\n",
       "      <th>리뷰건수증감</th>\n",
       "      <th>쿠폰유무변화</th>\n",
       "      <th>크리스마스</th>\n",
       "    </tr>\n",
       "  </thead>\n",
       "  <tbody>\n",
       "    <tr>\n",
       "      <th>0</th>\n",
       "      <td>8</td>\n",
       "      <td>32</td>\n",
       "      <td>581</td>\n",
       "      <td>83548281046</td>\n",
       "      <td>2</td>\n",
       "      <td>1</td>\n",
       "      <td>109700</td>\n",
       "      <td>0</td>\n",
       "      <td>0</td>\n",
       "      <td>0</td>\n",
       "      <td>1097</td>\n",
       "      <td>4.9</td>\n",
       "      <td>0</td>\n",
       "      <td>4</td>\n",
       "      <td>2</td>\n",
       "      <td>0</td>\n",
       "      <td>4</td>\n",
       "      <td>158</td>\n",
       "      <td>0</td>\n",
       "      <td>1</td>\n",
       "    </tr>\n",
       "    <tr>\n",
       "      <th>1</th>\n",
       "      <td>8</td>\n",
       "      <td>108</td>\n",
       "      <td>558</td>\n",
       "      <td>81729889372</td>\n",
       "      <td>3</td>\n",
       "      <td>1</td>\n",
       "      <td>16900</td>\n",
       "      <td>0</td>\n",
       "      <td>1</td>\n",
       "      <td>0</td>\n",
       "      <td>169</td>\n",
       "      <td>4.2</td>\n",
       "      <td>0</td>\n",
       "      <td>6</td>\n",
       "      <td>9</td>\n",
       "      <td>0</td>\n",
       "      <td>148</td>\n",
       "      <td>201</td>\n",
       "      <td>0</td>\n",
       "      <td>1</td>\n",
       "    </tr>\n",
       "    <tr>\n",
       "      <th>2</th>\n",
       "      <td>8</td>\n",
       "      <td>109</td>\n",
       "      <td>139</td>\n",
       "      <td>82237690733</td>\n",
       "      <td>3</td>\n",
       "      <td>0</td>\n",
       "      <td>18900</td>\n",
       "      <td>0</td>\n",
       "      <td>1</td>\n",
       "      <td>0</td>\n",
       "      <td>189</td>\n",
       "      <td>4.6</td>\n",
       "      <td>0</td>\n",
       "      <td>8</td>\n",
       "      <td>9</td>\n",
       "      <td>0</td>\n",
       "      <td>11</td>\n",
       "      <td>51</td>\n",
       "      <td>0</td>\n",
       "      <td>1</td>\n",
       "    </tr>\n",
       "    <tr>\n",
       "      <th>3</th>\n",
       "      <td>8</td>\n",
       "      <td>32</td>\n",
       "      <td>581</td>\n",
       "      <td>83542825647</td>\n",
       "      <td>6</td>\n",
       "      <td>0</td>\n",
       "      <td>254000</td>\n",
       "      <td>0</td>\n",
       "      <td>1</td>\n",
       "      <td>0</td>\n",
       "      <td>2540</td>\n",
       "      <td>4.9</td>\n",
       "      <td>0</td>\n",
       "      <td>4</td>\n",
       "      <td>5</td>\n",
       "      <td>0</td>\n",
       "      <td>5</td>\n",
       "      <td>16</td>\n",
       "      <td>0</td>\n",
       "      <td>1</td>\n",
       "    </tr>\n",
       "    <tr>\n",
       "      <th>4</th>\n",
       "      <td>8</td>\n",
       "      <td>32</td>\n",
       "      <td>581</td>\n",
       "      <td>83548272147</td>\n",
       "      <td>2</td>\n",
       "      <td>1</td>\n",
       "      <td>159800</td>\n",
       "      <td>0</td>\n",
       "      <td>0</td>\n",
       "      <td>0</td>\n",
       "      <td>1598</td>\n",
       "      <td>5.0</td>\n",
       "      <td>0</td>\n",
       "      <td>4</td>\n",
       "      <td>3</td>\n",
       "      <td>0</td>\n",
       "      <td>2</td>\n",
       "      <td>95</td>\n",
       "      <td>0</td>\n",
       "      <td>1</td>\n",
       "    </tr>\n",
       "    <tr>\n",
       "      <th>...</th>\n",
       "      <td>...</td>\n",
       "      <td>...</td>\n",
       "      <td>...</td>\n",
       "      <td>...</td>\n",
       "      <td>...</td>\n",
       "      <td>...</td>\n",
       "      <td>...</td>\n",
       "      <td>...</td>\n",
       "      <td>...</td>\n",
       "      <td>...</td>\n",
       "      <td>...</td>\n",
       "      <td>...</td>\n",
       "      <td>...</td>\n",
       "      <td>...</td>\n",
       "      <td>...</td>\n",
       "      <td>...</td>\n",
       "      <td>...</td>\n",
       "      <td>...</td>\n",
       "      <td>...</td>\n",
       "      <td>...</td>\n",
       "    </tr>\n",
       "    <tr>\n",
       "      <th>2800</th>\n",
       "      <td>1</td>\n",
       "      <td>126</td>\n",
       "      <td>517</td>\n",
       "      <td>10367829948</td>\n",
       "      <td>3</td>\n",
       "      <td>1</td>\n",
       "      <td>10740</td>\n",
       "      <td>0</td>\n",
       "      <td>0</td>\n",
       "      <td>0</td>\n",
       "      <td>226</td>\n",
       "      <td>4.7</td>\n",
       "      <td>0</td>\n",
       "      <td>5</td>\n",
       "      <td>1</td>\n",
       "      <td>0</td>\n",
       "      <td>273</td>\n",
       "      <td>4</td>\n",
       "      <td>0</td>\n",
       "      <td>1</td>\n",
       "    </tr>\n",
       "    <tr>\n",
       "      <th>2801</th>\n",
       "      <td>1</td>\n",
       "      <td>170</td>\n",
       "      <td>635</td>\n",
       "      <td>81662247442</td>\n",
       "      <td>2</td>\n",
       "      <td>1</td>\n",
       "      <td>8910</td>\n",
       "      <td>0</td>\n",
       "      <td>0</td>\n",
       "      <td>0</td>\n",
       "      <td>178</td>\n",
       "      <td>4.7</td>\n",
       "      <td>0</td>\n",
       "      <td>6</td>\n",
       "      <td>9</td>\n",
       "      <td>0</td>\n",
       "      <td>26</td>\n",
       "      <td>3</td>\n",
       "      <td>0</td>\n",
       "      <td>1</td>\n",
       "    </tr>\n",
       "    <tr>\n",
       "      <th>2802</th>\n",
       "      <td>1</td>\n",
       "      <td>87</td>\n",
       "      <td>44</td>\n",
       "      <td>82492741685</td>\n",
       "      <td>3</td>\n",
       "      <td>1</td>\n",
       "      <td>29700</td>\n",
       "      <td>0</td>\n",
       "      <td>0</td>\n",
       "      <td>0</td>\n",
       "      <td>297</td>\n",
       "      <td>4.9</td>\n",
       "      <td>0</td>\n",
       "      <td>0</td>\n",
       "      <td>1</td>\n",
       "      <td>0</td>\n",
       "      <td>7</td>\n",
       "      <td>2</td>\n",
       "      <td>0</td>\n",
       "      <td>1</td>\n",
       "    </tr>\n",
       "    <tr>\n",
       "      <th>2803</th>\n",
       "      <td>1</td>\n",
       "      <td>14</td>\n",
       "      <td>330</td>\n",
       "      <td>82840902096</td>\n",
       "      <td>3</td>\n",
       "      <td>0</td>\n",
       "      <td>13410</td>\n",
       "      <td>0</td>\n",
       "      <td>0</td>\n",
       "      <td>0</td>\n",
       "      <td>134</td>\n",
       "      <td>4.8</td>\n",
       "      <td>0</td>\n",
       "      <td>0</td>\n",
       "      <td>0</td>\n",
       "      <td>0</td>\n",
       "      <td>51</td>\n",
       "      <td>4</td>\n",
       "      <td>0</td>\n",
       "      <td>1</td>\n",
       "    </tr>\n",
       "    <tr>\n",
       "      <th>2804</th>\n",
       "      <td>1</td>\n",
       "      <td>126</td>\n",
       "      <td>517</td>\n",
       "      <td>82378001197</td>\n",
       "      <td>4</td>\n",
       "      <td>1</td>\n",
       "      <td>8550</td>\n",
       "      <td>0</td>\n",
       "      <td>1</td>\n",
       "      <td>0</td>\n",
       "      <td>85</td>\n",
       "      <td>4.9</td>\n",
       "      <td>0</td>\n",
       "      <td>0</td>\n",
       "      <td>6</td>\n",
       "      <td>0</td>\n",
       "      <td>13</td>\n",
       "      <td>3</td>\n",
       "      <td>0</td>\n",
       "      <td>1</td>\n",
       "    </tr>\n",
       "  </tbody>\n",
       "</table>\n",
       "<p>2805 rows × 20 columns</p>\n",
       "</div>"
      ],
      "text/plain": [
       "      카테고리대분류  카테고리중분류  카테고리소분류        상품아이디  판매자등급  굿서비스      가격  이벤트유무  배송비  \\\n",
       "0           8       32      581  83548281046      2     1  109700      0    0   \n",
       "1           8      108      558  81729889372      3     1   16900      0    1   \n",
       "2           8      109      139  82237690733      3     0   18900      0    1   \n",
       "3           8       32      581  83542825647      6     0  254000      0    1   \n",
       "4           8       32      581  83548272147      2     1  159800      0    0   \n",
       "...       ...      ...      ...          ...    ...   ...     ...    ...  ...   \n",
       "2800        1      126      517  10367829948      3     1   10740      0    0   \n",
       "2801        1      170      635  81662247442      2     1    8910      0    0   \n",
       "2802        1       87       44  82492741685      3     1   29700      0    0   \n",
       "2803        1       14      330  82840902096      3     0   13410      0    0   \n",
       "2804        1      126      517  82378001197      4     1    8550      0    1   \n",
       "\n",
       "      배송정보  적립포인트   평점  검색키워드  태그  추가이미지개수  비디오유무  판매기간(주)  리뷰건수증감  쿠폰유무변화  \\\n",
       "0        0   1097  4.9      0   4        2      0        4     158       0   \n",
       "1        0    169  4.2      0   6        9      0      148     201       0   \n",
       "2        0    189  4.6      0   8        9      0       11      51       0   \n",
       "3        0   2540  4.9      0   4        5      0        5      16       0   \n",
       "4        0   1598  5.0      0   4        3      0        2      95       0   \n",
       "...    ...    ...  ...    ...  ..      ...    ...      ...     ...     ...   \n",
       "2800     0    226  4.7      0   5        1      0      273       4       0   \n",
       "2801     0    178  4.7      0   6        9      0       26       3       0   \n",
       "2802     0    297  4.9      0   0        1      0        7       2       0   \n",
       "2803     0    134  4.8      0   0        0      0       51       4       0   \n",
       "2804     0     85  4.9      0   0        6      0       13       3       0   \n",
       "\n",
       "      크리스마스  \n",
       "0         1  \n",
       "1         1  \n",
       "2         1  \n",
       "3         1  \n",
       "4         1  \n",
       "...     ...  \n",
       "2800      1  \n",
       "2801      1  \n",
       "2802      1  \n",
       "2803      1  \n",
       "2804      1  \n",
       "\n",
       "[2805 rows x 20 columns]"
      ]
     },
     "execution_count": 5,
     "metadata": {},
     "output_type": "execute_result"
    }
   ],
   "source": [
    "# 12/17 ~ 12/24 데이터프레임 만들기\n",
    "df1 = pd.read_csv('G:/내 드라이브/프로젝트/아자아자2조유통파이팅~!/data/shopping/전체카테고리_20211217.csv')\n",
    "df2 = pd.read_csv('G:/내 드라이브/프로젝트/아자아자2조유통파이팅~!/data/shopping/전체카테고리_20211224.csv')\n",
    "df = pd.concat([df1, df2])\n",
    "df.reset_index(inplace=True, drop=True)\n",
    "\n",
    "# 12/10과 12/17에 우리가 쓸 변수의 모든 값이 중복인 상품의 id를 idlist에 담기\n",
    "df = preprocessing(df)\n",
    "df = df[df.duplicated([\n",
    "    '상품아이디', '카테고리대분류', '카테고리중분류', '카테고리소분류', '가격', '판매자등급', '굿서비스', '이벤트유무',\n",
    "    '배송비', '배송정보', '적립포인트', '검색키워드', '태그', '추가이미지개수', '비디오유무', '평점'\n",
    "],\n",
    "                      keep='last')]\n",
    "idlist = list(df['상품아이디'].unique())\n",
    "\n",
    "# merge해서 idlist에 있는 상품만 가지고 오기\n",
    "df_2 = pd.merge(df, preprocessing(df2)[['상품아이디','리뷰건수합', '페이지', '찜하기수', '쿠폰유무']], how='inner', on='상품아이디')\n",
    "df_2 = df_2.query('상품아이디 == @idlist')\n",
    "\n",
    "# 파생변수 추가\n",
    "# df_2['페이지증감'] = df_2['페이지_x'] - df_2['페이지_y']\n",
    "# df_2['찜하기수증감'] = df_2['찜하기수_y'] - df_2['찜하기수_x']\n",
    "df_2['리뷰건수증감'] = df_2['리뷰건수합_y'] - df_2['리뷰건수합_x']\n",
    "df_2['쿠폰유무변화'] = df_2['쿠폰유무_x'] + df_2['쿠폰유무_y']\n",
    "df_2['쿠폰유무변화'] = df_2['쿠폰유무변화'].apply(lambda x: 1 if x == 1 else 0)\n",
    "df_2['크리스마스'] = 1\n",
    "\n",
    "# 필요없는컬럼 제거\n",
    "df_2 = df_2.drop(['순위','리뷰건수합_y','리뷰건수합_x','페이지_x','페이지_y','찜하기수_x','찜하기수_y','쿠폰유무_x', '쿠폰유무_y'], axis=1)\n",
    "df_2"
   ]
  },
  {
   "cell_type": "code",
   "execution_count": 6,
   "id": "ca089a2a",
   "metadata": {
    "ExecuteTime": {
     "end_time": "2022-01-17T00:16:39.329805Z",
     "start_time": "2022-01-17T00:16:38.857714Z"
    }
   },
   "outputs": [
    {
     "data": {
      "text/html": [
       "<div>\n",
       "<style scoped>\n",
       "    .dataframe tbody tr th:only-of-type {\n",
       "        vertical-align: middle;\n",
       "    }\n",
       "\n",
       "    .dataframe tbody tr th {\n",
       "        vertical-align: top;\n",
       "    }\n",
       "\n",
       "    .dataframe thead th {\n",
       "        text-align: right;\n",
       "    }\n",
       "</style>\n",
       "<table border=\"1\" class=\"dataframe\">\n",
       "  <thead>\n",
       "    <tr style=\"text-align: right;\">\n",
       "      <th></th>\n",
       "      <th>카테고리대분류</th>\n",
       "      <th>카테고리중분류</th>\n",
       "      <th>카테고리소분류</th>\n",
       "      <th>상품아이디</th>\n",
       "      <th>판매자등급</th>\n",
       "      <th>굿서비스</th>\n",
       "      <th>가격</th>\n",
       "      <th>이벤트유무</th>\n",
       "      <th>배송비</th>\n",
       "      <th>배송정보</th>\n",
       "      <th>적립포인트</th>\n",
       "      <th>평점</th>\n",
       "      <th>검색키워드</th>\n",
       "      <th>태그</th>\n",
       "      <th>추가이미지개수</th>\n",
       "      <th>비디오유무</th>\n",
       "      <th>판매기간(주)</th>\n",
       "      <th>리뷰건수증감</th>\n",
       "      <th>쿠폰유무변화</th>\n",
       "      <th>크리스마스</th>\n",
       "    </tr>\n",
       "  </thead>\n",
       "  <tbody>\n",
       "    <tr>\n",
       "      <th>0</th>\n",
       "      <td>8</td>\n",
       "      <td>32</td>\n",
       "      <td>580</td>\n",
       "      <td>83542825647</td>\n",
       "      <td>6</td>\n",
       "      <td>0</td>\n",
       "      <td>254000</td>\n",
       "      <td>0</td>\n",
       "      <td>1</td>\n",
       "      <td>0</td>\n",
       "      <td>2540</td>\n",
       "      <td>4.9</td>\n",
       "      <td>0</td>\n",
       "      <td>4</td>\n",
       "      <td>5</td>\n",
       "      <td>0</td>\n",
       "      <td>6</td>\n",
       "      <td>20</td>\n",
       "      <td>0</td>\n",
       "      <td>0</td>\n",
       "    </tr>\n",
       "    <tr>\n",
       "      <th>1</th>\n",
       "      <td>8</td>\n",
       "      <td>32</td>\n",
       "      <td>580</td>\n",
       "      <td>83548281046</td>\n",
       "      <td>2</td>\n",
       "      <td>1</td>\n",
       "      <td>109700</td>\n",
       "      <td>0</td>\n",
       "      <td>0</td>\n",
       "      <td>0</td>\n",
       "      <td>1097</td>\n",
       "      <td>4.9</td>\n",
       "      <td>0</td>\n",
       "      <td>4</td>\n",
       "      <td>2</td>\n",
       "      <td>0</td>\n",
       "      <td>5</td>\n",
       "      <td>112</td>\n",
       "      <td>1</td>\n",
       "      <td>0</td>\n",
       "    </tr>\n",
       "    <tr>\n",
       "      <th>2</th>\n",
       "      <td>8</td>\n",
       "      <td>107</td>\n",
       "      <td>237</td>\n",
       "      <td>83485513012</td>\n",
       "      <td>3</td>\n",
       "      <td>0</td>\n",
       "      <td>14800</td>\n",
       "      <td>0</td>\n",
       "      <td>0</td>\n",
       "      <td>0</td>\n",
       "      <td>148</td>\n",
       "      <td>4.7</td>\n",
       "      <td>0</td>\n",
       "      <td>2</td>\n",
       "      <td>0</td>\n",
       "      <td>0</td>\n",
       "      <td>9</td>\n",
       "      <td>140</td>\n",
       "      <td>0</td>\n",
       "      <td>0</td>\n",
       "    </tr>\n",
       "    <tr>\n",
       "      <th>3</th>\n",
       "      <td>8</td>\n",
       "      <td>31</td>\n",
       "      <td>738</td>\n",
       "      <td>82902367973</td>\n",
       "      <td>3</td>\n",
       "      <td>1</td>\n",
       "      <td>38800</td>\n",
       "      <td>0</td>\n",
       "      <td>0</td>\n",
       "      <td>1</td>\n",
       "      <td>388</td>\n",
       "      <td>4.7</td>\n",
       "      <td>0</td>\n",
       "      <td>5</td>\n",
       "      <td>4</td>\n",
       "      <td>0</td>\n",
       "      <td>47</td>\n",
       "      <td>166</td>\n",
       "      <td>0</td>\n",
       "      <td>0</td>\n",
       "    </tr>\n",
       "    <tr>\n",
       "      <th>4</th>\n",
       "      <td>8</td>\n",
       "      <td>32</td>\n",
       "      <td>678</td>\n",
       "      <td>82138703883</td>\n",
       "      <td>3</td>\n",
       "      <td>0</td>\n",
       "      <td>149000</td>\n",
       "      <td>0</td>\n",
       "      <td>0</td>\n",
       "      <td>0</td>\n",
       "      <td>1490</td>\n",
       "      <td>4.8</td>\n",
       "      <td>0</td>\n",
       "      <td>5</td>\n",
       "      <td>3</td>\n",
       "      <td>1</td>\n",
       "      <td>9</td>\n",
       "      <td>9</td>\n",
       "      <td>1</td>\n",
       "      <td>0</td>\n",
       "    </tr>\n",
       "    <tr>\n",
       "      <th>...</th>\n",
       "      <td>...</td>\n",
       "      <td>...</td>\n",
       "      <td>...</td>\n",
       "      <td>...</td>\n",
       "      <td>...</td>\n",
       "      <td>...</td>\n",
       "      <td>...</td>\n",
       "      <td>...</td>\n",
       "      <td>...</td>\n",
       "      <td>...</td>\n",
       "      <td>...</td>\n",
       "      <td>...</td>\n",
       "      <td>...</td>\n",
       "      <td>...</td>\n",
       "      <td>...</td>\n",
       "      <td>...</td>\n",
       "      <td>...</td>\n",
       "      <td>...</td>\n",
       "      <td>...</td>\n",
       "      <td>...</td>\n",
       "    </tr>\n",
       "    <tr>\n",
       "      <th>2845</th>\n",
       "      <td>1</td>\n",
       "      <td>86</td>\n",
       "      <td>671</td>\n",
       "      <td>81468183722</td>\n",
       "      <td>3</td>\n",
       "      <td>1</td>\n",
       "      <td>18000</td>\n",
       "      <td>0</td>\n",
       "      <td>0</td>\n",
       "      <td>1</td>\n",
       "      <td>190</td>\n",
       "      <td>4.8</td>\n",
       "      <td>0</td>\n",
       "      <td>2</td>\n",
       "      <td>8</td>\n",
       "      <td>0</td>\n",
       "      <td>158</td>\n",
       "      <td>0</td>\n",
       "      <td>1</td>\n",
       "      <td>0</td>\n",
       "    </tr>\n",
       "    <tr>\n",
       "      <th>2846</th>\n",
       "      <td>1</td>\n",
       "      <td>163</td>\n",
       "      <td>614</td>\n",
       "      <td>9420669865</td>\n",
       "      <td>3</td>\n",
       "      <td>1</td>\n",
       "      <td>9900</td>\n",
       "      <td>0</td>\n",
       "      <td>0</td>\n",
       "      <td>1</td>\n",
       "      <td>297</td>\n",
       "      <td>4.8</td>\n",
       "      <td>0</td>\n",
       "      <td>8</td>\n",
       "      <td>1</td>\n",
       "      <td>0</td>\n",
       "      <td>47</td>\n",
       "      <td>6</td>\n",
       "      <td>0</td>\n",
       "      <td>0</td>\n",
       "    </tr>\n",
       "    <tr>\n",
       "      <th>2847</th>\n",
       "      <td>1</td>\n",
       "      <td>86</td>\n",
       "      <td>66</td>\n",
       "      <td>82356126910</td>\n",
       "      <td>3</td>\n",
       "      <td>0</td>\n",
       "      <td>36900</td>\n",
       "      <td>0</td>\n",
       "      <td>0</td>\n",
       "      <td>0</td>\n",
       "      <td>369</td>\n",
       "      <td>4.7</td>\n",
       "      <td>0</td>\n",
       "      <td>9</td>\n",
       "      <td>0</td>\n",
       "      <td>0</td>\n",
       "      <td>98</td>\n",
       "      <td>6</td>\n",
       "      <td>1</td>\n",
       "      <td>0</td>\n",
       "    </tr>\n",
       "    <tr>\n",
       "      <th>2848</th>\n",
       "      <td>1</td>\n",
       "      <td>157</td>\n",
       "      <td>32</td>\n",
       "      <td>6726944842</td>\n",
       "      <td>3</td>\n",
       "      <td>0</td>\n",
       "      <td>18000</td>\n",
       "      <td>1</td>\n",
       "      <td>0</td>\n",
       "      <td>1</td>\n",
       "      <td>180</td>\n",
       "      <td>4.9</td>\n",
       "      <td>0</td>\n",
       "      <td>2</td>\n",
       "      <td>0</td>\n",
       "      <td>0</td>\n",
       "      <td>467</td>\n",
       "      <td>3</td>\n",
       "      <td>1</td>\n",
       "      <td>0</td>\n",
       "    </tr>\n",
       "    <tr>\n",
       "      <th>2849</th>\n",
       "      <td>1</td>\n",
       "      <td>12</td>\n",
       "      <td>45</td>\n",
       "      <td>29220221965</td>\n",
       "      <td>1</td>\n",
       "      <td>0</td>\n",
       "      <td>15190</td>\n",
       "      <td>1</td>\n",
       "      <td>0</td>\n",
       "      <td>0</td>\n",
       "      <td>0</td>\n",
       "      <td>4.8</td>\n",
       "      <td>0</td>\n",
       "      <td>0</td>\n",
       "      <td>0</td>\n",
       "      <td>0</td>\n",
       "      <td>10</td>\n",
       "      <td>1</td>\n",
       "      <td>0</td>\n",
       "      <td>0</td>\n",
       "    </tr>\n",
       "  </tbody>\n",
       "</table>\n",
       "<p>2850 rows × 20 columns</p>\n",
       "</div>"
      ],
      "text/plain": [
       "      카테고리대분류  카테고리중분류  카테고리소분류        상품아이디  판매자등급  굿서비스      가격  이벤트유무  배송비  \\\n",
       "0           8       32      580  83542825647      6     0  254000      0    1   \n",
       "1           8       32      580  83548281046      2     1  109700      0    0   \n",
       "2           8      107      237  83485513012      3     0   14800      0    0   \n",
       "3           8       31      738  82902367973      3     1   38800      0    0   \n",
       "4           8       32      678  82138703883      3     0  149000      0    0   \n",
       "...       ...      ...      ...          ...    ...   ...     ...    ...  ...   \n",
       "2845        1       86      671  81468183722      3     1   18000      0    0   \n",
       "2846        1      163      614   9420669865      3     1    9900      0    0   \n",
       "2847        1       86       66  82356126910      3     0   36900      0    0   \n",
       "2848        1      157       32   6726944842      3     0   18000      1    0   \n",
       "2849        1       12       45  29220221965      1     0   15190      1    0   \n",
       "\n",
       "      배송정보  적립포인트   평점  검색키워드  태그  추가이미지개수  비디오유무  판매기간(주)  리뷰건수증감  쿠폰유무변화  \\\n",
       "0        0   2540  4.9      0   4        5      0        6      20       0   \n",
       "1        0   1097  4.9      0   4        2      0        5     112       1   \n",
       "2        0    148  4.7      0   2        0      0        9     140       0   \n",
       "3        1    388  4.7      0   5        4      0       47     166       0   \n",
       "4        0   1490  4.8      0   5        3      1        9       9       1   \n",
       "...    ...    ...  ...    ...  ..      ...    ...      ...     ...     ...   \n",
       "2845     1    190  4.8      0   2        8      0      158       0       1   \n",
       "2846     1    297  4.8      0   8        1      0       47       6       0   \n",
       "2847     0    369  4.7      0   9        0      0       98       6       1   \n",
       "2848     1    180  4.9      0   2        0      0      467       3       1   \n",
       "2849     0      0  4.8      0   0        0      0       10       1       0   \n",
       "\n",
       "      크리스마스  \n",
       "0         0  \n",
       "1         0  \n",
       "2         0  \n",
       "3         0  \n",
       "4         0  \n",
       "...     ...  \n",
       "2845      0  \n",
       "2846      0  \n",
       "2847      0  \n",
       "2848      0  \n",
       "2849      0  \n",
       "\n",
       "[2850 rows x 20 columns]"
      ]
     },
     "execution_count": 6,
     "metadata": {},
     "output_type": "execute_result"
    }
   ],
   "source": [
    "# 12/24 ~ 12/31 데이터프레임 만들기\n",
    "df1 = pd.read_csv('G:/내 드라이브/프로젝트/아자아자2조유통파이팅~!/data/shopping/전체카테고리_20211224.csv')\n",
    "df2 = pd.read_csv('G:/내 드라이브/프로젝트/아자아자2조유통파이팅~!/data/shopping/전체카테고리_20211231.csv')\n",
    "df = pd.concat([df1, df2])\n",
    "df.reset_index(inplace=True, drop=True)\n",
    "\n",
    "# 12/10과 12/17에 우리가 쓸 변수의 모든 값이 중복인 상품의 id를 idlist에 담기\n",
    "df = preprocessing(df)\n",
    "df = df[df.duplicated([\n",
    "    '상품아이디', '카테고리대분류', '카테고리중분류', '카테고리소분류', '가격', '판매자등급', '굿서비스', '이벤트유무',\n",
    "    '배송비', '배송정보', '적립포인트', '검색키워드', '태그', '추가이미지개수', '비디오유무', '평점'\n",
    "],\n",
    "                      keep='last')]\n",
    "idlist = list(df['상품아이디'].unique())\n",
    "\n",
    "# merge해서 idlist에 있는 상품만 가지고 오기\n",
    "df_3 = pd.merge(df, preprocessing(df2)[['상품아이디','리뷰건수합', '페이지', '찜하기수', '쿠폰유무']], how='inner', on='상품아이디')\n",
    "df_3 = df_3.query('상품아이디 == @idlist')\n",
    "\n",
    "# 파생변수 추가\n",
    "# df_3['페이지증감'] = df_3['페이지_x'] - df_3['페이지_y']\n",
    "# df_3['찜하기수증감'] = df_3['찜하기수_y'] - df_3['찜하기수_x']\n",
    "df_3['리뷰건수증감'] = df_3['리뷰건수합_y'] - df_3['리뷰건수합_x']\n",
    "df_3['쿠폰유무변화'] = df_3['쿠폰유무_x'] + df_3['쿠폰유무_y']\n",
    "df_3['쿠폰유무변화'] = df_3['쿠폰유무변화'].apply(lambda x: 1 if x == 1 else 0)\n",
    "df_3['크리스마스'] = 0\n",
    "\n",
    "# 필요없는컬럼 제거\n",
    "df_3 = df_3.drop(['순위','리뷰건수합_y','리뷰건수합_x','페이지_x','페이지_y','찜하기수_x','찜하기수_y','쿠폰유무_x', '쿠폰유무_y'], axis=1)\n",
    "df_3"
   ]
  },
  {
   "cell_type": "code",
   "execution_count": 7,
   "id": "9919782d",
   "metadata": {
    "ExecuteTime": {
     "end_time": "2022-01-17T00:16:39.360724Z",
     "start_time": "2022-01-17T00:16:39.331801Z"
    }
   },
   "outputs": [
    {
     "data": {
      "text/html": [
       "<div>\n",
       "<style scoped>\n",
       "    .dataframe tbody tr th:only-of-type {\n",
       "        vertical-align: middle;\n",
       "    }\n",
       "\n",
       "    .dataframe tbody tr th {\n",
       "        vertical-align: top;\n",
       "    }\n",
       "\n",
       "    .dataframe thead th {\n",
       "        text-align: right;\n",
       "    }\n",
       "</style>\n",
       "<table border=\"1\" class=\"dataframe\">\n",
       "  <thead>\n",
       "    <tr style=\"text-align: right;\">\n",
       "      <th></th>\n",
       "      <th>카테고리대분류</th>\n",
       "      <th>카테고리중분류</th>\n",
       "      <th>카테고리소분류</th>\n",
       "      <th>판매자등급</th>\n",
       "      <th>굿서비스</th>\n",
       "      <th>가격</th>\n",
       "      <th>이벤트유무</th>\n",
       "      <th>배송비</th>\n",
       "      <th>배송정보</th>\n",
       "      <th>적립포인트</th>\n",
       "      <th>평점</th>\n",
       "      <th>검색키워드</th>\n",
       "      <th>태그</th>\n",
       "      <th>추가이미지개수</th>\n",
       "      <th>비디오유무</th>\n",
       "      <th>판매기간(주)</th>\n",
       "      <th>리뷰건수증감</th>\n",
       "      <th>쿠폰유무변화</th>\n",
       "      <th>크리스마스</th>\n",
       "    </tr>\n",
       "  </thead>\n",
       "  <tbody>\n",
       "    <tr>\n",
       "      <th>0</th>\n",
       "      <td>8</td>\n",
       "      <td>32</td>\n",
       "      <td>592</td>\n",
       "      <td>3</td>\n",
       "      <td>0</td>\n",
       "      <td>99000</td>\n",
       "      <td>0</td>\n",
       "      <td>1</td>\n",
       "      <td>0</td>\n",
       "      <td>990</td>\n",
       "      <td>4.8</td>\n",
       "      <td>0</td>\n",
       "      <td>5</td>\n",
       "      <td>6</td>\n",
       "      <td>0</td>\n",
       "      <td>7</td>\n",
       "      <td>42</td>\n",
       "      <td>0</td>\n",
       "      <td>2</td>\n",
       "    </tr>\n",
       "    <tr>\n",
       "      <th>1</th>\n",
       "      <td>8</td>\n",
       "      <td>32</td>\n",
       "      <td>592</td>\n",
       "      <td>2</td>\n",
       "      <td>1</td>\n",
       "      <td>109700</td>\n",
       "      <td>0</td>\n",
       "      <td>0</td>\n",
       "      <td>0</td>\n",
       "      <td>1097</td>\n",
       "      <td>4.9</td>\n",
       "      <td>0</td>\n",
       "      <td>4</td>\n",
       "      <td>2</td>\n",
       "      <td>0</td>\n",
       "      <td>3</td>\n",
       "      <td>198</td>\n",
       "      <td>1</td>\n",
       "      <td>2</td>\n",
       "    </tr>\n",
       "    <tr>\n",
       "      <th>2</th>\n",
       "      <td>8</td>\n",
       "      <td>31</td>\n",
       "      <td>381</td>\n",
       "      <td>2</td>\n",
       "      <td>1</td>\n",
       "      <td>9900</td>\n",
       "      <td>0</td>\n",
       "      <td>1</td>\n",
       "      <td>0</td>\n",
       "      <td>99</td>\n",
       "      <td>4.6</td>\n",
       "      <td>0</td>\n",
       "      <td>7</td>\n",
       "      <td>1</td>\n",
       "      <td>0</td>\n",
       "      <td>165</td>\n",
       "      <td>333</td>\n",
       "      <td>0</td>\n",
       "      <td>2</td>\n",
       "    </tr>\n",
       "    <tr>\n",
       "      <th>3</th>\n",
       "      <td>8</td>\n",
       "      <td>32</td>\n",
       "      <td>592</td>\n",
       "      <td>6</td>\n",
       "      <td>0</td>\n",
       "      <td>254000</td>\n",
       "      <td>0</td>\n",
       "      <td>1</td>\n",
       "      <td>0</td>\n",
       "      <td>2540</td>\n",
       "      <td>4.9</td>\n",
       "      <td>0</td>\n",
       "      <td>4</td>\n",
       "      <td>5</td>\n",
       "      <td>0</td>\n",
       "      <td>4</td>\n",
       "      <td>15</td>\n",
       "      <td>0</td>\n",
       "      <td>2</td>\n",
       "    </tr>\n",
       "    <tr>\n",
       "      <th>4</th>\n",
       "      <td>8</td>\n",
       "      <td>111</td>\n",
       "      <td>145</td>\n",
       "      <td>3</td>\n",
       "      <td>0</td>\n",
       "      <td>18900</td>\n",
       "      <td>0</td>\n",
       "      <td>1</td>\n",
       "      <td>0</td>\n",
       "      <td>189</td>\n",
       "      <td>4.6</td>\n",
       "      <td>0</td>\n",
       "      <td>8</td>\n",
       "      <td>9</td>\n",
       "      <td>0</td>\n",
       "      <td>10</td>\n",
       "      <td>53</td>\n",
       "      <td>1</td>\n",
       "      <td>2</td>\n",
       "    </tr>\n",
       "    <tr>\n",
       "      <th>...</th>\n",
       "      <td>...</td>\n",
       "      <td>...</td>\n",
       "      <td>...</td>\n",
       "      <td>...</td>\n",
       "      <td>...</td>\n",
       "      <td>...</td>\n",
       "      <td>...</td>\n",
       "      <td>...</td>\n",
       "      <td>...</td>\n",
       "      <td>...</td>\n",
       "      <td>...</td>\n",
       "      <td>...</td>\n",
       "      <td>...</td>\n",
       "      <td>...</td>\n",
       "      <td>...</td>\n",
       "      <td>...</td>\n",
       "      <td>...</td>\n",
       "      <td>...</td>\n",
       "      <td>...</td>\n",
       "    </tr>\n",
       "    <tr>\n",
       "      <th>8415</th>\n",
       "      <td>1</td>\n",
       "      <td>86</td>\n",
       "      <td>671</td>\n",
       "      <td>3</td>\n",
       "      <td>1</td>\n",
       "      <td>18000</td>\n",
       "      <td>0</td>\n",
       "      <td>0</td>\n",
       "      <td>1</td>\n",
       "      <td>190</td>\n",
       "      <td>4.8</td>\n",
       "      <td>0</td>\n",
       "      <td>2</td>\n",
       "      <td>8</td>\n",
       "      <td>0</td>\n",
       "      <td>158</td>\n",
       "      <td>0</td>\n",
       "      <td>1</td>\n",
       "      <td>0</td>\n",
       "    </tr>\n",
       "    <tr>\n",
       "      <th>8416</th>\n",
       "      <td>1</td>\n",
       "      <td>163</td>\n",
       "      <td>614</td>\n",
       "      <td>3</td>\n",
       "      <td>1</td>\n",
       "      <td>9900</td>\n",
       "      <td>0</td>\n",
       "      <td>0</td>\n",
       "      <td>1</td>\n",
       "      <td>297</td>\n",
       "      <td>4.8</td>\n",
       "      <td>0</td>\n",
       "      <td>8</td>\n",
       "      <td>1</td>\n",
       "      <td>0</td>\n",
       "      <td>47</td>\n",
       "      <td>6</td>\n",
       "      <td>0</td>\n",
       "      <td>0</td>\n",
       "    </tr>\n",
       "    <tr>\n",
       "      <th>8417</th>\n",
       "      <td>1</td>\n",
       "      <td>86</td>\n",
       "      <td>66</td>\n",
       "      <td>3</td>\n",
       "      <td>0</td>\n",
       "      <td>36900</td>\n",
       "      <td>0</td>\n",
       "      <td>0</td>\n",
       "      <td>0</td>\n",
       "      <td>369</td>\n",
       "      <td>4.7</td>\n",
       "      <td>0</td>\n",
       "      <td>9</td>\n",
       "      <td>0</td>\n",
       "      <td>0</td>\n",
       "      <td>98</td>\n",
       "      <td>6</td>\n",
       "      <td>1</td>\n",
       "      <td>0</td>\n",
       "    </tr>\n",
       "    <tr>\n",
       "      <th>8418</th>\n",
       "      <td>1</td>\n",
       "      <td>157</td>\n",
       "      <td>32</td>\n",
       "      <td>3</td>\n",
       "      <td>0</td>\n",
       "      <td>18000</td>\n",
       "      <td>1</td>\n",
       "      <td>0</td>\n",
       "      <td>1</td>\n",
       "      <td>180</td>\n",
       "      <td>4.9</td>\n",
       "      <td>0</td>\n",
       "      <td>2</td>\n",
       "      <td>0</td>\n",
       "      <td>0</td>\n",
       "      <td>467</td>\n",
       "      <td>3</td>\n",
       "      <td>1</td>\n",
       "      <td>0</td>\n",
       "    </tr>\n",
       "    <tr>\n",
       "      <th>8419</th>\n",
       "      <td>1</td>\n",
       "      <td>12</td>\n",
       "      <td>45</td>\n",
       "      <td>1</td>\n",
       "      <td>0</td>\n",
       "      <td>15190</td>\n",
       "      <td>1</td>\n",
       "      <td>0</td>\n",
       "      <td>0</td>\n",
       "      <td>0</td>\n",
       "      <td>4.8</td>\n",
       "      <td>0</td>\n",
       "      <td>0</td>\n",
       "      <td>0</td>\n",
       "      <td>0</td>\n",
       "      <td>10</td>\n",
       "      <td>1</td>\n",
       "      <td>0</td>\n",
       "      <td>0</td>\n",
       "    </tr>\n",
       "  </tbody>\n",
       "</table>\n",
       "<p>8420 rows × 19 columns</p>\n",
       "</div>"
      ],
      "text/plain": [
       "      카테고리대분류  카테고리중분류  카테고리소분류  판매자등급  굿서비스      가격  이벤트유무  배송비  배송정보  적립포인트  \\\n",
       "0           8       32      592      3     0   99000      0    1     0    990   \n",
       "1           8       32      592      2     1  109700      0    0     0   1097   \n",
       "2           8       31      381      2     1    9900      0    1     0     99   \n",
       "3           8       32      592      6     0  254000      0    1     0   2540   \n",
       "4           8      111      145      3     0   18900      0    1     0    189   \n",
       "...       ...      ...      ...    ...   ...     ...    ...  ...   ...    ...   \n",
       "8415        1       86      671      3     1   18000      0    0     1    190   \n",
       "8416        1      163      614      3     1    9900      0    0     1    297   \n",
       "8417        1       86       66      3     0   36900      0    0     0    369   \n",
       "8418        1      157       32      3     0   18000      1    0     1    180   \n",
       "8419        1       12       45      1     0   15190      1    0     0      0   \n",
       "\n",
       "       평점  검색키워드  태그  추가이미지개수  비디오유무  판매기간(주)  리뷰건수증감  쿠폰유무변화  크리스마스  \n",
       "0     4.8      0   5        6      0        7      42       0      2  \n",
       "1     4.9      0   4        2      0        3     198       1      2  \n",
       "2     4.6      0   7        1      0      165     333       0      2  \n",
       "3     4.9      0   4        5      0        4      15       0      2  \n",
       "4     4.6      0   8        9      0       10      53       1      2  \n",
       "...   ...    ...  ..      ...    ...      ...     ...     ...    ...  \n",
       "8415  4.8      0   2        8      0      158       0       1      0  \n",
       "8416  4.8      0   8        1      0       47       6       0      0  \n",
       "8417  4.7      0   9        0      0       98       6       1      0  \n",
       "8418  4.9      0   2        0      0      467       3       1      0  \n",
       "8419  4.8      0   0        0      0       10       1       0      0  \n",
       "\n",
       "[8420 rows x 19 columns]"
      ]
     },
     "execution_count": 7,
     "metadata": {},
     "output_type": "execute_result"
    }
   ],
   "source": [
    "df = pd.concat([df_1, df_2, df_3])\n",
    "outlier = list(df[df['리뷰건수증감']<0]['상품아이디'].unique())\n",
    "df = df.query('상품아이디 != @outlier')\n",
    "df = df.drop('상품아이디', axis = 1)\n",
    "df.reset_index(inplace=True, drop=True); df"
   ]
  },
  {
   "cell_type": "code",
   "execution_count": 8,
   "id": "1dea235a",
   "metadata": {
    "ExecuteTime": {
     "end_time": "2022-01-17T00:16:39.376716Z",
     "start_time": "2022-01-17T00:16:39.361722Z"
    }
   },
   "outputs": [],
   "source": [
    "# df.to_csv('finaldf.csv', index=False, encoding='UTF-8 sig')"
   ]
  },
  {
   "cell_type": "code",
   "execution_count": 9,
   "id": "400d08be",
   "metadata": {
    "ExecuteTime": {
     "end_time": "2022-01-17T00:16:39.422593Z",
     "start_time": "2022-01-17T00:16:39.377678Z"
    }
   },
   "outputs": [
    {
     "data": {
      "text/html": [
       "<div>\n",
       "<style scoped>\n",
       "    .dataframe tbody tr th:only-of-type {\n",
       "        vertical-align: middle;\n",
       "    }\n",
       "\n",
       "    .dataframe tbody tr th {\n",
       "        vertical-align: top;\n",
       "    }\n",
       "\n",
       "    .dataframe thead th {\n",
       "        text-align: right;\n",
       "    }\n",
       "</style>\n",
       "<table border=\"1\" class=\"dataframe\">\n",
       "  <thead>\n",
       "    <tr style=\"text-align: right;\">\n",
       "      <th></th>\n",
       "      <th>카테고리대분류</th>\n",
       "      <th>카테고리중분류</th>\n",
       "      <th>카테고리소분류</th>\n",
       "      <th>상품아이디</th>\n",
       "      <th>판매자등급</th>\n",
       "      <th>굿서비스</th>\n",
       "      <th>가격</th>\n",
       "      <th>이벤트유무</th>\n",
       "      <th>배송비</th>\n",
       "      <th>배송정보</th>\n",
       "      <th>적립포인트</th>\n",
       "      <th>평점</th>\n",
       "      <th>검색키워드</th>\n",
       "      <th>태그</th>\n",
       "      <th>추가이미지개수</th>\n",
       "      <th>비디오유무</th>\n",
       "      <th>판매기간(주)</th>\n",
       "      <th>리뷰건수증감</th>\n",
       "      <th>쿠폰유무변화</th>\n",
       "      <th>크리스마스</th>\n",
       "    </tr>\n",
       "  </thead>\n",
       "  <tbody>\n",
       "    <tr>\n",
       "      <th>0</th>\n",
       "      <td>8</td>\n",
       "      <td>32</td>\n",
       "      <td>595</td>\n",
       "      <td>83542825647</td>\n",
       "      <td>3</td>\n",
       "      <td>0</td>\n",
       "      <td>254000</td>\n",
       "      <td>0</td>\n",
       "      <td>1</td>\n",
       "      <td>0</td>\n",
       "      <td>2540</td>\n",
       "      <td>4.9</td>\n",
       "      <td>0</td>\n",
       "      <td>4</td>\n",
       "      <td>5</td>\n",
       "      <td>0</td>\n",
       "      <td>7</td>\n",
       "      <td>7</td>\n",
       "      <td>0</td>\n",
       "      <td>9</td>\n",
       "    </tr>\n",
       "    <tr>\n",
       "      <th>1</th>\n",
       "      <td>8</td>\n",
       "      <td>32</td>\n",
       "      <td>595</td>\n",
       "      <td>83548281046</td>\n",
       "      <td>3</td>\n",
       "      <td>0</td>\n",
       "      <td>109700</td>\n",
       "      <td>0</td>\n",
       "      <td>0</td>\n",
       "      <td>0</td>\n",
       "      <td>1097</td>\n",
       "      <td>4.9</td>\n",
       "      <td>0</td>\n",
       "      <td>4</td>\n",
       "      <td>2</td>\n",
       "      <td>0</td>\n",
       "      <td>6</td>\n",
       "      <td>97</td>\n",
       "      <td>0</td>\n",
       "      <td>9</td>\n",
       "    </tr>\n",
       "    <tr>\n",
       "      <th>2</th>\n",
       "      <td>8</td>\n",
       "      <td>32</td>\n",
       "      <td>698</td>\n",
       "      <td>82138703883</td>\n",
       "      <td>3</td>\n",
       "      <td>0</td>\n",
       "      <td>149000</td>\n",
       "      <td>0</td>\n",
       "      <td>0</td>\n",
       "      <td>0</td>\n",
       "      <td>1490</td>\n",
       "      <td>4.8</td>\n",
       "      <td>0</td>\n",
       "      <td>5</td>\n",
       "      <td>3</td>\n",
       "      <td>1</td>\n",
       "      <td>11</td>\n",
       "      <td>23</td>\n",
       "      <td>0</td>\n",
       "      <td>9</td>\n",
       "    </tr>\n",
       "    <tr>\n",
       "      <th>3</th>\n",
       "      <td>8</td>\n",
       "      <td>32</td>\n",
       "      <td>237</td>\n",
       "      <td>83221694282</td>\n",
       "      <td>3</td>\n",
       "      <td>0</td>\n",
       "      <td>18700</td>\n",
       "      <td>0</td>\n",
       "      <td>1</td>\n",
       "      <td>0</td>\n",
       "      <td>187</td>\n",
       "      <td>4.7</td>\n",
       "      <td>0</td>\n",
       "      <td>2</td>\n",
       "      <td>8</td>\n",
       "      <td>0</td>\n",
       "      <td>27</td>\n",
       "      <td>156</td>\n",
       "      <td>0</td>\n",
       "      <td>9</td>\n",
       "    </tr>\n",
       "    <tr>\n",
       "      <th>4</th>\n",
       "      <td>8</td>\n",
       "      <td>108</td>\n",
       "      <td>237</td>\n",
       "      <td>82796977545</td>\n",
       "      <td>3</td>\n",
       "      <td>0</td>\n",
       "      <td>20900</td>\n",
       "      <td>0</td>\n",
       "      <td>0</td>\n",
       "      <td>0</td>\n",
       "      <td>209</td>\n",
       "      <td>4.6</td>\n",
       "      <td>0</td>\n",
       "      <td>3</td>\n",
       "      <td>0</td>\n",
       "      <td>0</td>\n",
       "      <td>12</td>\n",
       "      <td>32</td>\n",
       "      <td>0</td>\n",
       "      <td>9</td>\n",
       "    </tr>\n",
       "    <tr>\n",
       "      <th>...</th>\n",
       "      <td>...</td>\n",
       "      <td>...</td>\n",
       "      <td>...</td>\n",
       "      <td>...</td>\n",
       "      <td>...</td>\n",
       "      <td>...</td>\n",
       "      <td>...</td>\n",
       "      <td>...</td>\n",
       "      <td>...</td>\n",
       "      <td>...</td>\n",
       "      <td>...</td>\n",
       "      <td>...</td>\n",
       "      <td>...</td>\n",
       "      <td>...</td>\n",
       "      <td>...</td>\n",
       "      <td>...</td>\n",
       "      <td>...</td>\n",
       "      <td>...</td>\n",
       "      <td>...</td>\n",
       "      <td>...</td>\n",
       "    </tr>\n",
       "    <tr>\n",
       "      <th>2760</th>\n",
       "      <td>1</td>\n",
       "      <td>88</td>\n",
       "      <td>43</td>\n",
       "      <td>82264181984</td>\n",
       "      <td>3</td>\n",
       "      <td>0</td>\n",
       "      <td>33300</td>\n",
       "      <td>1</td>\n",
       "      <td>0</td>\n",
       "      <td>0</td>\n",
       "      <td>743</td>\n",
       "      <td>4.7</td>\n",
       "      <td>0</td>\n",
       "      <td>3</td>\n",
       "      <td>9</td>\n",
       "      <td>0</td>\n",
       "      <td>51</td>\n",
       "      <td>0</td>\n",
       "      <td>0</td>\n",
       "      <td>9</td>\n",
       "    </tr>\n",
       "    <tr>\n",
       "      <th>2761</th>\n",
       "      <td>1</td>\n",
       "      <td>88</td>\n",
       "      <td>691</td>\n",
       "      <td>81468183722</td>\n",
       "      <td>3</td>\n",
       "      <td>1</td>\n",
       "      <td>18000</td>\n",
       "      <td>0</td>\n",
       "      <td>0</td>\n",
       "      <td>1</td>\n",
       "      <td>280</td>\n",
       "      <td>4.8</td>\n",
       "      <td>0</td>\n",
       "      <td>2</td>\n",
       "      <td>8</td>\n",
       "      <td>0</td>\n",
       "      <td>159</td>\n",
       "      <td>8</td>\n",
       "      <td>0</td>\n",
       "      <td>9</td>\n",
       "    </tr>\n",
       "    <tr>\n",
       "      <th>2762</th>\n",
       "      <td>1</td>\n",
       "      <td>123</td>\n",
       "      <td>528</td>\n",
       "      <td>82105843751</td>\n",
       "      <td>3</td>\n",
       "      <td>0</td>\n",
       "      <td>19800</td>\n",
       "      <td>0</td>\n",
       "      <td>0</td>\n",
       "      <td>0</td>\n",
       "      <td>198</td>\n",
       "      <td>4.7</td>\n",
       "      <td>0</td>\n",
       "      <td>0</td>\n",
       "      <td>0</td>\n",
       "      <td>0</td>\n",
       "      <td>132</td>\n",
       "      <td>7</td>\n",
       "      <td>0</td>\n",
       "      <td>9</td>\n",
       "    </tr>\n",
       "    <tr>\n",
       "      <th>2763</th>\n",
       "      <td>1</td>\n",
       "      <td>140</td>\n",
       "      <td>546</td>\n",
       "      <td>82986209241</td>\n",
       "      <td>3</td>\n",
       "      <td>1</td>\n",
       "      <td>29700</td>\n",
       "      <td>0</td>\n",
       "      <td>0</td>\n",
       "      <td>0</td>\n",
       "      <td>397</td>\n",
       "      <td>4.9</td>\n",
       "      <td>0</td>\n",
       "      <td>3</td>\n",
       "      <td>2</td>\n",
       "      <td>0</td>\n",
       "      <td>1</td>\n",
       "      <td>4</td>\n",
       "      <td>0</td>\n",
       "      <td>9</td>\n",
       "    </tr>\n",
       "    <tr>\n",
       "      <th>2764</th>\n",
       "      <td>1</td>\n",
       "      <td>123</td>\n",
       "      <td>505</td>\n",
       "      <td>82304596820</td>\n",
       "      <td>3</td>\n",
       "      <td>0</td>\n",
       "      <td>2610</td>\n",
       "      <td>0</td>\n",
       "      <td>1</td>\n",
       "      <td>1</td>\n",
       "      <td>126</td>\n",
       "      <td>4.7</td>\n",
       "      <td>0</td>\n",
       "      <td>3</td>\n",
       "      <td>5</td>\n",
       "      <td>0</td>\n",
       "      <td>107</td>\n",
       "      <td>4</td>\n",
       "      <td>0</td>\n",
       "      <td>9</td>\n",
       "    </tr>\n",
       "  </tbody>\n",
       "</table>\n",
       "<p>2765 rows × 20 columns</p>\n",
       "</div>"
      ],
      "text/plain": [
       "      카테고리대분류  카테고리중분류  카테고리소분류        상품아이디  판매자등급  굿서비스      가격  이벤트유무  배송비  \\\n",
       "0           8       32      595  83542825647      3     0  254000      0    1   \n",
       "1           8       32      595  83548281046      3     0  109700      0    0   \n",
       "2           8       32      698  82138703883      3     0  149000      0    0   \n",
       "3           8       32      237  83221694282      3     0   18700      0    1   \n",
       "4           8      108      237  82796977545      3     0   20900      0    0   \n",
       "...       ...      ...      ...          ...    ...   ...     ...    ...  ...   \n",
       "2760        1       88       43  82264181984      3     0   33300      1    0   \n",
       "2761        1       88      691  81468183722      3     1   18000      0    0   \n",
       "2762        1      123      528  82105843751      3     0   19800      0    0   \n",
       "2763        1      140      546  82986209241      3     1   29700      0    0   \n",
       "2764        1      123      505  82304596820      3     0    2610      0    1   \n",
       "\n",
       "      배송정보  적립포인트   평점  검색키워드  태그  추가이미지개수  비디오유무  판매기간(주)  리뷰건수증감  쿠폰유무변화  \\\n",
       "0        0   2540  4.9      0   4        5      0        7       7       0   \n",
       "1        0   1097  4.9      0   4        2      0        6      97       0   \n",
       "2        0   1490  4.8      0   5        3      1       11      23       0   \n",
       "3        0    187  4.7      0   2        8      0       27     156       0   \n",
       "4        0    209  4.6      0   3        0      0       12      32       0   \n",
       "...    ...    ...  ...    ...  ..      ...    ...      ...     ...     ...   \n",
       "2760     0    743  4.7      0   3        9      0       51       0       0   \n",
       "2761     1    280  4.8      0   2        8      0      159       8       0   \n",
       "2762     0    198  4.7      0   0        0      0      132       7       0   \n",
       "2763     0    397  4.9      0   3        2      0        1       4       0   \n",
       "2764     1    126  4.7      0   3        5      0      107       4       0   \n",
       "\n",
       "      크리스마스  \n",
       "0         9  \n",
       "1         9  \n",
       "2         9  \n",
       "3         9  \n",
       "4         9  \n",
       "...     ...  \n",
       "2760      9  \n",
       "2761      9  \n",
       "2762      9  \n",
       "2763      9  \n",
       "2764      9  \n",
       "\n",
       "[2765 rows x 20 columns]"
      ]
     },
     "execution_count": 9,
     "metadata": {},
     "output_type": "execute_result"
    }
   ],
   "source": [
    "test_df = pd.read_csv('0103_0110.csv')\n",
    "test_df = test_df.drop(['찜하기수증감', '페이지증감'], axis=1); test_df"
   ]
  },
  {
   "cell_type": "code",
   "execution_count": 10,
   "id": "1160084c",
   "metadata": {
    "ExecuteTime": {
     "end_time": "2022-01-17T00:16:40.390593Z",
     "start_time": "2022-01-17T00:16:39.424552Z"
    }
   },
   "outputs": [
    {
     "data": {
      "image/png": "[encoded data removed]",
      "text/plain": [
       "<Figure size 1440x720 with 2 Axes>"
      ]
     },
     "metadata": {},
     "output_type": "display_data"
    }
   ],
   "source": [
    "# 변수간 상관관계\n",
    "corr = df.corr()\n",
    "# Generate a mask for the upper triangle\n",
    "mask = np.triu(np.ones_like(corr, dtype=bool))\n",
    "# Generate a custom diverging colormap\n",
    "cmap = sns.diverging_palette(230, 20, as_cmap=True)\n",
    "\n",
    "plt.figure(figsize=(20,10))\n",
    "sns.heatmap(corr, mask=mask, cmap=cmap, vmax=.3, center=0,\n",
    "            square=True, linewidths=.5, cbar_kws={\"shrink\": .5}, annot=True)\n",
    "plt.xticks(rotation=45)\n",
    "plt.show()"
   ]
  },
  {
   "cell_type": "markdown",
   "id": "5346ace3",
   "metadata": {},
   "source": [
    "## 모델링"
   ]
  },
  {
   "cell_type": "code",
   "execution_count": 11,
   "id": "e149bd7d",
   "metadata": {
    "ExecuteTime": {
     "end_time": "2022-01-17T00:16:42.314026Z",
     "start_time": "2022-01-17T00:16:40.391590Z"
    }
   },
   "outputs": [],
   "source": [
    "from sklearn.model_selection import train_test_split, GridSearchCV,RandomizedSearchCV, learning_curve, cross_val_score, KFold\n",
    "from sklearn.preprocessing import StandardScaler, RobustScaler\n",
    "from sklearn.metrics import accuracy_score, mean_squared_error, r2_score\n",
    "from sklearn.svm import SVR\n",
    "from sklearn.ensemble import RandomForestRegressor, GradientBoostingRegressor, AdaBoostRegressor\n",
    "from sklearn.tree import DecisionTreeRegressor\n",
    "from sklearn.linear_model import LinearRegression, Ridge, Lasso, ElasticNet\n",
    "from xgboost import XGBRegressor\n",
    "from lightgbm import LGBMRegressor\n",
    "# import catboost"
   ]
  },
  {
   "cell_type": "code",
   "execution_count": 12,
   "id": "964c1674",
   "metadata": {
    "ExecuteTime": {
     "end_time": "2022-01-17T00:16:42.329865Z",
     "start_time": "2022-01-17T00:16:42.314871Z"
    }
   },
   "outputs": [],
   "source": [
    "# 타겟변수(y)와 독립변수(x) 분리\n",
    "y = df.loc[:, '리뷰건수증감']\n",
    "x = df.drop('리뷰건수증감', axis = 1)"
   ]
  },
  {
   "cell_type": "code",
   "execution_count": 13,
   "id": "a6790855",
   "metadata": {
    "ExecuteTime": {
     "end_time": "2022-01-17T00:16:42.345858Z",
     "start_time": "2022-01-17T00:16:42.330833Z"
    }
   },
   "outputs": [
    {
     "data": {
      "text/html": [
       "<div>\n",
       "<style scoped>\n",
       "    .dataframe tbody tr th:only-of-type {\n",
       "        vertical-align: middle;\n",
       "    }\n",
       "\n",
       "    .dataframe tbody tr th {\n",
       "        vertical-align: top;\n",
       "    }\n",
       "\n",
       "    .dataframe thead th {\n",
       "        text-align: right;\n",
       "    }\n",
       "</style>\n",
       "<table border=\"1\" class=\"dataframe\">\n",
       "  <thead>\n",
       "    <tr style=\"text-align: right;\">\n",
       "      <th></th>\n",
       "      <th>카테고리대분류</th>\n",
       "      <th>카테고리중분류</th>\n",
       "      <th>카테고리소분류</th>\n",
       "      <th>판매자등급</th>\n",
       "      <th>굿서비스</th>\n",
       "      <th>가격</th>\n",
       "      <th>이벤트유무</th>\n",
       "      <th>배송비</th>\n",
       "      <th>배송정보</th>\n",
       "      <th>적립포인트</th>\n",
       "      <th>평점</th>\n",
       "      <th>검색키워드</th>\n",
       "      <th>태그</th>\n",
       "      <th>추가이미지개수</th>\n",
       "      <th>비디오유무</th>\n",
       "      <th>판매기간(주)</th>\n",
       "      <th>쿠폰유무변화</th>\n",
       "      <th>크리스마스</th>\n",
       "    </tr>\n",
       "  </thead>\n",
       "  <tbody>\n",
       "    <tr>\n",
       "      <th>0</th>\n",
       "      <td>8</td>\n",
       "      <td>32</td>\n",
       "      <td>592</td>\n",
       "      <td>3</td>\n",
       "      <td>0</td>\n",
       "      <td>99000</td>\n",
       "      <td>0</td>\n",
       "      <td>1</td>\n",
       "      <td>0</td>\n",
       "      <td>990</td>\n",
       "      <td>4.8</td>\n",
       "      <td>0</td>\n",
       "      <td>5</td>\n",
       "      <td>6</td>\n",
       "      <td>0</td>\n",
       "      <td>7</td>\n",
       "      <td>0</td>\n",
       "      <td>2</td>\n",
       "    </tr>\n",
       "    <tr>\n",
       "      <th>1</th>\n",
       "      <td>8</td>\n",
       "      <td>32</td>\n",
       "      <td>592</td>\n",
       "      <td>2</td>\n",
       "      <td>1</td>\n",
       "      <td>109700</td>\n",
       "      <td>0</td>\n",
       "      <td>0</td>\n",
       "      <td>0</td>\n",
       "      <td>1097</td>\n",
       "      <td>4.9</td>\n",
       "      <td>0</td>\n",
       "      <td>4</td>\n",
       "      <td>2</td>\n",
       "      <td>0</td>\n",
       "      <td>3</td>\n",
       "      <td>1</td>\n",
       "      <td>2</td>\n",
       "    </tr>\n",
       "    <tr>\n",
       "      <th>2</th>\n",
       "      <td>8</td>\n",
       "      <td>31</td>\n",
       "      <td>381</td>\n",
       "      <td>2</td>\n",
       "      <td>1</td>\n",
       "      <td>9900</td>\n",
       "      <td>0</td>\n",
       "      <td>1</td>\n",
       "      <td>0</td>\n",
       "      <td>99</td>\n",
       "      <td>4.6</td>\n",
       "      <td>0</td>\n",
       "      <td>7</td>\n",
       "      <td>1</td>\n",
       "      <td>0</td>\n",
       "      <td>165</td>\n",
       "      <td>0</td>\n",
       "      <td>2</td>\n",
       "    </tr>\n",
       "    <tr>\n",
       "      <th>3</th>\n",
       "      <td>8</td>\n",
       "      <td>32</td>\n",
       "      <td>592</td>\n",
       "      <td>6</td>\n",
       "      <td>0</td>\n",
       "      <td>254000</td>\n",
       "      <td>0</td>\n",
       "      <td>1</td>\n",
       "      <td>0</td>\n",
       "      <td>2540</td>\n",
       "      <td>4.9</td>\n",
       "      <td>0</td>\n",
       "      <td>4</td>\n",
       "      <td>5</td>\n",
       "      <td>0</td>\n",
       "      <td>4</td>\n",
       "      <td>0</td>\n",
       "      <td>2</td>\n",
       "    </tr>\n",
       "    <tr>\n",
       "      <th>4</th>\n",
       "      <td>8</td>\n",
       "      <td>111</td>\n",
       "      <td>145</td>\n",
       "      <td>3</td>\n",
       "      <td>0</td>\n",
       "      <td>18900</td>\n",
       "      <td>0</td>\n",
       "      <td>1</td>\n",
       "      <td>0</td>\n",
       "      <td>189</td>\n",
       "      <td>4.6</td>\n",
       "      <td>0</td>\n",
       "      <td>8</td>\n",
       "      <td>9</td>\n",
       "      <td>0</td>\n",
       "      <td>10</td>\n",
       "      <td>1</td>\n",
       "      <td>2</td>\n",
       "    </tr>\n",
       "    <tr>\n",
       "      <th>...</th>\n",
       "      <td>...</td>\n",
       "      <td>...</td>\n",
       "      <td>...</td>\n",
       "      <td>...</td>\n",
       "      <td>...</td>\n",
       "      <td>...</td>\n",
       "      <td>...</td>\n",
       "      <td>...</td>\n",
       "      <td>...</td>\n",
       "      <td>...</td>\n",
       "      <td>...</td>\n",
       "      <td>...</td>\n",
       "      <td>...</td>\n",
       "      <td>...</td>\n",
       "      <td>...</td>\n",
       "      <td>...</td>\n",
       "      <td>...</td>\n",
       "      <td>...</td>\n",
       "    </tr>\n",
       "    <tr>\n",
       "      <th>8415</th>\n",
       "      <td>1</td>\n",
       "      <td>86</td>\n",
       "      <td>671</td>\n",
       "      <td>3</td>\n",
       "      <td>1</td>\n",
       "      <td>18000</td>\n",
       "      <td>0</td>\n",
       "      <td>0</td>\n",
       "      <td>1</td>\n",
       "      <td>190</td>\n",
       "      <td>4.8</td>\n",
       "      <td>0</td>\n",
       "      <td>2</td>\n",
       "      <td>8</td>\n",
       "      <td>0</td>\n",
       "      <td>158</td>\n",
       "      <td>1</td>\n",
       "      <td>0</td>\n",
       "    </tr>\n",
       "    <tr>\n",
       "      <th>8416</th>\n",
       "      <td>1</td>\n",
       "      <td>163</td>\n",
       "      <td>614</td>\n",
       "      <td>3</td>\n",
       "      <td>1</td>\n",
       "      <td>9900</td>\n",
       "      <td>0</td>\n",
       "      <td>0</td>\n",
       "      <td>1</td>\n",
       "      <td>297</td>\n",
       "      <td>4.8</td>\n",
       "      <td>0</td>\n",
       "      <td>8</td>\n",
       "      <td>1</td>\n",
       "      <td>0</td>\n",
       "      <td>47</td>\n",
       "      <td>0</td>\n",
       "      <td>0</td>\n",
       "    </tr>\n",
       "    <tr>\n",
       "      <th>8417</th>\n",
       "      <td>1</td>\n",
       "      <td>86</td>\n",
       "      <td>66</td>\n",
       "      <td>3</td>\n",
       "      <td>0</td>\n",
       "      <td>36900</td>\n",
       "      <td>0</td>\n",
       "      <td>0</td>\n",
       "      <td>0</td>\n",
       "      <td>369</td>\n",
       "      <td>4.7</td>\n",
       "      <td>0</td>\n",
       "      <td>9</td>\n",
       "      <td>0</td>\n",
       "      <td>0</td>\n",
       "      <td>98</td>\n",
       "      <td>1</td>\n",
       "      <td>0</td>\n",
       "    </tr>\n",
       "    <tr>\n",
       "      <th>8418</th>\n",
       "      <td>1</td>\n",
       "      <td>157</td>\n",
       "      <td>32</td>\n",
       "      <td>3</td>\n",
       "      <td>0</td>\n",
       "      <td>18000</td>\n",
       "      <td>1</td>\n",
       "      <td>0</td>\n",
       "      <td>1</td>\n",
       "      <td>180</td>\n",
       "      <td>4.9</td>\n",
       "      <td>0</td>\n",
       "      <td>2</td>\n",
       "      <td>0</td>\n",
       "      <td>0</td>\n",
       "      <td>467</td>\n",
       "      <td>1</td>\n",
       "      <td>0</td>\n",
       "    </tr>\n",
       "    <tr>\n",
       "      <th>8419</th>\n",
       "      <td>1</td>\n",
       "      <td>12</td>\n",
       "      <td>45</td>\n",
       "      <td>1</td>\n",
       "      <td>0</td>\n",
       "      <td>15190</td>\n",
       "      <td>1</td>\n",
       "      <td>0</td>\n",
       "      <td>0</td>\n",
       "      <td>0</td>\n",
       "      <td>4.8</td>\n",
       "      <td>0</td>\n",
       "      <td>0</td>\n",
       "      <td>0</td>\n",
       "      <td>0</td>\n",
       "      <td>10</td>\n",
       "      <td>0</td>\n",
       "      <td>0</td>\n",
       "    </tr>\n",
       "  </tbody>\n",
       "</table>\n",
       "<p>8420 rows × 18 columns</p>\n",
       "</div>"
      ],
      "text/plain": [
       "      카테고리대분류  카테고리중분류  카테고리소분류  판매자등급  굿서비스      가격  이벤트유무  배송비  배송정보  적립포인트  \\\n",
       "0           8       32      592      3     0   99000      0    1     0    990   \n",
       "1           8       32      592      2     1  109700      0    0     0   1097   \n",
       "2           8       31      381      2     1    9900      0    1     0     99   \n",
       "3           8       32      592      6     0  254000      0    1     0   2540   \n",
       "4           8      111      145      3     0   18900      0    1     0    189   \n",
       "...       ...      ...      ...    ...   ...     ...    ...  ...   ...    ...   \n",
       "8415        1       86      671      3     1   18000      0    0     1    190   \n",
       "8416        1      163      614      3     1    9900      0    0     1    297   \n",
       "8417        1       86       66      3     0   36900      0    0     0    369   \n",
       "8418        1      157       32      3     0   18000      1    0     1    180   \n",
       "8419        1       12       45      1     0   15190      1    0     0      0   \n",
       "\n",
       "       평점  검색키워드  태그  추가이미지개수  비디오유무  판매기간(주)  쿠폰유무변화  크리스마스  \n",
       "0     4.8      0   5        6      0        7       0      2  \n",
       "1     4.9      0   4        2      0        3       1      2  \n",
       "2     4.6      0   7        1      0      165       0      2  \n",
       "3     4.9      0   4        5      0        4       0      2  \n",
       "4     4.6      0   8        9      0       10       1      2  \n",
       "...   ...    ...  ..      ...    ...      ...     ...    ...  \n",
       "8415  4.8      0   2        8      0      158       1      0  \n",
       "8416  4.8      0   8        1      0       47       0      0  \n",
       "8417  4.7      0   9        0      0       98       1      0  \n",
       "8418  4.9      0   2        0      0      467       1      0  \n",
       "8419  4.8      0   0        0      0       10       0      0  \n",
       "\n",
       "[8420 rows x 18 columns]"
      ]
     },
     "execution_count": 13,
     "metadata": {},
     "output_type": "execute_result"
    }
   ],
   "source": [
    "x"
   ]
  },
  {
   "cell_type": "code",
   "execution_count": 14,
   "id": "5b6e5863",
   "metadata": {
    "ExecuteTime": {
     "end_time": "2022-01-17T00:16:42.361784Z",
     "start_time": "2022-01-17T00:16:42.346788Z"
    }
   },
   "outputs": [],
   "source": [
    "x_train, x_val, y_train, y_val = train_test_split(x,\n",
    "                                                  y,\n",
    "                                                  test_size=0.3,\n",
    "                                                  train_size=0.7,\n",
    "                                                  shuffle=True,\n",
    "                                                  random_state=42)\n",
    "y_test = test_df.loc[:, '리뷰건수증감']\n",
    "x_test = test_df.drop(['상품아이디', '리뷰건수증감'], axis=1)"
   ]
  },
  {
   "cell_type": "code",
   "execution_count": 15,
   "id": "0c3bcc93",
   "metadata": {
    "ExecuteTime": {
     "end_time": "2022-01-17T00:16:42.377756Z",
     "start_time": "2022-01-17T00:16:42.362746Z"
    }
   },
   "outputs": [],
   "source": [
    "y_test.reset_index(drop=True, inplace=True)"
   ]
  },
  {
   "cell_type": "code",
   "execution_count": 16,
   "id": "10a27cda",
   "metadata": {
    "ExecuteTime": {
     "end_time": "2022-01-17T00:16:42.393700Z",
     "start_time": "2022-01-17T00:16:42.378703Z"
    },
    "scrolled": false
   },
   "outputs": [
    {
     "name": "stdout",
     "output_type": "stream",
     "text": [
      "(5894, 18)\n",
      "(2526, 18)\n",
      "(2765, 18)\n"
     ]
    }
   ],
   "source": [
    "print(x_train.shape)\n",
    "print(x_val.shape)\n",
    "print(x_test.shape)"
   ]
  },
  {
   "cell_type": "code",
   "execution_count": 17,
   "id": "f9df1b5a",
   "metadata": {
    "ExecuteTime": {
     "end_time": "2022-01-17T00:16:42.409644Z",
     "start_time": "2022-01-17T00:16:42.394660Z"
    }
   },
   "outputs": [],
   "source": [
    "from sklearn.model_selection import KFold\n",
    "kfold = KFold(n_splits=5, shuffle=True, random_state=42)"
   ]
  },
  {
   "cell_type": "markdown",
   "id": "871aee94",
   "metadata": {},
   "source": [
    "### Linear Regression"
   ]
  },
  {
   "cell_type": "code",
   "execution_count": 18,
   "id": "1f086c05",
   "metadata": {
    "ExecuteTime": {
     "end_time": "2022-01-17T00:16:42.425578Z",
     "start_time": "2022-01-17T00:16:42.410619Z"
    }
   },
   "outputs": [],
   "source": [
    "scoring = {'R2 score' : 'r2', 'Neg RMSE' : 'neg_root_mean_squared_error', 'Neg RMSLE' : 'neg_mean_squared_log_error'}"
   ]
  },
  {
   "cell_type": "code",
   "execution_count": 19,
   "id": "0dd60897",
   "metadata": {
    "ExecuteTime": {
     "end_time": "2022-01-17T00:16:42.457492Z",
     "start_time": "2022-01-17T00:16:42.426575Z"
    }
   },
   "outputs": [
    {
     "name": "stdout",
     "output_type": "stream",
     "text": [
      "R2 score : 0.07414010031848417, RMSE : 221.252343926426\n"
     ]
    }
   ],
   "source": [
    "lm = LinearRegression()\n",
    "lm.fit(x_train, y_train)\n",
    "\n",
    "lm_r2score = lm.score(x_val, y_val) # 결정계수 R^2 score\n",
    "lm_rmse = mean_squared_error(y_val, lm.predict(x_val), squared=False) # RMSE\n",
    "print(f'R2 score : {lm_r2score}, RMSE : {lm_rmse}')"
   ]
  },
  {
   "cell_type": "code",
   "execution_count": 20,
   "id": "645fec52",
   "metadata": {
    "ExecuteTime": {
     "end_time": "2022-01-17T00:16:51.451480Z",
     "start_time": "2022-01-17T00:16:51.434489Z"
    }
   },
   "outputs": [
    {
     "name": "stdout",
     "output_type": "stream",
     "text": [
      "R2 score : 0.03222638693345781, RMSE : 235.88650420085523\n"
     ]
    }
   ],
   "source": [
    "lm_r2score = lm.score(x_test, y_test) # 결정계수 R^2 score\n",
    "lm_rmse = mean_squared_error(y_test, lm.predict(x_test), squared=False) # RMSE\n",
    "print(f'R2 score : {lm_r2score}, RMSE : {lm_rmse}')"
   ]
  },
  {
   "cell_type": "code",
   "execution_count": 42,
   "id": "7f366563",
   "metadata": {
    "ExecuteTime": {
     "end_time": "2022-01-17T00:31:21.727394Z",
     "start_time": "2022-01-17T00:31:21.722407Z"
    }
   },
   "outputs": [],
   "source": [
    "train_sizes = [1, 100, 500, 2000, 3500,  5894]"
   ]
  },
  {
   "cell_type": "code",
   "execution_count": 68,
   "id": "f9e28600",
   "metadata": {
    "ExecuteTime": {
     "end_time": "2022-01-16T06:36:31.086843Z",
     "start_time": "2022-01-16T06:36:30.778451Z"
    }
   },
   "outputs": [],
   "source": [
    "train_sizes, train_scores, validation_scores = learning_curve(\n",
    "estimator = LinearRegression(),\n",
    "X = x,\n",
    "y = y, train_sizes = train_sizes, cv = kfold,\n",
    "scoring = 'neg_root_mean_squared_error')"
   ]
  },
  {
   "cell_type": "code",
   "execution_count": 69,
   "id": "8ed09df2",
   "metadata": {
    "ExecuteTime": {
     "end_time": "2022-01-16T06:36:31.102542Z",
     "start_time": "2022-01-16T06:36:31.088670Z"
    }
   },
   "outputs": [
    {
     "name": "stdout",
     "output_type": "stream",
     "text": [
      "Training scores:\n",
      "\n",
      " [[  -0.           -0.           -0.           -0.           -0.        ]\n",
      " [-108.57173635 -104.61139454  -68.7628083  -104.44809684 -103.99594415]\n",
      " [-101.92712095 -100.27885624  -90.80704564  -97.27816926  -96.05904699]\n",
      " [-234.60596018 -221.78065833 -219.89091538 -198.79214647 -229.09077184]\n",
      " [-225.78724839 -229.0497511  -227.72636442 -208.35681521 -226.46822679]\n",
      " [-221.11030235 -223.56595653 -223.11344394 -214.55371266 -224.6671471 ]]\n",
      "\n",
      " ----------------------------------------------------------------------\n",
      "\n",
      "Validation scores:\n",
      "\n",
      " [[-233.58240623 -229.50986322 -222.88904177 -252.36452587 -219.06053866]\n",
      " [-226.62689626 -222.44532473 -223.0473898  -281.6117151  -235.50387519]\n",
      " [-292.35624962 -288.2883131  -298.93269651 -308.69153487 -272.65584877]\n",
      " [-218.55303179 -208.74238851 -210.15407248 -236.15972597 -210.34560189]\n",
      " [-215.71033196 -206.71914413 -208.04238982 -236.01978154 -203.78622848]\n",
      " [-215.04413769 -205.82141198 -206.92995907 -235.73514809 -203.10674409]]\n"
     ]
    }
   ],
   "source": [
    "print('Training scores:\\n\\n', train_scores)\n",
    "print('\\n', '-' * 70) # separator to make the output easy to read\n",
    "print('\\nValidation scores:\\n\\n', validation_scores)"
   ]
  },
  {
   "cell_type": "code",
   "execution_count": 72,
   "id": "0d3492b7",
   "metadata": {
    "ExecuteTime": {
     "end_time": "2022-01-16T06:37:33.532178Z",
     "start_time": "2022-01-16T06:37:33.495276Z"
    }
   },
   "outputs": [
    {
     "name": "stdout",
     "output_type": "stream",
     "text": [
      "Mean training scores\n",
      "\n",
      " 1        -0.000000\n",
      "100      98.077996\n",
      "500      97.270048\n",
      "2000    220.832090\n",
      "3500    223.477681\n",
      "5894    221.402113\n",
      "dtype: float64\n",
      "\n",
      " --------------------\n",
      "\n",
      "Mean validation scores\n",
      "\n",
      " 1       231.481275\n",
      "100     237.847040\n",
      "500     292.184929\n",
      "2000    216.790964\n",
      "3500    214.055575\n",
      "5894    213.327480\n",
      "dtype: float64\n"
     ]
    }
   ],
   "source": [
    "train_scores_mean = -train_scores.mean(axis = 1)\n",
    "validation_scores_mean = -validation_scores.mean(axis = 1)\n",
    "print('Mean training scores\\n\\n', pd.Series(train_scores_mean, index = train_sizes))\n",
    "print('\\n', '-' * 20) # separator\n",
    "print('\\nMean validation scores\\n\\n',pd.Series(validation_scores_mean, index = train_sizes))"
   ]
  },
  {
   "cell_type": "code",
   "execution_count": 74,
   "id": "38654b0a",
   "metadata": {
    "ExecuteTime": {
     "end_time": "2022-01-16T06:38:33.246796Z",
     "start_time": "2022-01-16T06:38:32.960361Z"
    }
   },
   "outputs": [
    {
     "data": {
      "text/plain": [
       "<matplotlib.legend.Legend at 0x23dfc6f32e0>"
      ]
     },
     "execution_count": 74,
     "metadata": {},
     "output_type": "execute_result"
    },
    {
     "data": {
      "image/png": "[encoded data removed]",
      "text/plain": [
       "<Figure size 432x288 with 1 Axes>"
      ]
     },
     "metadata": {},
     "output_type": "display_data"
    }
   ],
   "source": [
    "plt.plot(train_sizes, train_scores_mean, label = 'Training error')\n",
    "plt.plot(train_sizes, validation_scores_mean, label = 'Validation error')\n",
    "plt.ylabel('RMSE', fontsize = 14)\n",
    "plt.xlabel('Training set size', fontsize = 14)\n",
    "plt.title('Learning curves for a linear regression model', fontsize = 18, y = 1.03)\n",
    "plt.legend()"
   ]
  },
  {
   "cell_type": "code",
   "execution_count": 214,
   "id": "0b1c3217",
   "metadata": {
    "ExecuteTime": {
     "end_time": "2022-01-17T06:15:36.820582Z",
     "start_time": "2022-01-17T06:15:36.810600Z"
    }
   },
   "outputs": [],
   "source": [
    "def learning_curves(estimator, train_sizes):\n",
    "    train_sizes, train_scores, validation_scores = learning_curve(\n",
    "        estimator,\n",
    "        x,\n",
    "        y,\n",
    "        train_sizes=train_sizes,\n",
    "        cv=kfold,\n",
    "        scoring='neg_root_mean_squared_error')\n",
    "    train_scores_mean = -train_scores.mean(axis=1)\n",
    "    validation_scores_mean = -validation_scores.mean(axis=1)\n",
    "\n",
    "    plt.plot(train_sizes, train_scores_mean, label='Training error')\n",
    "    plt.plot(train_sizes, validation_scores_mean, label='Validation error')\n",
    "\n",
    "    plt.ylabel('RMSE', fontsize=14)\n",
    "    plt.xlabel('Training set size', fontsize=14)\n",
    "    title = 'Learning curves for a ' + str(estimator).split('(')[0] + ' model'\n",
    "    plt.title(title, fontsize=18, y=1.03)\n",
    "    plt.legend()"
   ]
  },
  {
   "cell_type": "code",
   "execution_count": 215,
   "id": "c57b93b3",
   "metadata": {
    "ExecuteTime": {
     "end_time": "2022-01-17T06:26:17.593402Z",
     "start_time": "2022-01-17T06:15:37.135591Z"
    }
   },
   "outputs": [
    {
     "name": "stdout",
     "output_type": "stream",
     "text": [
      "Fitting 5 folds for each of 1 candidates, totalling 5 fits\n",
      "Fitting 5 folds for each of 1 candidates, totalling 5 fits\n",
      "Fitting 5 folds for each of 1 candidates, totalling 5 fits\n",
      "Fitting 5 folds for each of 1 candidates, totalling 5 fits\n",
      "Fitting 5 folds for each of 1 candidates, totalling 5 fits\n",
      "Fitting 5 folds for each of 1 candidates, totalling 5 fits\n",
      "Fitting 5 folds for each of 1 candidates, totalling 5 fits\n",
      "Fitting 5 folds for each of 1 candidates, totalling 5 fits\n",
      "Fitting 5 folds for each of 1 candidates, totalling 5 fits\n",
      "Fitting 5 folds for each of 1 candidates, totalling 5 fits\n",
      "Fitting 5 folds for each of 1 candidates, totalling 5 fits\n",
      "Fitting 5 folds for each of 1 candidates, totalling 5 fits\n",
      "Fitting 5 folds for each of 1 candidates, totalling 5 fits\n",
      "Fitting 5 folds for each of 1 candidates, totalling 5 fits\n",
      "Fitting 5 folds for each of 1 candidates, totalling 5 fits\n",
      "Fitting 5 folds for each of 1 candidates, totalling 5 fits\n",
      "Fitting 5 folds for each of 1 candidates, totalling 5 fits\n",
      "Fitting 5 folds for each of 1 candidates, totalling 5 fits\n",
      "Fitting 5 folds for each of 1 candidates, totalling 5 fits\n",
      "Fitting 5 folds for each of 1 candidates, totalling 5 fits\n",
      "Fitting 5 folds for each of 1 candidates, totalling 5 fits\n",
      "Fitting 5 folds for each of 1 candidates, totalling 5 fits\n",
      "Fitting 5 folds for each of 1 candidates, totalling 5 fits\n",
      "Fitting 5 folds for each of 1 candidates, totalling 5 fits\n",
      "Fitting 5 folds for each of 1 candidates, totalling 5 fits\n",
      "Fitting 5 folds for each of 1 candidates, totalling 5 fits\n",
      "Fitting 5 folds for each of 1 candidates, totalling 5 fits\n",
      "Fitting 5 folds for each of 1 candidates, totalling 5 fits\n",
      "Fitting 5 folds for each of 1 candidates, totalling 5 fits\n",
      "Fitting 5 folds for each of 1 candidates, totalling 5 fits\n",
      "Fitting 5 folds for each of 1 candidates, totalling 5 fits\n",
      "Fitting 5 folds for each of 1 candidates, totalling 5 fits\n",
      "Fitting 5 folds for each of 1 candidates, totalling 5 fits\n",
      "Fitting 5 folds for each of 1 candidates, totalling 5 fits\n",
      "Fitting 5 folds for each of 1 candidates, totalling 5 fits\n",
      "Fitting 5 folds for each of 1 candidates, totalling 5 fits\n",
      "Fitting 5 folds for each of 1 candidates, totalling 5 fits\n",
      "Fitting 5 folds for each of 1 candidates, totalling 5 fits\n",
      "Fitting 5 folds for each of 1 candidates, totalling 5 fits\n",
      "Fitting 5 folds for each of 1 candidates, totalling 5 fits\n",
      "Fitting 5 folds for each of 1 candidates, totalling 5 fits\n",
      "Fitting 5 folds for each of 1 candidates, totalling 5 fits\n",
      "Fitting 5 folds for each of 1 candidates, totalling 5 fits\n",
      "Fitting 5 folds for each of 1 candidates, totalling 5 fits\n",
      "Fitting 5 folds for each of 1 candidates, totalling 5 fits\n",
      "Fitting 5 folds for each of 1 candidates, totalling 5 fits\n",
      "Fitting 5 folds for each of 1 candidates, totalling 5 fits\n",
      "Fitting 5 folds for each of 1 candidates, totalling 5 fits\n",
      "Fitting 5 folds for each of 1 candidates, totalling 5 fits\n",
      "Fitting 5 folds for each of 1 candidates, totalling 5 fits\n",
      "Fitting 5 folds for each of 1 candidates, totalling 5 fits\n",
      "Fitting 5 folds for each of 1 candidates, totalling 5 fits\n",
      "Fitting 5 folds for each of 1 candidates, totalling 5 fits\n",
      "Fitting 5 folds for each of 1 candidates, totalling 5 fits\n",
      "Fitting 5 folds for each of 1 candidates, totalling 5 fits\n",
      "Fitting 5 folds for each of 1 candidates, totalling 5 fits\n",
      "Fitting 5 folds for each of 1 candidates, totalling 5 fits\n",
      "Fitting 5 folds for each of 1 candidates, totalling 5 fits\n",
      "Fitting 5 folds for each of 1 candidates, totalling 5 fits\n",
      "Fitting 5 folds for each of 1 candidates, totalling 5 fits\n"
     ]
    },
    {
     "data": {
      "image/png": "[encoded data removed]",
      "text/plain": [
       "<Figure size 1152x360 with 2 Axes>"
      ]
     },
     "metadata": {},
     "output_type": "display_data"
    }
   ],
   "source": [
    "### Plotting the two learning curves ###\n",
    "plt.figure(figsize=(16, 5))\n",
    "for model, i in [(stc2, 1), (stc1, 2)]:\n",
    "    plt.subplot(1, 2, i)\n",
    "    learning_curves(model, train_sizes)"
   ]
  },
  {
   "cell_type": "code",
   "execution_count": 217,
   "id": "f95448a4",
   "metadata": {
    "ExecuteTime": {
     "end_time": "2022-01-17T07:12:31.910164Z",
     "start_time": "2022-01-17T07:07:52.683761Z"
    }
   },
   "outputs": [
    {
     "data": {
      "image/png": "[encoded data removed]",
      "text/plain": [
       "<Figure size 1152x360 with 3 Axes>"
      ]
     },
     "metadata": {},
     "output_type": "display_data"
    }
   ],
   "source": [
    "plt.figure(figsize=(16, 5))\n",
    "for model, i in [(gbr_best, 1), (rf_best, 2), (xgb_best, 3)]:\n",
    "    plt.subplot(1, 3, i)\n",
    "    learning_curves(model, train_sizes)"
   ]
  },
  {
   "cell_type": "markdown",
   "id": "b947082f",
   "metadata": {},
   "source": [
    "### Lasso, Ridge"
   ]
  },
  {
   "cell_type": "code",
   "execution_count": 21,
   "id": "d8005293",
   "metadata": {
    "ExecuteTime": {
     "end_time": "2022-01-17T00:16:59.852641Z",
     "start_time": "2022-01-17T00:16:59.827708Z"
    }
   },
   "outputs": [
    {
     "name": "stdout",
     "output_type": "stream",
     "text": [
      "R2 score : 0.048602786677527154, RMSE : 233.88218551557756\n"
     ]
    }
   ],
   "source": [
    "lasso = Lasso(random_state=42)\n",
    "lasso.fit(x_train, y_train)\n",
    "\n",
    "lasso_r2score = lasso.score(x_test, y_test) # 결정계수 R^2 score\n",
    "lasso_rmse = mean_squared_error(y_test, lasso.predict(x_test), squared=False) # RMSE\n",
    "print(f'R2 score : {lasso_r2score}, RMSE : {lasso_rmse}')"
   ]
  },
  {
   "cell_type": "code",
   "execution_count": 22,
   "id": "b499d77e",
   "metadata": {
    "ExecuteTime": {
     "end_time": "2022-01-17T00:17:00.357000Z",
     "start_time": "2022-01-17T00:17:00.334099Z"
    }
   },
   "outputs": [
    {
     "name": "stdout",
     "output_type": "stream",
     "text": [
      "R2 score : 0.07322658152113237, RMSE : 221.36146861352324\n"
     ]
    }
   ],
   "source": [
    "lasso_r2score = lasso.score(x_val, y_val) # 결정계수 R^2 score\n",
    "lasso_rmse = mean_squared_error(y_val, lasso.predict(x_val), squared=False) # RMSE\n",
    "print(f'R2 score : {lasso_r2score}, RMSE : {lasso_rmse}')"
   ]
  },
  {
   "cell_type": "code",
   "execution_count": 23,
   "id": "95d35ac8",
   "metadata": {
    "ExecuteTime": {
     "end_time": "2022-01-17T00:17:00.404872Z",
     "start_time": "2022-01-17T00:17:00.390910Z"
    }
   },
   "outputs": [
    {
     "name": "stdout",
     "output_type": "stream",
     "text": [
      "R2 score : 0.032227948657993055, RMSE : 235.88631387230896\n"
     ]
    }
   ],
   "source": [
    "ridge = Ridge(alpha=0.1, random_state=42)\n",
    "\n",
    "ridge.fit(x_train,y_train)\n",
    "ridge_r2score = ridge.score(x_test, y_test) # 결정계수 R^2 score\n",
    "ridge_rmse = mean_squared_error(y_test, ridge.predict(x_test), squared=False) # RMSE\n",
    "print(f'R2 score : {ridge_r2score}, RMSE : {ridge_rmse}')"
   ]
  },
  {
   "cell_type": "code",
   "execution_count": 24,
   "id": "0fb7b7c3",
   "metadata": {
    "ExecuteTime": {
     "end_time": "2022-01-17T00:17:00.468702Z",
     "start_time": "2022-01-17T00:17:00.446760Z"
    }
   },
   "outputs": [
    {
     "name": "stdout",
     "output_type": "stream",
     "text": [
      "R2 score : 0.07414010109223212, RMSE : 221.2523438339749\n"
     ]
    }
   ],
   "source": [
    "ridge_r2score = ridge.score(x_val, y_val) # 결정계수 R^2 score\n",
    "ridge_rmse = mean_squared_error(y_val, ridge.predict(x_val), squared=False) # RMSE\n",
    "print(f'R2 score : {ridge_r2score}, RMSE : {ridge_rmse}')"
   ]
  },
  {
   "cell_type": "markdown",
   "id": "6373e398",
   "metadata": {},
   "source": [
    "### ElasticNet, SVM"
   ]
  },
  {
   "cell_type": "code",
   "execution_count": 25,
   "id": "25fc1ab2",
   "metadata": {
    "ExecuteTime": {
     "end_time": "2022-01-17T00:17:00.578408Z",
     "start_time": "2022-01-17T00:17:00.560456Z"
    }
   },
   "outputs": [
    {
     "name": "stdout",
     "output_type": "stream",
     "text": [
      "R2 score : 0.04236475710484999, RMSE : 234.6476808727943\n"
     ]
    }
   ],
   "source": [
    "en = ElasticNet(random_state=42)\n",
    "en.fit(x_train, y_train)\n",
    "\n",
    "en_r2score = en.score(x_test, y_test) # 결정계수 R^2 score\n",
    "en_rmse = mean_squared_error(y_test, en.predict(x_test), squared=False) # RMSE\n",
    "print(f'R2 score : {en_r2score}, RMSE : {en_rmse}')\n",
    "\n",
    "# y_pred_en = en.predict(x_test)\n",
    "# y_pred_en = pd.DataFrame(y_pred_en, columns=['예측값'])\n",
    "# result_en = pd.concat([test_odf['상품아이디'], y_test, y_pred_en], axis=1); result_en"
   ]
  },
  {
   "cell_type": "code",
   "execution_count": 26,
   "id": "395172c3",
   "metadata": {
    "ExecuteTime": {
     "end_time": "2022-01-17T00:17:05.527292Z",
     "start_time": "2022-01-17T00:17:00.652210Z"
    }
   },
   "outputs": [
    {
     "name": "stdout",
     "output_type": "stream",
     "text": [
      "R2 score : -0.0409849896479193, RMSE : 244.64618038778255\n"
     ]
    }
   ],
   "source": [
    "svr = SVR()\n",
    "svr.fit(x_train, y_train)\n",
    "\n",
    "svr_r2score = svr.score(x_test, y_test) # 결정계수 R^2 score\n",
    "svr_rmse = mean_squared_error(y_test, svr.predict(x_test), squared=False) # RMSE\n",
    "print(f'R2 score : {svr_r2score}, RMSE : {svr_rmse}')"
   ]
  },
  {
   "cell_type": "markdown",
   "id": "eefe16cb",
   "metadata": {},
   "source": [
    "### Decision Tree"
   ]
  },
  {
   "cell_type": "code",
   "execution_count": 27,
   "id": "3942c8b1",
   "metadata": {
    "ExecuteTime": {
     "end_time": "2022-01-17T00:17:05.543214Z",
     "start_time": "2022-01-17T00:17:05.528296Z"
    },
    "cell_style": "center"
   },
   "outputs": [],
   "source": [
    "# dt = DecisionTreeRegressor(random_state=42)\n",
    "# parameters = {\n",
    "#     \"max_depth\": [70, 75, 80, 30],\n",
    "#     \"min_samples_split\": [5, 6, 7, 8],\n",
    "#     'max_leaf_nodes': [40, 45, 50, 60],\n",
    "#     'min_samples_leaf': [25, 20, 27, 28, 29],\n",
    "#     'splitter': ['best', 'random'],\n",
    "#     'max_features' : ['auto', 'sqrt', 'log2']\n",
    "# }\n",
    "\n",
    "# dtr = RandomizedSearchCV(dt,\n",
    "#                           param_distributions=parameters,\n",
    "#                           cv=kfold,\n",
    "#                           scoring='r2')\n",
    "# dtr.fit(x_train, y_train)\n",
    "\n",
    "# dt_r2score = dtr.score(x_val, y_val) # 결정계수 R^2 score\n",
    "# dt_rmse = mean_squared_error(y_val, dtr.predict(x_val), squared=False) # RMSE\n",
    "# print(f'R2 score : {dt_r2score}, RMSE : {dt_rmse}')\n",
    "\n",
    "# y_pred_dt = dt.predict(x_val)\n",
    "# y_pred_dt = pd.DataFrame(y_pred_dt, columns=['예측값'])\n",
    "# result_dt = pd.concat([val_odf['상품아이디'], y_val, y_pred_dt], axis=1); result_dt"
   ]
  },
  {
   "cell_type": "code",
   "execution_count": 29,
   "id": "b7e86c0a",
   "metadata": {
    "ExecuteTime": {
     "end_time": "2022-01-17T00:17:17.873088Z",
     "start_time": "2022-01-17T00:17:17.860096Z"
    },
    "cell_style": "center"
   },
   "outputs": [],
   "source": [
    "# dtr.best_estimator_"
   ]
  },
  {
   "cell_type": "code",
   "execution_count": 30,
   "id": "b30cc8de",
   "metadata": {
    "ExecuteTime": {
     "end_time": "2022-01-17T00:17:19.391612Z",
     "start_time": "2022-01-17T00:17:19.354710Z"
    }
   },
   "outputs": [
    {
     "data": {
      "text/plain": [
       "0.42576268460053157"
      ]
     },
     "execution_count": 30,
     "metadata": {},
     "output_type": "execute_result"
    }
   ],
   "source": [
    "dt_best = DecisionTreeRegressor(max_depth=75,\n",
    "                           max_features='auto',\n",
    "                           max_leaf_nodes=40,\n",
    "                           min_samples_leaf=28,\n",
    "                           min_samples_split=6,\n",
    "                           random_state=42)\n",
    "dt_best.fit(x_train, y_train)\n",
    "r2_score(y_val, dt_best.predict(x_val))"
   ]
  },
  {
   "cell_type": "code",
   "execution_count": 31,
   "id": "0faf2b26",
   "metadata": {
    "ExecuteTime": {
     "end_time": "2022-01-17T00:17:21.684781Z",
     "start_time": "2022-01-17T00:17:21.664797Z"
    }
   },
   "outputs": [
    {
     "name": "stdout",
     "output_type": "stream",
     "text": [
      "R2 score : 0.3966580636762228, RMSE : 186.25072086688772\n"
     ]
    }
   ],
   "source": [
    "dt_r2score = r2_score(y_test, dt_best.predict(x_test)) # 결정계수 R^2 score\n",
    "dt_rmse = mean_squared_error(y_test, dt_best.predict(x_test), squared=False) # RMSE\n",
    "print(f'R2 score : {dt_r2score}, RMSE : {dt_rmse}')"
   ]
  },
  {
   "cell_type": "markdown",
   "id": "7315fc2e",
   "metadata": {},
   "source": [
    "### RandomForest"
   ]
  },
  {
   "cell_type": "code",
   "execution_count": null,
   "id": "fa52684f",
   "metadata": {
    "ExecuteTime": {
     "end_time": "2022-01-17T00:17:06.367031Z",
     "start_time": "2022-01-17T00:17:06.367031Z"
    },
    "cell_style": "center"
   },
   "outputs": [],
   "source": [
    "# rf = RandomForestRegressor(random_state=42)\n",
    "\n",
    "# parameters = {\n",
    "#     \"n_estimators\": [100, 200, 300],\n",
    "#     \"criterion\": ['mse', 'mae'],\n",
    "#     \"max_depth\": [30, 25, 40],\n",
    "#     \"min_samples_split\": [2, 3, 4],\n",
    "#     'min_samples_leaf' : [1, 2, 3, 4],\n",
    "#     'max_leaf_nodes': [5, 6, 7, 8],\n",
    "# }\n",
    "\n",
    "# rfr = RandomizedSearchCV(rf,\n",
    "#                           param_distributions=parameters,\n",
    "#                           cv=kfold,\n",
    "#                           scoring='r2')\n",
    "# rfr.fit(x_train, y_train)\n",
    "\n",
    "# rf_r2score = rfr.score(x_val, y_val)  # 결정계수 R^2 score\n",
    "# rf_rmse = mean_squared_error(y_val, rfr.predict(x_val), squared=False)  # RMSE\n",
    "# print(f'R2 score : {rf_r2score}, RMSE : {rf_rmse}')\n",
    "\n",
    "# y_pred_rf = rf.predict(x_val)\n",
    "# y_pred_rf = pd.DataFrame(y_pred_rf, columns=['예측값'])\n",
    "# result_rf = pd.concat([val_odf['상품아이디'], y_val, y_pred_rf], axis=1); result_rf"
   ]
  },
  {
   "cell_type": "code",
   "execution_count": 32,
   "id": "69a012d3",
   "metadata": {
    "ExecuteTime": {
     "end_time": "2022-01-17T00:17:37.985468Z",
     "start_time": "2022-01-17T00:17:28.809575Z"
    }
   },
   "outputs": [
    {
     "name": "stdout",
     "output_type": "stream",
     "text": [
      "R2 score : 0.8376586042248917, RMSE : 92.64668422812768\n"
     ]
    }
   ],
   "source": [
    "rf_best = RandomForestRegressor(random_state=42,\n",
    "                           bootstrap=False,\n",
    "                           max_features='sqrt',\n",
    "                           min_samples_leaf=1,\n",
    "                           n_estimators=700)\n",
    "rf_best.fit(x_train, y_train)\n",
    "rf_r2score = r2_score(y_val, rf_best.predict(x_val))\n",
    "rf_rmse = mean_squared_error(y_val, rf_best.predict(x_val), squared=False) # RMSE\n",
    "print(f'R2 score : {rf_r2score}, RMSE : {rf_rmse}')"
   ]
  },
  {
   "cell_type": "code",
   "execution_count": 33,
   "id": "0a960843",
   "metadata": {
    "ExecuteTime": {
     "end_time": "2022-01-17T00:17:38.731159Z",
     "start_time": "2022-01-17T00:17:37.986465Z"
    }
   },
   "outputs": [
    {
     "name": "stdout",
     "output_type": "stream",
     "text": [
      "R2 score : 0.7934981721411379, RMSE : 108.96277524342797\n"
     ]
    }
   ],
   "source": [
    "rf_r2score = r2_score(y_test, rf_best.predict(x_test))\n",
    "rf_rmse = mean_squared_error(y_test, rf_best.predict(x_test), squared=False) # RMSE\n",
    "print(f'R2 score : {rf_r2score}, RMSE : {rf_rmse}')"
   ]
  },
  {
   "cell_type": "code",
   "execution_count": null,
   "id": "6e9b4da0",
   "metadata": {
    "ExecuteTime": {
     "end_time": "2022-01-17T00:17:06.369988Z",
     "start_time": "2022-01-17T00:17:06.369988Z"
    }
   },
   "outputs": [],
   "source": [
    "# y_pred_rf_val = rf.predict(x_val)\n",
    "# y_pred_rf = pd.DataFrame(y_pred_rf, columns=['prediction'])\n",
    "# result_rf = pd.concat([y_val_copy, y_pred_rf], axis=1)\n",
    "# result_rf['오차'] = abs(result_rf['리뷰건수증감'] - result_rf['prediction'])\n",
    "# result_rf['오차비율'] = result_rf['오차'] / result_rf['prediction']\n",
    "# result_rf.sort_values(by='오차비율', ascending=True)"
   ]
  },
  {
   "cell_type": "code",
   "execution_count": 34,
   "id": "c74c28ce",
   "metadata": {
    "ExecuteTime": {
     "end_time": "2022-01-17T00:17:39.125660Z",
     "start_time": "2022-01-17T00:17:38.732121Z"
    }
   },
   "outputs": [
    {
     "data": {
      "image/png": "[encoded data removed]",
      "text/plain": [
       "<Figure size 1080x576 with 1 Axes>"
      ]
     },
     "metadata": {},
     "output_type": "display_data"
    }
   ],
   "source": [
    "plt.figure(figsize=(15, 8))\n",
    "sorted_idx = rf_best.feature_importances_.argsort()\n",
    "plt.barh(x_train.columns[sorted_idx], rf_best.feature_importances_[sorted_idx])\n",
    "plt.xlabel(\"Random Forest Feature Importance\")\n",
    "plt.show()"
   ]
  },
  {
   "cell_type": "markdown",
   "id": "4e0cbd5d",
   "metadata": {},
   "source": [
    "### XgBoost"
   ]
  },
  {
   "cell_type": "code",
   "execution_count": null,
   "id": "ae210394",
   "metadata": {
    "ExecuteTime": {
     "end_time": "2022-01-17T00:17:06.371983Z",
     "start_time": "2022-01-17T00:17:06.371983Z"
    }
   },
   "outputs": [],
   "source": [
    "# xgbr = XGBRegressor(n_estimators=1345,\n",
    "#                     max_depth=11,\n",
    "#                     min_child_weight=263,\n",
    "#                     gamma=2,\n",
    "#                     colsample_bytree=0.8,\n",
    "#                     reg_lambda=1.7783618921553261,\n",
    "#                     reg_alpha=0.495107774310335,\n",
    "#                     subsample=0.6,\n",
    "#                     random_state=42,\n",
    "#                     tree_method='gpu_hist')\n",
    "# xgbr = XGBRegressor(random_state=42, tree_method='gpu_hist')\n",
    "# parameters = {\n",
    "#     'n_estimators': [300, 400, 350],\n",
    "#     'max_depth': [4, 5, 6, 7, 9, 10],\n",
    "#     'min_child_weight': [1, 2, 3],\n",
    "#     'gamma': [0, 0.5, 1],\n",
    "#     'colsample_bytree': [1, 2, 3],\n",
    "#     'subsample': [0.6, 0.7, 0.8, 0.9, 1]\n",
    "# }\n",
    "# n_iter_search = 10\n",
    "# xgbr = RandomizedSearchCV(xgb,\n",
    "#                           param_distributions=parameters,\n",
    "#                           n_iter=n_iter_search,\n",
    "#                           cv=kfold,\n",
    "#                           scoring=\"r2\")\n",
    "# xgbr.fit(x_train, y_train)\n",
    "# xgbr_r2score = r2_score(y_val, xgbr.predict(x_val)) # 결정계수 R^2 score\n",
    "# xgbr_rmse = mean_squared_error(y_val,\n",
    "#                                     xgbr.predict(x_val),\n",
    "#                                     squared=False)  # RMSE\n",
    "# print(f'R2 score : {xgbr_r2score}, RMSE : {xgbr_rmse}')"
   ]
  },
  {
   "cell_type": "code",
   "execution_count": null,
   "id": "dccb12e0",
   "metadata": {
    "ExecuteTime": {
     "end_time": "2022-01-17T00:17:06.374006Z",
     "start_time": "2022-01-17T00:17:06.374006Z"
    }
   },
   "outputs": [],
   "source": [
    "xgbr.best_score_"
   ]
  },
  {
   "cell_type": "code",
   "execution_count": null,
   "id": "4e092ca0",
   "metadata": {
    "ExecuteTime": {
     "end_time": "2022-01-17T00:17:06.374006Z",
     "start_time": "2022-01-17T00:17:06.374006Z"
    }
   },
   "outputs": [],
   "source": [
    "xgbr_best = xgbr.best_estimator_; xgbr_best"
   ]
  },
  {
   "cell_type": "code",
   "execution_count": 35,
   "id": "552cc06d",
   "metadata": {
    "ExecuteTime": {
     "end_time": "2022-01-17T00:17:45.428738Z",
     "start_time": "2022-01-17T00:17:39.127654Z"
    }
   },
   "outputs": [
    {
     "name": "stdout",
     "output_type": "stream",
     "text": [
      "R2 score : 0.8181625380728369, RMSE : 98.05210540987433\n"
     ]
    }
   ],
   "source": [
    "xgb_best= XGBRegressor(colsample_bytree=0.4,\n",
    "                   learning_rate=0.05,\n",
    "                   max_depth=10,\n",
    "                   n_estimators=800,\n",
    "                   random_state=42)\n",
    "xgb_best.fit(x_train, y_train)\n",
    "xgb_r2score = r2_score(y_val, xgb_best.predict(x_val))\n",
    "xgb_rmse = mean_squared_error(y_val, xgb_best.predict(x_val), squared=False)\n",
    "print(f'R2 score : {xgb_r2score}, RMSE : {xgb_rmse}')"
   ]
  },
  {
   "cell_type": "code",
   "execution_count": 36,
   "id": "6e8eafa8",
   "metadata": {
    "ExecuteTime": {
     "end_time": "2022-01-14T01:28:40.035141Z",
     "start_time": "2022-01-14T01:28:40.016244Z"
    }
   },
   "outputs": [],
   "source": [
    "# xgb_optuna = XGBRegressor(n_estimators=2810,\n",
    "#                    max_depth=8,\n",
    "#                    min_child_weight=13,\n",
    "#                    gamma=2,\n",
    "#                    colsample_bytree=1.0,\n",
    "#                    reg_lambda=0.0034896106282259003,\n",
    "#                    alpha=6.914631756894438,\n",
    "#                    subsample=0.7,\n",
    "#                    random_state=42)\n",
    "# xgb.fit(x_train, y_train)\n",
    "# print(r2_score(y_val, xgb.predict(x_val)))\n",
    "# print(mean_squared_error(y_val, xgb.predict(x_val), squared=False))"
   ]
  },
  {
   "cell_type": "code",
   "execution_count": 36,
   "id": "101ba1fb",
   "metadata": {
    "ExecuteTime": {
     "end_time": "2022-01-17T00:17:45.524480Z",
     "start_time": "2022-01-17T00:17:45.431729Z"
    }
   },
   "outputs": [
    {
     "data": {
      "text/plain": [
       "110.86466886058227"
      ]
     },
     "execution_count": 36,
     "metadata": {},
     "output_type": "execute_result"
    }
   ],
   "source": [
    "r2_score(y_test, xgb_best.predict(x_test)) # 결정계수 R^2 score\n",
    "mean_squared_error(y_test, xgb_best.predict(x_test),\n",
    "                               squared=False)  # RMSE"
   ]
  },
  {
   "cell_type": "code",
   "execution_count": 37,
   "id": "69945557",
   "metadata": {
    "ExecuteTime": {
     "end_time": "2022-01-17T00:17:46.526541Z",
     "start_time": "2022-01-17T00:17:46.329835Z"
    }
   },
   "outputs": [
    {
     "data": {
      "image/png": "[encoded data removed]",
      "text/plain": [
       "<Figure size 1080x576 with 1 Axes>"
      ]
     },
     "metadata": {},
     "output_type": "display_data"
    }
   ],
   "source": [
    "plt.figure(figsize=(15, 8))\n",
    "sorted_idx = xgb_best.feature_importances_.argsort()\n",
    "plt.barh(x_train.columns[sorted_idx], xgb_best.feature_importances_[sorted_idx])\n",
    "plt.xlabel(\"XGBoost Feature Importance\")\n",
    "plt.show()"
   ]
  },
  {
   "cell_type": "markdown",
   "id": "f480023a",
   "metadata": {},
   "source": [
    "### LightGBM"
   ]
  },
  {
   "cell_type": "code",
   "execution_count": 38,
   "id": "aa382735",
   "metadata": {
    "ExecuteTime": {
     "end_time": "2022-01-17T00:17:52.186618Z",
     "start_time": "2022-01-17T00:17:49.603010Z"
    }
   },
   "outputs": [
    {
     "name": "stdout",
     "output_type": "stream",
     "text": [
      "R2 score : 0.8035671055346741, RMSE : 101.91130221679363\n"
     ]
    }
   ],
   "source": [
    "lgbm_best = LGBMRegressor(reg_alpha=0.10091737604591515,\n",
    "                          reg_lambda=1.9138848042405095e-08,\n",
    "                          num_leaves=40,\n",
    "                          n_estimators=1489,\n",
    "                          min_child_samples=48,\n",
    "                          max_depth=9,\n",
    "                          random_state=42)\n",
    "lgbmfit = lgbm_best.fit(x_train, y_train)\n",
    "lgbm_r2score = lgbm_best.score(x_val, y_val)  # 결정계수 R^2 score\n",
    "lgbm_rmse = mean_squared_error(y_val, lgbm_best.predict(x_val),\n",
    "                               squared=False)  # RMSE\n",
    "print(f'R2 score : {lgbm_r2score}, RMSE : {lgbm_rmse}')"
   ]
  },
  {
   "cell_type": "code",
   "execution_count": 39,
   "id": "9a03b809",
   "metadata": {
    "ExecuteTime": {
     "end_time": "2022-01-17T00:18:49.184224Z",
     "start_time": "2022-01-17T00:18:48.980649Z"
    }
   },
   "outputs": [
    {
     "name": "stdout",
     "output_type": "stream",
     "text": [
      "R2 score : 0.7603056349201015, RMSE : 117.39378846714172\n"
     ]
    }
   ],
   "source": [
    "lgbm_best_r2score = lgbm_best.score(x_test, y_test)  # 결정계수 R^2 score\n",
    "lgbm_best_rmse = mean_squared_error(y_test,\n",
    "                                      lgbm_best.predict(x_test),\n",
    "                                      squared=False)  # RMSE\n",
    "print(f'R2 score : {lgbm_best_r2score}, RMSE : {lgbm_best_rmse}')"
   ]
  },
  {
   "cell_type": "code",
   "execution_count": 53,
   "id": "758f92bd",
   "metadata": {
    "ExecuteTime": {
     "end_time": "2022-01-11T10:26:00.371539Z",
     "start_time": "2022-01-11T10:25:42.842181Z"
    },
    "cell_style": "center"
   },
   "outputs": [
    {
     "name": "stdout",
     "output_type": "stream",
     "text": [
      "R2 score : 0.7879359746326924, RMSE : 105.88848712765386\n"
     ]
    }
   ],
   "source": [
    "# lgbm = LGBMRegressor()\n",
    "# parameters = {\n",
    "#     'boosting_type' : ['gbdt', 'cart', 'goss'],\n",
    "#     'n_estimators' : [250, 270, 260],\n",
    "#     'max_depth': [9, 8, 10],\n",
    "#     'min_child_weight': [0.001, 0.01, 0.1, 1],\n",
    "#     'colsample_bytree': [1, 2, 3],\n",
    "#     'subsample': [0.6, 0.7, 0.8, 0.9, 1]\n",
    "# #     'reg_alpha' : [0.01, 0.001, 1, 0],\n",
    "# #     'reg_lambda' : [0.01, 0.001, 1, 0]\n",
    "# }\n",
    "# n_iter_search = 20\n",
    "# lgbmr = RandomizedSearchCV(lgbm,\n",
    "#                           param_distributions=parameters,\n",
    "#                           n_iter=n_iter_search,\n",
    "#                           cv=kfold,\n",
    "#                           scoring=\"r2\")\n",
    "# lgbmr.fit(x_train, y_train)\n",
    "\n",
    "# lgbmr_r2score = lgbmr.score(x_val, y_val)  # 결정계수 R^2 score\n",
    "# lgbmr_rmse = mean_squared_error(y_val, lgbmr.predict(x_val),\n",
    "#                                squared=False)  # RMSE\n",
    "# print(f'R2 score : {lgbmr_r2score}, RMSE : {lgbmr_rmse}')"
   ]
  },
  {
   "cell_type": "code",
   "execution_count": 56,
   "id": "8ee4c3d4",
   "metadata": {
    "ExecuteTime": {
     "end_time": "2022-01-11T10:26:23.712452Z",
     "start_time": "2022-01-11T10:26:23.697493Z"
    }
   },
   "outputs": [
    {
     "data": {
      "text/plain": [
       "LGBMRegressor(colsample_bytree=1, max_depth=9, min_child_weight=0.01,\n",
       "              n_estimators=260, subsample=0.7)"
      ]
     },
     "execution_count": 56,
     "metadata": {},
     "output_type": "execute_result"
    }
   ],
   "source": [
    "lgbm_best = lgbmr.best_estimator_; lgbm_best"
   ]
  },
  {
   "cell_type": "code",
   "execution_count": 55,
   "id": "baeaa03c",
   "metadata": {
    "ExecuteTime": {
     "end_time": "2022-01-11T10:26:14.256162Z",
     "start_time": "2022-01-11T10:26:14.208289Z"
    }
   },
   "outputs": [
    {
     "name": "stdout",
     "output_type": "stream",
     "text": [
      "R2 score : 0.7456451065362778, RMSE : 120.93061307738425\n"
     ]
    }
   ],
   "source": [
    "lgbm_r2score = lgbmr.score(x_test, y_test)  # 결정계수 R^2 score\n",
    "lgbm_rmse = mean_squared_error(y_test, lgbmr.predict(x_test),\n",
    "                               squared=False)  # RMSE\n",
    "print(f'R2 score : {lgbm_r2score}, RMSE : {lgbm_rmse}')"
   ]
  },
  {
   "cell_type": "code",
   "execution_count": 64,
   "id": "042edb29",
   "metadata": {
    "ExecuteTime": {
     "end_time": "2022-01-11T10:44:22.645402Z",
     "start_time": "2022-01-11T10:44:22.613487Z"
    }
   },
   "outputs": [],
   "source": [
    "# y_pred_lgbmr = lgbmr.predict(x_val)\n",
    "# y_pred_lgbmr = pd.DataFrame(y_pred_lgbmr, columns=['prediction'])\n",
    "# result_lgbmr = pd.concat([y_test, y_pred_lgbmr], axis=1)\n",
    "# result_lgbmr['오차'] = abs(result_lgbmr['리뷰건수증감'] - result_lgbmr['prediction'])\n",
    "# result_lgbmr['오차비율'] = (result_lgbmr['오차'] / result_lgbmr['prediction'])\n",
    "# result_lgbmr.sort_values(by='오차', ascending=False)"
   ]
  },
  {
   "cell_type": "markdown",
   "id": "beed2ad5",
   "metadata": {},
   "source": [
    "### Gradient Boosting Regressor"
   ]
  },
  {
   "cell_type": "code",
   "execution_count": 57,
   "id": "4deb64f2",
   "metadata": {
    "ExecuteTime": {
     "end_time": "2022-01-11T10:41:45.671493Z",
     "start_time": "2022-01-11T10:30:26.687799Z"
    },
    "cell_style": "center",
    "scrolled": true
   },
   "outputs": [
    {
     "name": "stdout",
     "output_type": "stream",
     "text": [
      "R2 score : 0.827877970371249, RMSE : 95.39672648494084\n"
     ]
    }
   ],
   "source": [
    "# gbr = GradientBoostingRegressor(random_state=42)\n",
    "# parameters = {\n",
    "#     'n_estimators' : [300, 250, 400, 350],\n",
    "#     'learning_rate' : [0.1, 0.01, 0.02, 0.05],\n",
    "#     'max_depth': [8, 9, 10, 11],\n",
    "#     'min_samples_split': [5, 6],\n",
    "#     'criterion': ['friedman_mse', 'squared_error', 'mse'],\n",
    "#     'subsample': [0.6, 0.7, 0.8, 0.9, 1]\n",
    "# #     'reg_alpha' : [0.01, 0.001, 1, 0],\n",
    "# #     'reg_lambda' : [0.01, 0.001, 1, 0]\n",
    "# }\n",
    "# n_iter_search = 20\n",
    "# gbrr = RandomizedSearchCV(gbr,\n",
    "#                           param_distributions=parameters,\n",
    "#                           n_iter=n_iter_search,\n",
    "#                           cv=kfold,\n",
    "#                           scoring=\"r2\")\n",
    "# gbrr.fit(x_train, y_train)\n",
    "# # validation 평가\n",
    "# gbr_r2score = gbrr.score(x_val, y_val) # 결정계수 R^2 score\n",
    "# gbr_rmse = mean_squared_error(y_val, gbrr.predict(x_val), squared=False) # RMSE\n",
    "# print(f'R2 score : {gbr_r2score}, RMSE : {gbr_rmse}')"
   ]
  },
  {
   "cell_type": "code",
   "execution_count": 58,
   "id": "828b8510",
   "metadata": {
    "ExecuteTime": {
     "end_time": "2022-01-11T10:42:57.147277Z",
     "start_time": "2022-01-11T10:42:57.125336Z"
    }
   },
   "outputs": [
    {
     "data": {
      "text/plain": [
       "GradientBoostingRegressor(criterion='mse', max_depth=9, min_samples_split=5,\n",
       "                          n_estimators=400, random_state=42, subsample=0.8)"
      ]
     },
     "execution_count": 58,
     "metadata": {},
     "output_type": "execute_result"
    }
   ],
   "source": [
    "gbr_best = gbrr.best_estimator_; gbr_best"
   ]
  },
  {
   "cell_type": "code",
   "execution_count": 40,
   "id": "e78903e8",
   "metadata": {
    "ExecuteTime": {
     "end_time": "2022-01-17T00:19:07.341826Z",
     "start_time": "2022-01-17T00:19:00.633916Z"
    }
   },
   "outputs": [
    {
     "name": "stdout",
     "output_type": "stream",
     "text": [
      "R2 score : 0.827877970371249, RMSE : 95.39672648494084\n"
     ]
    }
   ],
   "source": [
    "gbr_best = GradientBoostingRegressor(criterion='mse', max_depth=9, min_samples_split=5,\n",
    "                          n_estimators=400, random_state=42, subsample=0.8)\n",
    "gbr_best.fit(x_train, y_train)\n",
    "# validation 평가\n",
    "gbr_r2score = gbr_best.score(x_val, y_val) # 결정계수 R^2 score\n",
    "gbr_rmse = mean_squared_error(y_val, gbr_best.predict(x_val), squared=False) # RMSE\n",
    "print(f'R2 score : {gbr_r2score}, RMSE : {gbr_rmse}')"
   ]
  },
  {
   "cell_type": "code",
   "execution_count": 41,
   "id": "74f593f8",
   "metadata": {
    "ExecuteTime": {
     "end_time": "2022-01-17T00:19:07.468141Z",
     "start_time": "2022-01-17T00:19:07.342861Z"
    }
   },
   "outputs": [
    {
     "name": "stdout",
     "output_type": "stream",
     "text": [
      "R2 score : 0.7446072006666941, RMSE : 121.17709312362221\n"
     ]
    }
   ],
   "source": [
    "gbr_r2score = gbr_best.score(x_test, y_test) # 결정계수 R^2 score\n",
    "gbr_rmse = mean_squared_error(y_test, gbr_best.predict(x_test), squared=False) # RMSE\n",
    "print(f'R2 score : {gbr_r2score}, RMSE : {gbr_rmse}')"
   ]
  },
  {
   "cell_type": "markdown",
   "id": "0a122f6b",
   "metadata": {
    "heading_collapsed": true
   },
   "source": [
    "### 잔차 그래프 그려보기"
   ]
  },
  {
   "cell_type": "code",
   "execution_count": 174,
   "id": "56ee379f",
   "metadata": {
    "ExecuteTime": {
     "end_time": "2022-01-14T05:45:00.651855Z",
     "start_time": "2022-01-14T05:45:00.631938Z"
    },
    "hidden": true
   },
   "outputs": [],
   "source": [
    "def modelresults(model):\n",
    "    model.fit(x_train, y_train)\n",
    "    model_r2score_val = r2_score(y_val, model.predict(x_val))\n",
    "    model_rmse_val = mean_squared_error(y_val, model.predict(x_val), squared=False)\n",
    "    model_r2score_test = r2_score(y_test, model.predict(x_test))\n",
    "    model_rmse_test = mean_squared_error(y_test, model.predict(x_test), squared=False)\n",
    "    residual_train = abs(model.predict(x_train) - y_train)\n",
    "    residual_val = abs(model.predict(x_val) - y_val)\n",
    "    residual_test = abs(model.predict(x_test) - y_test)\n",
    "    residual_train.sort_values(ascending=False, inplace=True)\n",
    "    residual_train.reset_index(drop=True, inplace=True)\n",
    "    residual_val.sort_values(ascending=False, inplace=True)\n",
    "    residual_val.reset_index(drop=True, inplace=True)\n",
    "    residual_test.sort_values(ascending=False, inplace=True)\n",
    "    residual_test.reset_index(drop=True, inplace=True)\n",
    "    \n",
    "    plt.figure(figsize=(15, 7))\n",
    "    plt.plot(residual_train, label='train_loss')\n",
    "    plt.plot(residual_val, label='val_loss')\n",
    "    plt.plot(residual_test, label='test_loss')\n",
    "    plt.ylabel('예측값 차이')\n",
    "    plt.ylim(0,500)\n",
    "    plt.legend()\n",
    "    plt.show()\n",
    "    return model_r2score_val, model_rmse_val, model_r2score_test, model_rmse_test"
   ]
  },
  {
   "cell_type": "code",
   "execution_count": 175,
   "id": "558083de",
   "metadata": {
    "ExecuteTime": {
     "end_time": "2022-01-14T05:45:09.735178Z",
     "start_time": "2022-01-14T05:45:02.958197Z"
    },
    "hidden": true
   },
   "outputs": [
    {
     "data": {
      "image/png": "[encoded data removed]",
      "text/plain": [
       "<Figure size 1080x504 with 1 Axes>"
      ]
     },
     "metadata": {},
     "output_type": "display_data"
    },
    {
     "data": {
      "text/plain": [
       "(0.8181625380728369, 98.05210540987433, 0.7862264760576076, 110.86466886058227)"
      ]
     },
     "execution_count": 175,
     "metadata": {},
     "output_type": "execute_result"
    }
   ],
   "source": [
    "modelresults(xgb_best)"
   ]
  },
  {
   "cell_type": "code",
   "execution_count": 176,
   "id": "c46f41bb",
   "metadata": {
    "ExecuteTime": {
     "end_time": "2022-01-14T07:06:58.646377Z",
     "start_time": "2022-01-14T07:06:36.451933Z"
    },
    "hidden": true
   },
   "outputs": [
    {
     "name": "stdout",
     "output_type": "stream",
     "text": [
      "Fitting 5 folds for each of 1 candidates, totalling 5 fits\n"
     ]
    },
    {
     "data": {
      "image/png": "[encoded data removed]",
      "text/plain": [
       "<Figure size 1080x504 with 1 Axes>"
      ]
     },
     "metadata": {},
     "output_type": "display_data"
    },
    {
     "data": {
      "text/plain": [
       "(0.8387823598521954, 92.32546908353005, 0.8012328977339167, 106.9026470731757)"
      ]
     },
     "execution_count": 176,
     "metadata": {},
     "output_type": "execute_result"
    }
   ],
   "source": [
    "modelresults(stc1)"
   ]
  },
  {
   "cell_type": "code",
   "execution_count": 169,
   "id": "4c456450",
   "metadata": {
    "ExecuteTime": {
     "end_time": "2022-01-14T05:06:57.535997Z",
     "start_time": "2022-01-14T05:06:11.483657Z"
    },
    "hidden": true
   },
   "outputs": [
    {
     "name": "stdout",
     "output_type": "stream",
     "text": [
      "Fitting 5 folds for each of 1 candidates, totalling 5 fits\n"
     ]
    },
    {
     "data": {
      "image/png": "[encoded data removed]",
      "text/plain": [
       "<Figure size 1080x504 with 1 Axes>"
      ]
     },
     "metadata": {},
     "output_type": "display_data"
    },
    {
     "data": {
      "text/plain": [
       "(0.815146523806552, 98.86192302714022, 0.8225936531971909, 100.99521135563084)"
      ]
     },
     "execution_count": 169,
     "metadata": {},
     "output_type": "execute_result"
    }
   ],
   "source": [
    "modelresults(stc2)"
   ]
  },
  {
   "cell_type": "code",
   "execution_count": 150,
   "id": "9c0a3f00",
   "metadata": {
    "ExecuteTime": {
     "end_time": "2022-01-14T04:57:39.199317Z",
     "start_time": "2022-01-14T04:57:38.997248Z"
    },
    "hidden": true
   },
   "outputs": [],
   "source": [
    "residual_val = abs(lgbm_best.predict(x_val) - y_val)\n",
    "residual_test = abs(lgbm_best.predict(x_test) - y_test)"
   ]
  },
  {
   "cell_type": "markdown",
   "id": "e9734b5e",
   "metadata": {},
   "source": [
    "### ML"
   ]
  },
  {
   "cell_type": "code",
   "execution_count": 47,
   "id": "0bfca093",
   "metadata": {
    "ExecuteTime": {
     "end_time": "2022-01-14T02:07:39.136903Z",
     "start_time": "2022-01-14T02:07:39.110972Z"
    },
    "scrolled": false
   },
   "outputs": [
    {
     "data": {
      "text/html": [
       "<div>\n",
       "<style scoped>\n",
       "    .dataframe tbody tr th:only-of-type {\n",
       "        vertical-align: middle;\n",
       "    }\n",
       "\n",
       "    .dataframe tbody tr th {\n",
       "        vertical-align: top;\n",
       "    }\n",
       "\n",
       "    .dataframe thead th {\n",
       "        text-align: right;\n",
       "    }\n",
       "</style>\n",
       "<table border=\"1\" class=\"dataframe\">\n",
       "  <thead>\n",
       "    <tr style=\"text-align: right;\">\n",
       "      <th></th>\n",
       "      <th>모델</th>\n",
       "      <th>r2 score</th>\n",
       "      <th>RMSE</th>\n",
       "    </tr>\n",
       "  </thead>\n",
       "  <tbody>\n",
       "    <tr>\n",
       "      <th>9</th>\n",
       "      <td>Gradient Boosting</td>\n",
       "      <td>0.827878</td>\n",
       "      <td>95.396726</td>\n",
       "    </tr>\n",
       "    <tr>\n",
       "      <th>7</th>\n",
       "      <td>XGBoost</td>\n",
       "      <td>0.818163</td>\n",
       "      <td>98.052105</td>\n",
       "    </tr>\n",
       "    <tr>\n",
       "      <th>8</th>\n",
       "      <td>LightGBM</td>\n",
       "      <td>0.803567</td>\n",
       "      <td>101.911302</td>\n",
       "    </tr>\n",
       "    <tr>\n",
       "      <th>6</th>\n",
       "      <td>RandomForest</td>\n",
       "      <td>0.793498</td>\n",
       "      <td>108.962775</td>\n",
       "    </tr>\n",
       "    <tr>\n",
       "      <th>5</th>\n",
       "      <td>Decision Tree</td>\n",
       "      <td>0.396658</td>\n",
       "      <td>186.250721</td>\n",
       "    </tr>\n",
       "    <tr>\n",
       "      <th>2</th>\n",
       "      <td>Ridge</td>\n",
       "      <td>0.074140</td>\n",
       "      <td>221.252344</td>\n",
       "    </tr>\n",
       "    <tr>\n",
       "      <th>1</th>\n",
       "      <td>Lasso</td>\n",
       "      <td>0.073227</td>\n",
       "      <td>221.361469</td>\n",
       "    </tr>\n",
       "    <tr>\n",
       "      <th>3</th>\n",
       "      <td>ElasticNet</td>\n",
       "      <td>0.042365</td>\n",
       "      <td>234.647681</td>\n",
       "    </tr>\n",
       "    <tr>\n",
       "      <th>0</th>\n",
       "      <td>Linear Regression</td>\n",
       "      <td>0.032226</td>\n",
       "      <td>235.886504</td>\n",
       "    </tr>\n",
       "    <tr>\n",
       "      <th>4</th>\n",
       "      <td>SVM</td>\n",
       "      <td>-0.040985</td>\n",
       "      <td>244.646180</td>\n",
       "    </tr>\n",
       "  </tbody>\n",
       "</table>\n",
       "</div>"
      ],
      "text/plain": [
       "                  모델  r2 score        RMSE\n",
       "9  Gradient Boosting  0.827878   95.396726\n",
       "7            XGBoost  0.818163   98.052105\n",
       "8           LightGBM  0.803567  101.911302\n",
       "6       RandomForest  0.793498  108.962775\n",
       "5      Decision Tree  0.396658  186.250721\n",
       "2              Ridge  0.074140  221.252344\n",
       "1              Lasso  0.073227  221.361469\n",
       "3         ElasticNet  0.042365  234.647681\n",
       "0  Linear Regression  0.032226  235.886504\n",
       "4                SVM -0.040985  244.646180"
      ]
     },
     "execution_count": 47,
     "metadata": {},
     "output_type": "execute_result"
    }
   ],
   "source": [
    "results = pd.DataFrame({\n",
    "    '모델': ['Linear Regression', 'Lasso', 'Ridge', 'ElasticNet', 'SVM', 'Decision Tree', 'RandomForest', 'XGBoost', 'LightGBM', 'Gradient Boosting'],\n",
    "    'r2 score': [lm_r2score, lasso_r2score, ridge_r2score, en_r2score, svr_r2score, dt_r2score, rf_r2score, xgb_r2score, lgbm_r2score, gbr_r2score],\n",
    "    'RMSE': [lm_rmse, lasso_rmse, ridge_rmse, en_rmse, svr_rmse, dt_rmse, rf_rmse, xgb_rmse, lgbm_rmse, gbr_rmse]})\n",
    "results.sort_values(by='RMSE', ascending=True)"
   ]
  },
  {
   "cell_type": "markdown",
   "id": "bd69089b",
   "metadata": {},
   "source": [
    "### Stacking-Averaging"
   ]
  },
  {
   "cell_type": "code",
   "execution_count": 46,
   "id": "66fb5a91",
   "metadata": {
    "ExecuteTime": {
     "end_time": "2022-01-17T00:58:39.619852Z",
     "start_time": "2022-01-17T00:58:38.575413Z"
    }
   },
   "outputs": [],
   "source": [
    "y_pred_gbr = gbr_best.predict(x_val)\n",
    "y_pred_xgb = xgb_best.predict(x_val)\n",
    "y_pred_rf = rf_best.predict(x_val)\n",
    "y_pred_gbr_test = gbr_best.predict(x_test)\n",
    "y_pred_xgb_test = xgb_best.predict(x_test)\n",
    "y_pred_rf_test = rf_best.predict(x_test)"
   ]
  },
  {
   "cell_type": "code",
   "execution_count": 47,
   "id": "6100a460",
   "metadata": {
    "ExecuteTime": {
     "end_time": "2022-01-17T00:58:40.112525Z",
     "start_time": "2022-01-17T00:58:39.620641Z"
    }
   },
   "outputs": [
    {
     "data": {
      "text/plain": [
       "array([ 37.95427479,  58.87338998, 106.71415075, ..., 143.49832656,\n",
       "        39.67120067, 153.51346045])"
      ]
     },
     "metadata": {},
     "output_type": "display_data"
    },
    {
     "data": {
      "text/plain": [
       "array([ 40.61689,  43.66859, 144.10095, ..., 152.4631 ,  36.60611,\n",
       "       152.4748 ], dtype=float32)"
      ]
     },
     "metadata": {},
     "output_type": "display_data"
    },
    {
     "data": {
      "text/plain": [
       "array([ 39.86428571,  47.65142857, 134.78761905, ..., 120.81857143,\n",
       "        39.06714286, 162.78571429])"
      ]
     },
     "metadata": {},
     "output_type": "display_data"
    }
   ],
   "source": [
    "display(y_pred_gbr)\n",
    "display(y_pred_xgb)\n",
    "display(y_pred_rf)\n",
    "y_pred_gbr_test = gbr_best.predict(x_test)\n",
    "y_pred_xgb_test = xgb_best.predict(x_test)\n",
    "y_pred_rf_test = rf_best.predict(x_test)"
   ]
  },
  {
   "cell_type": "code",
   "execution_count": 48,
   "id": "95cd57cf",
   "metadata": {
    "ExecuteTime": {
     "end_time": "2022-01-17T00:58:40.128061Z",
     "start_time": "2022-01-17T00:58:40.113485Z"
    }
   },
   "outputs": [
    {
     "data": {
      "text/plain": [
       "array([ 38.90928025,  53.26240928, 120.7508849 , ..., 132.15844899,\n",
       "        39.36917176, 158.14958737])"
      ]
     },
     "execution_count": 48,
     "metadata": {},
     "output_type": "execute_result"
    }
   ],
   "source": [
    "y_pred_avg2 = (y_pred_gbr + y_pred_rf) / 2; y_pred_avg2"
   ]
  },
  {
   "cell_type": "code",
   "execution_count": 49,
   "id": "df50c5b4",
   "metadata": {
    "ExecuteTime": {
     "end_time": "2022-01-17T00:58:40.144049Z",
     "start_time": "2022-01-17T00:58:40.129024Z"
    }
   },
   "outputs": [
    {
     "data": {
      "text/plain": [
       "array([18.78600105, 64.57160367, 17.15786583, ..., 10.90796347,\n",
       "       37.0552729 , 23.05150819])"
      ]
     },
     "execution_count": 49,
     "metadata": {},
     "output_type": "execute_result"
    }
   ],
   "source": [
    "y_pred_avg2_test = (y_pred_gbr_test + y_pred_rf_test) / 2; y_pred_avg2_test"
   ]
  },
  {
   "cell_type": "code",
   "execution_count": 50,
   "id": "a8e5798c",
   "metadata": {
    "ExecuteTime": {
     "end_time": "2022-01-17T00:58:40.159941Z",
     "start_time": "2022-01-17T00:58:40.144980Z"
    }
   },
   "outputs": [
    {
     "data": {
      "text/plain": [
       "array([ 39.47848348,  50.0644697 , 128.53424065, ..., 138.92666741,\n",
       "        38.44815105, 156.25798907])"
      ]
     },
     "execution_count": 50,
     "metadata": {},
     "output_type": "execute_result"
    }
   ],
   "source": [
    "y_pred_avg3 = (y_pred_gbr + y_pred_xgb + y_pred_rf) / 3; y_pred_avg3"
   ]
  },
  {
   "cell_type": "code",
   "execution_count": 51,
   "id": "b947b3fb",
   "metadata": {
    "ExecuteTime": {
     "end_time": "2022-01-17T00:58:40.175965Z",
     "start_time": "2022-01-17T00:58:40.160938Z"
    }
   },
   "outputs": [
    {
     "data": {
      "text/plain": [
       "array([16.47815344, 72.48141854, 22.52695994, ..., 10.40989698,\n",
       "       35.24710264, 26.81724946])"
      ]
     },
     "execution_count": 51,
     "metadata": {},
     "output_type": "execute_result"
    }
   ],
   "source": [
    "y_pred_avg3_test = (y_pred_gbr_test + y_pred_xgb_test + y_pred_rf_test) / 3; y_pred_avg3_test"
   ]
  },
  {
   "cell_type": "code",
   "execution_count": 52,
   "id": "4aaf75bb",
   "metadata": {
    "ExecuteTime": {
     "end_time": "2022-01-17T00:58:40.191890Z",
     "start_time": "2022-01-17T00:58:40.176896Z"
    }
   },
   "outputs": [
    {
     "name": "stdout",
     "output_type": "stream",
     "text": [
      "R2 score : 0.8485168343416468, RMSE : 89.4947231991797\n"
     ]
    }
   ],
   "source": [
    "avg2_r2score = r2_score(y_val, y_pred_avg2) # 결정계수 R^2 score\n",
    "avg2_rmse = mean_squared_error(y_val, y_pred_avg2, squared=False) # RMSE\n",
    "print(f'R2 score : {avg2_r2score}, RMSE : {avg2_rmse}')"
   ]
  },
  {
   "cell_type": "code",
   "execution_count": 53,
   "id": "73a9c9c5",
   "metadata": {
    "ExecuteTime": {
     "end_time": "2022-01-17T00:58:40.692755Z",
     "start_time": "2022-01-17T00:58:40.685775Z"
    }
   },
   "outputs": [
    {
     "name": "stdout",
     "output_type": "stream",
     "text": [
      "R2 score : 0.7854997746038963, RMSE : 111.052945598721\n"
     ]
    }
   ],
   "source": [
    "avg2_test_r2score = r2_score(y_test, y_pred_avg2_test) # 결정계수 R^2 score\n",
    "avg2_test_rmse = mean_squared_error(y_test, y_pred_avg2_test, squared=False) # RMSE\n",
    "print(f'R2 score : {avg2_test_r2score}, RMSE : {avg2_test_rmse}')"
   ]
  },
  {
   "cell_type": "code",
   "execution_count": 54,
   "id": "97c2e59e",
   "metadata": {
    "ExecuteTime": {
     "end_time": "2022-01-17T00:58:40.835600Z",
     "start_time": "2022-01-17T00:58:40.821611Z"
    }
   },
   "outputs": [
    {
     "name": "stdout",
     "output_type": "stream",
     "text": [
      "R2 score : 0.8477952814648853, RMSE : 89.70761306155072\n"
     ]
    }
   ],
   "source": [
    "avg3_r2score = r2_score(y_val, y_pred_avg3) # 결정계수 R^2 score\n",
    "avg3_rmse = mean_squared_error(y_val, y_pred_avg3, squared=False) # RMSE\n",
    "print(f'R2 score : {avg3_r2score}, RMSE : {avg3_rmse}')"
   ]
  },
  {
   "cell_type": "code",
   "execution_count": 55,
   "id": "1c6b1aae",
   "metadata": {
    "ExecuteTime": {
     "end_time": "2022-01-17T00:58:41.055029Z",
     "start_time": "2022-01-17T00:58:41.051001Z"
    }
   },
   "outputs": [
    {
     "name": "stdout",
     "output_type": "stream",
     "text": [
      "R2 score : 0.7935648955521586, RMSE : 108.94517018032445\n"
     ]
    }
   ],
   "source": [
    "avg3_test_r2score = r2_score(y_test, y_pred_avg3_test) # 결정계수 R^2 score\n",
    "avg3_test_rmse = mean_squared_error(y_test, y_pred_avg3_test, squared=False) # RMSE\n",
    "print(f'R2 score : {avg3_test_r2score}, RMSE : {avg3_test_rmse}')"
   ]
  },
  {
   "cell_type": "markdown",
   "id": "63d443ef",
   "metadata": {},
   "source": [
    "- 스태킹 모델 추가"
   ]
  },
  {
   "cell_type": "code",
   "execution_count": 56,
   "id": "08d1d8d2",
   "metadata": {
    "ExecuteTime": {
     "end_time": "2022-01-17T00:58:44.972864Z",
     "start_time": "2022-01-17T00:58:41.820490Z"
    }
   },
   "outputs": [],
   "source": [
    "import pickle, joblib\n",
    "stc1 = joblib.load('stacking_model.pkl')\n",
    "stc2 = joblib.load('G:/내 드라이브/프로젝트/아자아자2조유통파이팅~!/모델(피클)/stacking_model2.pkl')"
   ]
  },
  {
   "cell_type": "code",
   "execution_count": 110,
   "id": "5313de0a",
   "metadata": {
    "ExecuteTime": {
     "end_time": "2022-01-17T02:10:37.399235Z",
     "start_time": "2022-01-17T02:10:37.382282Z"
    }
   },
   "outputs": [
    {
     "data": {
      "text/plain": [
       "GridSearchCV(cv=KFold(n_splits=5, random_state=42, shuffle=True),\n",
       "             estimator=StackingRegressor(meta_regressor=GradientBoostingRegressor(random_state=42),\n",
       "                                         regressors=[RandomForestRegressor(random_state=42)]),\n",
       "             n_jobs=-1,\n",
       "             param_grid={'meta_regressor__learning_rate': [0.05],\n",
       "                         'meta_regressor__max_depth': [7],\n",
       "                         'meta_regressor__min_samples_leaf': [7],\n",
       "                         'meta_regressor__min_samples_split': [5],\n",
       "                         'meta_regressor__n_estimators': [1000],\n",
       "                         'randomforestregressor__bootstrap': [False],\n",
       "                         'randomforestregressor__max_depth': [None],\n",
       "                         'randomforestregressor__max_features': ['sqrt'],\n",
       "                         'randomforestregressor__min_samples_leaf': [1],\n",
       "                         'randomforestregressor__n_estimators': [300]},\n",
       "             scoring='neg_mean_squared_error', verbose=1)"
      ]
     },
     "execution_count": 110,
     "metadata": {},
     "output_type": "execute_result"
    }
   ],
   "source": [
    "stc1"
   ]
  },
  {
   "cell_type": "code",
   "execution_count": 111,
   "id": "cd0de3fd",
   "metadata": {
    "ExecuteTime": {
     "end_time": "2022-01-17T02:10:53.560317Z",
     "start_time": "2022-01-17T02:10:53.526437Z"
    }
   },
   "outputs": [
    {
     "data": {
      "text/plain": [
       "GridSearchCV(cv=KFold(n_splits=5, random_state=42, shuffle=True),\n",
       "             estimator=StackingRegressor(meta_regressor=LGBMRegressor(random_state=42),\n",
       "                                         regressors=[RandomForestRegressor(random_state=42),\n",
       "                                                     XGBRegressor(base_score=None,\n",
       "                                                                  booster=None,\n",
       "                                                                  colsample_bylevel=None,\n",
       "                                                                  colsample_bynode=None,\n",
       "                                                                  colsample_bytree=None,\n",
       "                                                                  enable_categorical=False,\n",
       "                                                                  gamma=None,\n",
       "                                                                  gpu_id=None,\n",
       "                                                                  impor...\n",
       "                         'randomforestregressor__bootstrap': [False],\n",
       "                         'randomforestregressor__max_features': ['sqrt'],\n",
       "                         'randomforestregressor__min_samples_leaf': [1],\n",
       "                         'randomforestregressor__n_estimators': [700],\n",
       "                         'xgbregressor__colsample_bytree': [0.4],\n",
       "                         'xgbregressor__learning_rate': [0.05],\n",
       "                         'xgbregressor__max_depth': [10],\n",
       "                         'xgbregressor__n_estimators': [800]},\n",
       "             scoring='neg_mean_squared_error', verbose=1)"
      ]
     },
     "execution_count": 111,
     "metadata": {},
     "output_type": "execute_result"
    }
   ],
   "source": [
    "stc2"
   ]
  },
  {
   "cell_type": "code",
   "execution_count": 218,
   "id": "7a22e3ef",
   "metadata": {
    "ExecuteTime": {
     "end_time": "2022-01-17T07:20:56.689837Z",
     "start_time": "2022-01-17T07:20:56.673495Z"
    }
   },
   "outputs": [
    {
     "data": {
      "text/plain": [
       "-13638.168518550083"
      ]
     },
     "execution_count": 218,
     "metadata": {},
     "output_type": "execute_result"
    }
   ],
   "source": [
    "stc2.best_score_"
   ]
  },
  {
   "cell_type": "code",
   "execution_count": null,
   "id": "aead7e51",
   "metadata": {},
   "outputs": [],
   "source": [
    "stc2."
   ]
  },
  {
   "cell_type": "code",
   "execution_count": 57,
   "id": "3d7342ac",
   "metadata": {
    "ExecuteTime": {
     "end_time": "2022-01-17T00:58:46.307288Z",
     "start_time": "2022-01-17T00:58:44.975855Z"
    }
   },
   "outputs": [],
   "source": [
    "y_pred_stc1 = stc1.predict(x_val)\n",
    "y_pred_stc1_test = stc1.predict(x_test)\n",
    "y_pred_stc2 = stc2.predict(x_val)\n",
    "y_pred_stc2_test = stc2.predict(x_test)"
   ]
  },
  {
   "cell_type": "code",
   "execution_count": 58,
   "id": "5192cb8f",
   "metadata": {
    "ExecuteTime": {
     "end_time": "2022-01-17T00:58:46.975601Z",
     "start_time": "2022-01-17T00:58:46.309282Z"
    }
   },
   "outputs": [
    {
     "name": "stdout",
     "output_type": "stream",
     "text": [
      "0.8012328977339167\n",
      "0.8225936531971909\n"
     ]
    }
   ],
   "source": [
    "print(r2_score(y_test, stc1.predict(x_test)))\n",
    "print(r2_score(y_test, stc2.predict(x_test)))"
   ]
  },
  {
   "cell_type": "code",
   "execution_count": 59,
   "id": "3fad839c",
   "metadata": {
    "ExecuteTime": {
     "end_time": "2022-01-17T00:58:46.991558Z",
     "start_time": "2022-01-17T00:58:46.978593Z"
    }
   },
   "outputs": [
    {
     "data": {
      "text/plain": [
       "array([ 39.60619564,  51.50827431, 126.83390075, ..., 129.10562477,\n",
       "        38.9127892 , 164.76636438])"
      ]
     },
     "execution_count": 59,
     "metadata": {},
     "output_type": "execute_result"
    }
   ],
   "source": [
    "y_pred_avg2_stc1 = (y_pred_stc1 + y_pred_gbr + y_pred_rf) / 3; y_pred_avg2_stc1"
   ]
  },
  {
   "cell_type": "code",
   "execution_count": 60,
   "id": "43aedae2",
   "metadata": {
    "ExecuteTime": {
     "end_time": "2022-01-17T00:58:47.006518Z",
     "start_time": "2022-01-17T00:58:46.993553Z"
    }
   },
   "outputs": [
    {
     "data": {
      "text/plain": [
       "array([ 39.26968562,  51.4953817 , 125.62908232, ..., 128.50700481,\n",
       "        39.23972409, 159.27341373])"
      ]
     },
     "execution_count": 60,
     "metadata": {},
     "output_type": "execute_result"
    }
   ],
   "source": [
    "y_pred_avg2_stc2 = (y_pred_stc2 + y_pred_gbr + y_pred_rf) / 3; y_pred_avg2_stc2"
   ]
  },
  {
   "cell_type": "code",
   "execution_count": 61,
   "id": "ad99060e",
   "metadata": {
    "ExecuteTime": {
     "end_time": "2022-01-17T00:58:47.022476Z",
     "start_time": "2022-01-17T00:58:47.009510Z"
    }
   },
   "outputs": [
    {
     "data": {
      "text/plain": [
       "array([17.5240244 , 60.38108844, 17.43859903, ..., 16.60532068,\n",
       "       34.37019396, 24.36769301])"
      ]
     },
     "execution_count": 61,
     "metadata": {},
     "output_type": "execute_result"
    }
   ],
   "source": [
    "y_pred_avg2_stc1_test = (y_pred_stc1_test + y_pred_gbr_test + y_pred_rf_test) / 3; y_pred_avg2_stc1_test"
   ]
  },
  {
   "cell_type": "code",
   "execution_count": 62,
   "id": "936e2e0a",
   "metadata": {
    "ExecuteTime": {
     "end_time": "2022-01-17T00:58:47.038433Z",
     "start_time": "2022-01-17T00:58:47.025468Z"
    }
   },
   "outputs": [
    {
     "data": {
      "text/plain": [
       "array([18.18370285, 60.14290941, 17.4433664 , ..., 16.59502675,\n",
       "       35.34092984, 21.37293745])"
      ]
     },
     "execution_count": 62,
     "metadata": {},
     "output_type": "execute_result"
    }
   ],
   "source": [
    "y_pred_avg2_stc2_test = (y_pred_stc2_test + y_pred_gbr_test + y_pred_rf_test) / 3; y_pred_avg2_stc2_test"
   ]
  },
  {
   "cell_type": "code",
   "execution_count": 63,
   "id": "933fbdf9",
   "metadata": {
    "ExecuteTime": {
     "end_time": "2022-01-17T00:58:47.054391Z",
     "start_time": "2022-01-17T00:58:47.040428Z"
    }
   },
   "outputs": [
    {
     "name": "stdout",
     "output_type": "stream",
     "text": [
      "R2 score : 0.8487101133530517, RMSE : 89.43761133273937\n"
     ]
    }
   ],
   "source": [
    "avg2_stc1_r2score = r2_score(y_val, y_pred_avg2_stc1) # 결정계수 R^2 score\n",
    "avg2_stc1_rmse = mean_squared_error(y_val, y_pred_avg2_stc1, squared=False) # RMSE\n",
    "print(f'R2 score : {avg2_stc1_r2score}, RMSE : {avg2_stc1_rmse}')"
   ]
  },
  {
   "cell_type": "code",
   "execution_count": 64,
   "id": "8fa6483b",
   "metadata": {
    "ExecuteTime": {
     "end_time": "2022-01-17T00:58:47.070415Z",
     "start_time": "2022-01-17T00:58:47.056385Z"
    }
   },
   "outputs": [
    {
     "name": "stdout",
     "output_type": "stream",
     "text": [
      "R2 score : 0.7949244629034384, RMSE : 108.58582486097204\n"
     ]
    }
   ],
   "source": [
    "avg2_stc1_test_r2score = r2_score(y_test, y_pred_avg2_stc1_test) # 결정계수 R^2 score\n",
    "avg2_stc1_test_rmse = mean_squared_error(y_test, y_pred_avg2_stc1_test, squared=False) # RMSE\n",
    "print(f'R2 score : {avg2_stc1_test_r2score}, RMSE : {avg2_stc1_test_rmse}')"
   ]
  },
  {
   "cell_type": "code",
   "execution_count": 65,
   "id": "405edebf",
   "metadata": {
    "ExecuteTime": {
     "end_time": "2022-01-17T00:58:47.085995Z",
     "start_time": "2022-01-17T00:58:47.073339Z"
    }
   },
   "outputs": [
    {
     "name": "stdout",
     "output_type": "stream",
     "text": [
      "R2 score : 0.8520796042181384, RMSE : 88.43603706960461\n"
     ]
    }
   ],
   "source": [
    "avg2_stc2_r2score = r2_score(y_val, y_pred_avg2_stc2) # 결정계수 R^2 score\n",
    "avg2_stc2_rmse = mean_squared_error(y_val, y_pred_avg2_stc2, squared=False) # RMSE\n",
    "print(f'R2 score : {avg2_stc2_r2score}, RMSE : {avg2_stc2_rmse}')"
   ]
  },
  {
   "cell_type": "code",
   "execution_count": 66,
   "id": "1ace1c91",
   "metadata": {
    "ExecuteTime": {
     "end_time": "2022-01-17T00:58:47.101917Z",
     "start_time": "2022-01-17T00:58:47.086957Z"
    }
   },
   "outputs": [
    {
     "name": "stdout",
     "output_type": "stream",
     "text": [
      "R2 score : 0.8077096950330759, RMSE : 105.1465191512114\n"
     ]
    }
   ],
   "source": [
    "avg2_stc2_test_r2score = r2_score(y_test, y_pred_avg2_stc2_test) # 결정계수 R^2 score\n",
    "avg2_stc2_test_rmse = mean_squared_error(y_test, y_pred_avg2_stc2_test, squared=False) # RMSE\n",
    "print(f'R2 score : {avg2_stc2_test_r2score}, RMSE : {avg2_stc2_test_rmse}')"
   ]
  },
  {
   "cell_type": "code",
   "execution_count": 67,
   "id": "c29bb136",
   "metadata": {
    "ExecuteTime": {
     "end_time": "2022-01-17T00:58:47.117902Z",
     "start_time": "2022-01-17T00:58:47.102953Z"
    }
   },
   "outputs": [
    {
     "data": {
      "text/plain": [
       "array([ 39.85886922,  49.54835337, 131.1506636 , ..., 134.94499464,\n",
       "        38.3361193 , 161.69347141])"
      ]
     },
     "execution_count": 67,
     "metadata": {},
     "output_type": "execute_result"
    }
   ],
   "source": [
    "y_pred_avg3_stc1 = (y_pred_stc1 + y_pred_gbr + y_pred_xgb + y_pred_rf) / 4; y_pred_avg3_stc1"
   ]
  },
  {
   "cell_type": "code",
   "execution_count": 68,
   "id": "4a172a45",
   "metadata": {
    "ExecuteTime": {
     "end_time": "2022-01-17T00:58:47.133866Z",
     "start_time": "2022-01-17T00:58:47.118872Z"
    }
   },
   "outputs": [
    {
     "data": {
      "text/plain": [
       "array([16.10863286, 67.3610784 , 21.39523632, ..., 14.80743151,\n",
       "       33.68533599, 26.86295276])"
      ]
     },
     "execution_count": 68,
     "metadata": {},
     "output_type": "execute_result"
    }
   ],
   "source": [
    "y_pred_avg3_stc1_test = (y_pred_stc1_test + y_pred_gbr_test + y_pred_xgb_test + y_pred_rf_test) / 4; y_pred_avg3_stc1_test"
   ]
  },
  {
   "cell_type": "code",
   "execution_count": 69,
   "id": "5edd448c",
   "metadata": {
    "ExecuteTime": {
     "end_time": "2022-01-17T00:58:47.149823Z",
     "start_time": "2022-01-17T00:58:47.134883Z"
    }
   },
   "outputs": [
    {
     "data": {
      "text/plain": [
       "array([ 39.60648671,  49.53868391, 130.24704978, ..., 134.49602967,\n",
       "        38.58132047, 157.57375842])"
      ]
     },
     "execution_count": 69,
     "metadata": {},
     "output_type": "execute_result"
    }
   ],
   "source": [
    "y_pred_avg3_stc2 = (y_pred_stc2 + y_pred_gbr + y_pred_xgb + y_pred_rf) / 4; y_pred_avg3_stc2"
   ]
  },
  {
   "cell_type": "code",
   "execution_count": 70,
   "id": "066a21e8",
   "metadata": {
    "ExecuteTime": {
     "end_time": "2022-01-17T00:58:47.164788Z",
     "start_time": "2022-01-17T00:58:47.150813Z"
    }
   },
   "outputs": [
    {
     "data": {
      "text/plain": [
       "array([16.60339169, 67.18244413, 21.39881184, ..., 14.79971106,\n",
       "       34.41338791, 24.61688608])"
      ]
     },
     "execution_count": 70,
     "metadata": {},
     "output_type": "execute_result"
    }
   ],
   "source": [
    "y_pred_avg3_stc2_test = (y_pred_stc2_test + y_pred_gbr_test + y_pred_xgb_test + y_pred_rf_test) / 4; y_pred_avg3_stc2_test"
   ]
  },
  {
   "cell_type": "code",
   "execution_count": 71,
   "id": "8f05e875",
   "metadata": {
    "ExecuteTime": {
     "end_time": "2022-01-17T00:58:47.180772Z",
     "start_time": "2022-01-17T00:58:47.166743Z"
    }
   },
   "outputs": [
    {
     "name": "stdout",
     "output_type": "stream",
     "text": [
      "R2 score : 0.8472861063472371, RMSE : 89.85753859463263\n"
     ]
    }
   ],
   "source": [
    "avg3_stc1_r2score = r2_score(y_val, y_pred_avg3_stc1) # 결정계수 R^2 score\n",
    "avg3_stc1_rmse = mean_squared_error(y_val, y_pred_avg3_stc1, squared=False) # RMSE\n",
    "print(f'R2 score : {avg3_stc1_r2score}, RMSE : {avg3_stc1_rmse}')"
   ]
  },
  {
   "cell_type": "code",
   "execution_count": 72,
   "id": "fbfbaf9e",
   "metadata": {
    "ExecuteTime": {
     "end_time": "2022-01-17T00:58:47.418415Z",
     "start_time": "2022-01-17T00:58:47.404452Z"
    }
   },
   "outputs": [
    {
     "name": "stdout",
     "output_type": "stream",
     "text": [
      "R2 score : 0.7979209182072329, RMSE : 107.7896063511267\n"
     ]
    }
   ],
   "source": [
    "avg3_stc1_test_r2score = r2_score(y_test, y_pred_avg3_stc1_test) # 결정계수 R^2 score\n",
    "avg3_stc1_test_rmse = mean_squared_error(y_test, y_pred_avg3_stc1_test, squared=False) # RMSE\n",
    "print(f'R2 score : {avg3_stc1_test_r2score}, RMSE : {avg3_stc1_test_rmse}')"
   ]
  },
  {
   "cell_type": "code",
   "execution_count": 73,
   "id": "56fb9d23",
   "metadata": {
    "ExecuteTime": {
     "end_time": "2022-01-17T00:58:47.746831Z",
     "start_time": "2022-01-17T00:58:47.730873Z"
    }
   },
   "outputs": [
    {
     "name": "stdout",
     "output_type": "stream",
     "text": [
      "R2 score : 0.8521721880030527, RMSE : 88.40835655747743\n"
     ]
    }
   ],
   "source": [
    "avg3_stc2_r2score = r2_score(y_val, y_pred_avg3_stc2) # 결정계수 R^2 score\n",
    "avg3_stc2_rmse = mean_squared_error(y_val, y_pred_avg3_stc2, squared=False) # RMSE\n",
    "print(f'R2 score : {avg3_stc2_r2score}, RMSE : {avg3_stc2_rmse}')"
   ]
  },
  {
   "cell_type": "code",
   "execution_count": 74,
   "id": "dc717eb1",
   "metadata": {
    "ExecuteTime": {
     "end_time": "2022-01-17T00:58:48.063376Z",
     "start_time": "2022-01-17T00:58:48.050411Z"
    }
   },
   "outputs": [
    {
     "name": "stdout",
     "output_type": "stream",
     "text": [
      "R2 score : 0.8086326133015784, RMSE : 104.89388456266236\n"
     ]
    }
   ],
   "source": [
    "avg3_stc2_test_r2score = r2_score(y_test, y_pred_avg3_stc2_test) # 결정계수 R^2 score\n",
    "avg3_stc2_test_rmse = mean_squared_error(y_test, y_pred_avg3_stc2_test, squared=False) # RMSE\n",
    "print(f'R2 score : {avg3_stc2_test_r2score}, RMSE : {avg3_stc2_test_rmse}')"
   ]
  },
  {
   "cell_type": "code",
   "execution_count": 95,
   "id": "1ac119c1",
   "metadata": {
    "ExecuteTime": {
     "end_time": "2022-01-17T01:28:17.976406Z",
     "start_time": "2022-01-17T01:28:17.963400Z"
    }
   },
   "outputs": [],
   "source": [
    "y_pred = test_df[['상품아이디', '리뷰건수증감']]\n",
    "# y_pred['GBR_예측값'] = y_pred_gbr_test\n",
    "# y_pred['XGB_예측값'] = y_pred_xgb_test\n",
    "# y_pred['RF_예측값'] = y_pred_rf_test\n",
    "# y_pred['stc1_예측값'] = y_pred_stc1_test\n",
    "y_pred['stc2_예측값'] = y_pred_stc2_test\n",
    "# y_pred['AVG2_GBR_RF_예측값'] = y_pred_avg2_test\n",
    "# y_pred['AVG3_GBR_RF_XGB_예측값'] = y_pred_avg2_test\n",
    "# y_pred['AVG2+stc1_예측값'] = y_pred_avg2_stc1_test\n",
    "# y_pred['AVG3+stc1_예측값'] = y_pred_avg3_stc1_test\n",
    "# y_pred['AVG2+stc2_예측값'] = y_pred_avg2_stc2_test\n",
    "# y_pred['AVG3+stc2_예측값'] = y_pred_avg3_stc2_test\n",
    "# y_pred['GBR_오차비율'] = abs(y_pred['리뷰건수증감'] - y_pred['GBR_예측값'])  / y_pred['GBR_예측값']\n",
    "# y_pred['XGB_오차비율'] = abs(y_pred['리뷰건수증감'] - y_pred['XGB_예측값']) / y_pred['XGB_예측값']\n",
    "# y_pred['RF_오차비율'] = abs(y_pred['리뷰건수증감'] - y_pred['RF_예측값']) / y_pred['RF_예측값']\n",
    "# y_pred['stc1_오차비율'] = abs(y_pred['리뷰건수증감'] - y_pred['stc1_예측값']) / y_pred['stc1_예측값']\n",
    "# y_pred['stc2_오차비율'] = abs(y_pred['리뷰건수증감'] - y_pred['stc2_예측값']) / y_pred['stc2_예측값']\n",
    "# y_pred['AVG2_GBR_RF_오차비율'] = abs(y_pred['리뷰건수증감'] - y_pred['AVG2_GBR_RF_예측값']) / y_pred['AVG2_GBR_RF_예측값']\n",
    "# y_pred['AVG3_GBR_RF_XGB_오차비율'] = abs(y_pred['리뷰건수증감'] - y_pred['AVG3_GBR_RF_XGB_예측값']) / y_pred['AVG3_GBR_RF_XGB_예측값']\n",
    "# y_pred['AVG2+stc1_오차비율'] = abs(y_pred['리뷰건수증감'] - y_pred['AVG2+stc1_예측값']) / y_pred['AVG2+stc1_예측값']\n",
    "# y_pred['AVG3+stc1_오차비율'] = abs(y_pred['리뷰건수증감'] - y_pred['AVG3+stc1_예측값']) / y_pred['AVG3+stc1_예측값']\n",
    "# y_pred['AVG2+stc2_오차비율'] = abs(y_pred['리뷰건수증감'] - y_pred['AVG2+stc2_예측값']) / y_pred['AVG2+stc2_예측값']\n",
    "# y_pred['AVG3+stc2_오차비율'] = abs(y_pred['리뷰건수증감'] - y_pred['AVG3+stc2_예측값']) / y_pred['AVG3+stc2_예측값']\n",
    "\n",
    "# result_rf['오차'] = abs(result_rf['리뷰건수증감'] - result_rf['prediction'])\n",
    "# result_rf['오차비율'] = result_rf['오차'] / result_rf['prediction']\n",
    "# result_rf.sort_values(by='오차비율', ascending=True)"
   ]
  },
  {
   "cell_type": "code",
   "execution_count": 87,
   "id": "cdcfde7d",
   "metadata": {
    "ExecuteTime": {
     "end_time": "2022-01-17T01:24:03.464252Z",
     "start_time": "2022-01-17T01:24:03.433190Z"
    }
   },
   "outputs": [
    {
     "data": {
      "text/html": [
       "<div>\n",
       "<style scoped>\n",
       "    .dataframe tbody tr th:only-of-type {\n",
       "        vertical-align: middle;\n",
       "    }\n",
       "\n",
       "    .dataframe tbody tr th {\n",
       "        vertical-align: top;\n",
       "    }\n",
       "\n",
       "    .dataframe thead th {\n",
       "        text-align: right;\n",
       "    }\n",
       "</style>\n",
       "<table border=\"1\" class=\"dataframe\">\n",
       "  <thead>\n",
       "    <tr style=\"text-align: right;\">\n",
       "      <th></th>\n",
       "      <th>상품아이디</th>\n",
       "      <th>리뷰건수증감</th>\n",
       "      <th>GBR_예측값</th>\n",
       "      <th>XGB_예측값</th>\n",
       "      <th>RF_예측값</th>\n",
       "      <th>stc1_예측값</th>\n",
       "      <th>stc2_예측값</th>\n",
       "      <th>AVG2_GBR_RF_예측값</th>\n",
       "      <th>AVG3_GBR_RF_XGB_예측값</th>\n",
       "      <th>AVG2+stc1_예측값</th>\n",
       "      <th>AVG3+stc1_예측값</th>\n",
       "      <th>AVG2+stc2_예측값</th>\n",
       "      <th>AVG3+stc2_예측값</th>\n",
       "      <th>GBR_오차비율</th>\n",
       "      <th>XGB_오차비율</th>\n",
       "      <th>RF_오차비율</th>\n",
       "      <th>stc1_오차비율</th>\n",
       "      <th>stc2_오차비율</th>\n",
       "      <th>AVG2_GBR_RF_오차비율</th>\n",
       "      <th>AVG3_GBR_RF_XGB_오차비율</th>\n",
       "      <th>AVG2+stc1_오차비율</th>\n",
       "      <th>AVG3+stc1_오차비율</th>\n",
       "      <th>AVG2+stc2_오차비율</th>\n",
       "      <th>AVG3+stc2_오차비율</th>\n",
       "    </tr>\n",
       "  </thead>\n",
       "  <tbody>\n",
       "    <tr>\n",
       "      <th>14</th>\n",
       "      <td>12702788354</td>\n",
       "      <td>70</td>\n",
       "      <td>60.360296</td>\n",
       "      <td>53.306713</td>\n",
       "      <td>70.454286</td>\n",
       "      <td>68.999956</td>\n",
       "      <td>69.997854</td>\n",
       "      <td>65.407291</td>\n",
       "      <td>65.407291</td>\n",
       "      <td>66.604846</td>\n",
       "      <td>63.280313</td>\n",
       "      <td>66.937479</td>\n",
       "      <td>63.529787</td>\n",
       "      <td>0.159703</td>\n",
       "      <td>0.313155</td>\n",
       "      <td>0.006448</td>\n",
       "      <td>0.014493</td>\n",
       "      <td>0.000031</td>\n",
       "      <td>0.070217</td>\n",
       "      <td>0.070217</td>\n",
       "      <td>0.050975</td>\n",
       "      <td>0.106189</td>\n",
       "      <td>0.045752</td>\n",
       "      <td>0.101845</td>\n",
       "    </tr>\n",
       "    <tr>\n",
       "      <th>143</th>\n",
       "      <td>82762120243</td>\n",
       "      <td>16</td>\n",
       "      <td>16.778076</td>\n",
       "      <td>25.334808</td>\n",
       "      <td>15.187143</td>\n",
       "      <td>15.000071</td>\n",
       "      <td>16.000761</td>\n",
       "      <td>15.982609</td>\n",
       "      <td>15.982609</td>\n",
       "      <td>15.655097</td>\n",
       "      <td>18.075025</td>\n",
       "      <td>15.988660</td>\n",
       "      <td>18.325197</td>\n",
       "      <td>0.046375</td>\n",
       "      <td>0.368458</td>\n",
       "      <td>0.053523</td>\n",
       "      <td>0.066662</td>\n",
       "      <td>0.000048</td>\n",
       "      <td>0.001088</td>\n",
       "      <td>0.001088</td>\n",
       "      <td>0.022031</td>\n",
       "      <td>0.114801</td>\n",
       "      <td>0.000709</td>\n",
       "      <td>0.126885</td>\n",
       "    </tr>\n",
       "    <tr>\n",
       "      <th>2396</th>\n",
       "      <td>82160876128</td>\n",
       "      <td>17</td>\n",
       "      <td>23.258811</td>\n",
       "      <td>18.187967</td>\n",
       "      <td>17.045714</td>\n",
       "      <td>17.000071</td>\n",
       "      <td>16.997747</td>\n",
       "      <td>20.152262</td>\n",
       "      <td>20.152262</td>\n",
       "      <td>19.101532</td>\n",
       "      <td>18.873141</td>\n",
       "      <td>19.100757</td>\n",
       "      <td>18.872560</td>\n",
       "      <td>0.269094</td>\n",
       "      <td>0.065316</td>\n",
       "      <td>0.002682</td>\n",
       "      <td>0.000004</td>\n",
       "      <td>0.000133</td>\n",
       "      <td>0.156422</td>\n",
       "      <td>0.156422</td>\n",
       "      <td>0.110019</td>\n",
       "      <td>0.099249</td>\n",
       "      <td>0.109983</td>\n",
       "      <td>0.099221</td>\n",
       "    </tr>\n",
       "    <tr>\n",
       "      <th>983</th>\n",
       "      <td>82625077317</td>\n",
       "      <td>40</td>\n",
       "      <td>42.529561</td>\n",
       "      <td>39.840271</td>\n",
       "      <td>39.817143</td>\n",
       "      <td>39.000008</td>\n",
       "      <td>39.989068</td>\n",
       "      <td>41.173352</td>\n",
       "      <td>41.173352</td>\n",
       "      <td>40.448904</td>\n",
       "      <td>40.296746</td>\n",
       "      <td>40.778591</td>\n",
       "      <td>40.544011</td>\n",
       "      <td>0.059478</td>\n",
       "      <td>0.004009</td>\n",
       "      <td>0.004592</td>\n",
       "      <td>0.025641</td>\n",
       "      <td>0.000273</td>\n",
       "      <td>0.028498</td>\n",
       "      <td>0.028498</td>\n",
       "      <td>0.011098</td>\n",
       "      <td>0.007364</td>\n",
       "      <td>0.019093</td>\n",
       "      <td>0.013418</td>\n",
       "    </tr>\n",
       "    <tr>\n",
       "      <th>566</th>\n",
       "      <td>82298082986</td>\n",
       "      <td>76</td>\n",
       "      <td>70.235419</td>\n",
       "      <td>77.090805</td>\n",
       "      <td>75.104286</td>\n",
       "      <td>75.000037</td>\n",
       "      <td>75.975833</td>\n",
       "      <td>72.669852</td>\n",
       "      <td>72.669852</td>\n",
       "      <td>73.446580</td>\n",
       "      <td>74.357637</td>\n",
       "      <td>73.771846</td>\n",
       "      <td>74.601586</td>\n",
       "      <td>0.082075</td>\n",
       "      <td>0.014150</td>\n",
       "      <td>0.011926</td>\n",
       "      <td>0.013333</td>\n",
       "      <td>0.000318</td>\n",
       "      <td>0.045826</td>\n",
       "      <td>0.045826</td>\n",
       "      <td>0.034766</td>\n",
       "      <td>0.022087</td>\n",
       "      <td>0.030203</td>\n",
       "      <td>0.018745</td>\n",
       "    </tr>\n",
       "    <tr>\n",
       "      <th>...</th>\n",
       "      <td>...</td>\n",
       "      <td>...</td>\n",
       "      <td>...</td>\n",
       "      <td>...</td>\n",
       "      <td>...</td>\n",
       "      <td>...</td>\n",
       "      <td>...</td>\n",
       "      <td>...</td>\n",
       "      <td>...</td>\n",
       "      <td>...</td>\n",
       "      <td>...</td>\n",
       "      <td>...</td>\n",
       "      <td>...</td>\n",
       "      <td>...</td>\n",
       "      <td>...</td>\n",
       "      <td>...</td>\n",
       "      <td>...</td>\n",
       "      <td>...</td>\n",
       "      <td>...</td>\n",
       "      <td>...</td>\n",
       "      <td>...</td>\n",
       "      <td>...</td>\n",
       "      <td>...</td>\n",
       "      <td>...</td>\n",
       "    </tr>\n",
       "    <tr>\n",
       "      <th>1030</th>\n",
       "      <td>83501985214</td>\n",
       "      <td>385</td>\n",
       "      <td>42.502447</td>\n",
       "      <td>88.367027</td>\n",
       "      <td>68.388571</td>\n",
       "      <td>67.999996</td>\n",
       "      <td>67.999644</td>\n",
       "      <td>55.445509</td>\n",
       "      <td>55.445509</td>\n",
       "      <td>59.630338</td>\n",
       "      <td>66.814510</td>\n",
       "      <td>59.630221</td>\n",
       "      <td>66.814422</td>\n",
       "      <td>8.058302</td>\n",
       "      <td>3.356829</td>\n",
       "      <td>4.629596</td>\n",
       "      <td>4.661765</td>\n",
       "      <td>4.661794</td>\n",
       "      <td>5.943754</td>\n",
       "      <td>5.943754</td>\n",
       "      <td>5.456445</td>\n",
       "      <td>4.762221</td>\n",
       "      <td>5.456458</td>\n",
       "      <td>4.762229</td>\n",
       "    </tr>\n",
       "    <tr>\n",
       "      <th>1300</th>\n",
       "      <td>82869642198</td>\n",
       "      <td>1389</td>\n",
       "      <td>390.113785</td>\n",
       "      <td>296.992737</td>\n",
       "      <td>243.565714</td>\n",
       "      <td>254.999908</td>\n",
       "      <td>244.550648</td>\n",
       "      <td>316.839749</td>\n",
       "      <td>316.839749</td>\n",
       "      <td>296.226469</td>\n",
       "      <td>296.418036</td>\n",
       "      <td>292.743382</td>\n",
       "      <td>293.805721</td>\n",
       "      <td>2.560500</td>\n",
       "      <td>3.676882</td>\n",
       "      <td>4.702773</td>\n",
       "      <td>4.447061</td>\n",
       "      <td>4.679805</td>\n",
       "      <td>3.383920</td>\n",
       "      <td>3.383920</td>\n",
       "      <td>3.688980</td>\n",
       "      <td>3.685950</td>\n",
       "      <td>3.744770</td>\n",
       "      <td>3.727614</td>\n",
       "    </tr>\n",
       "    <tr>\n",
       "      <th>501</th>\n",
       "      <td>8801446818</td>\n",
       "      <td>279</td>\n",
       "      <td>36.552891</td>\n",
       "      <td>72.030365</td>\n",
       "      <td>47.225714</td>\n",
       "      <td>52.000058</td>\n",
       "      <td>47.017280</td>\n",
       "      <td>41.889303</td>\n",
       "      <td>41.889303</td>\n",
       "      <td>45.259555</td>\n",
       "      <td>51.952257</td>\n",
       "      <td>43.598628</td>\n",
       "      <td>50.706563</td>\n",
       "      <td>6.632775</td>\n",
       "      <td>2.873366</td>\n",
       "      <td>4.907798</td>\n",
       "      <td>4.365379</td>\n",
       "      <td>4.933989</td>\n",
       "      <td>5.660412</td>\n",
       "      <td>5.660412</td>\n",
       "      <td>5.164444</td>\n",
       "      <td>4.370315</td>\n",
       "      <td>5.399284</td>\n",
       "      <td>4.502246</td>\n",
       "    </tr>\n",
       "    <tr>\n",
       "      <th>1312</th>\n",
       "      <td>82752958169</td>\n",
       "      <td>1724</td>\n",
       "      <td>351.416014</td>\n",
       "      <td>304.232025</td>\n",
       "      <td>225.723333</td>\n",
       "      <td>233.999851</td>\n",
       "      <td>226.329764</td>\n",
       "      <td>288.569673</td>\n",
       "      <td>288.569673</td>\n",
       "      <td>270.379733</td>\n",
       "      <td>278.842806</td>\n",
       "      <td>267.823037</td>\n",
       "      <td>276.925284</td>\n",
       "      <td>3.905866</td>\n",
       "      <td>4.666728</td>\n",
       "      <td>6.637669</td>\n",
       "      <td>6.367526</td>\n",
       "      <td>6.617204</td>\n",
       "      <td>4.974294</td>\n",
       "      <td>4.974294</td>\n",
       "      <td>5.376218</td>\n",
       "      <td>5.182695</td>\n",
       "      <td>5.437086</td>\n",
       "      <td>5.225506</td>\n",
       "    </tr>\n",
       "    <tr>\n",
       "      <th>2243</th>\n",
       "      <td>83018928420</td>\n",
       "      <td>264</td>\n",
       "      <td>12.635102</td>\n",
       "      <td>22.224503</td>\n",
       "      <td>29.235714</td>\n",
       "      <td>29.000036</td>\n",
       "      <td>29.953787</td>\n",
       "      <td>20.935408</td>\n",
       "      <td>20.935408</td>\n",
       "      <td>23.623617</td>\n",
       "      <td>23.273839</td>\n",
       "      <td>23.941534</td>\n",
       "      <td>23.512276</td>\n",
       "      <td>19.894173</td>\n",
       "      <td>10.878781</td>\n",
       "      <td>8.030051</td>\n",
       "      <td>8.103437</td>\n",
       "      <td>7.813577</td>\n",
       "      <td>11.610215</td>\n",
       "      <td>11.610215</td>\n",
       "      <td>10.175257</td>\n",
       "      <td>10.343208</td>\n",
       "      <td>10.026862</td>\n",
       "      <td>10.228177</td>\n",
       "    </tr>\n",
       "  </tbody>\n",
       "</table>\n",
       "<p>2765 rows × 24 columns</p>\n",
       "</div>"
      ],
      "text/plain": [
       "            상품아이디  리뷰건수증감     GBR_예측값     XGB_예측값      RF_예측값    stc1_예측값  \\\n",
       "14    12702788354      70   60.360296   53.306713   70.454286   68.999956   \n",
       "143   82762120243      16   16.778076   25.334808   15.187143   15.000071   \n",
       "2396  82160876128      17   23.258811   18.187967   17.045714   17.000071   \n",
       "983   82625077317      40   42.529561   39.840271   39.817143   39.000008   \n",
       "566   82298082986      76   70.235419   77.090805   75.104286   75.000037   \n",
       "...           ...     ...         ...         ...         ...         ...   \n",
       "1030  83501985214     385   42.502447   88.367027   68.388571   67.999996   \n",
       "1300  82869642198    1389  390.113785  296.992737  243.565714  254.999908   \n",
       "501    8801446818     279   36.552891   72.030365   47.225714   52.000058   \n",
       "1312  82752958169    1724  351.416014  304.232025  225.723333  233.999851   \n",
       "2243  83018928420     264   12.635102   22.224503   29.235714   29.000036   \n",
       "\n",
       "        stc2_예측값  AVG2_GBR_RF_예측값  AVG3_GBR_RF_XGB_예측값  AVG2+stc1_예측값  \\\n",
       "14     69.997854        65.407291            65.407291      66.604846   \n",
       "143    16.000761        15.982609            15.982609      15.655097   \n",
       "2396   16.997747        20.152262            20.152262      19.101532   \n",
       "983    39.989068        41.173352            41.173352      40.448904   \n",
       "566    75.975833        72.669852            72.669852      73.446580   \n",
       "...          ...              ...                  ...            ...   \n",
       "1030   67.999644        55.445509            55.445509      59.630338   \n",
       "1300  244.550648       316.839749           316.839749     296.226469   \n",
       "501    47.017280        41.889303            41.889303      45.259555   \n",
       "1312  226.329764       288.569673           288.569673     270.379733   \n",
       "2243   29.953787        20.935408            20.935408      23.623617   \n",
       "\n",
       "      AVG3+stc1_예측값  AVG2+stc2_예측값  AVG3+stc2_예측값   GBR_오차비율   XGB_오차비율  \\\n",
       "14        63.280313      66.937479      63.529787   0.159703   0.313155   \n",
       "143       18.075025      15.988660      18.325197   0.046375   0.368458   \n",
       "2396      18.873141      19.100757      18.872560   0.269094   0.065316   \n",
       "983       40.296746      40.778591      40.544011   0.059478   0.004009   \n",
       "566       74.357637      73.771846      74.601586   0.082075   0.014150   \n",
       "...             ...            ...            ...        ...        ...   \n",
       "1030      66.814510      59.630221      66.814422   8.058302   3.356829   \n",
       "1300     296.418036     292.743382     293.805721   2.560500   3.676882   \n",
       "501       51.952257      43.598628      50.706563   6.632775   2.873366   \n",
       "1312     278.842806     267.823037     276.925284   3.905866   4.666728   \n",
       "2243      23.273839      23.941534      23.512276  19.894173  10.878781   \n",
       "\n",
       "       RF_오차비율  stc1_오차비율  stc2_오차비율  AVG2_GBR_RF_오차비율  AVG3_GBR_RF_XGB_오차비율  \\\n",
       "14    0.006448   0.014493   0.000031          0.070217              0.070217   \n",
       "143   0.053523   0.066662   0.000048          0.001088              0.001088   \n",
       "2396  0.002682   0.000004   0.000133          0.156422              0.156422   \n",
       "983   0.004592   0.025641   0.000273          0.028498              0.028498   \n",
       "566   0.011926   0.013333   0.000318          0.045826              0.045826   \n",
       "...        ...        ...        ...               ...                   ...   \n",
       "1030  4.629596   4.661765   4.661794          5.943754              5.943754   \n",
       "1300  4.702773   4.447061   4.679805          3.383920              3.383920   \n",
       "501   4.907798   4.365379   4.933989          5.660412              5.660412   \n",
       "1312  6.637669   6.367526   6.617204          4.974294              4.974294   \n",
       "2243  8.030051   8.103437   7.813577         11.610215             11.610215   \n",
       "\n",
       "      AVG2+stc1_오차비율  AVG3+stc1_오차비율  AVG2+stc2_오차비율  AVG3+stc2_오차비율  \n",
       "14          0.050975        0.106189        0.045752        0.101845  \n",
       "143         0.022031        0.114801        0.000709        0.126885  \n",
       "2396        0.110019        0.099249        0.109983        0.099221  \n",
       "983         0.011098        0.007364        0.019093        0.013418  \n",
       "566         0.034766        0.022087        0.030203        0.018745  \n",
       "...              ...             ...             ...             ...  \n",
       "1030        5.456445        4.762221        5.456458        4.762229  \n",
       "1300        3.688980        3.685950        3.744770        3.727614  \n",
       "501         5.164444        4.370315        5.399284        4.502246  \n",
       "1312        5.376218        5.182695        5.437086        5.225506  \n",
       "2243       10.175257       10.343208       10.026862       10.228177  \n",
       "\n",
       "[2765 rows x 24 columns]"
      ]
     },
     "execution_count": 87,
     "metadata": {},
     "output_type": "execute_result"
    }
   ],
   "source": [
    "y_pred.sort_values(by='stc2_오차비율')"
   ]
  },
  {
   "cell_type": "code",
   "execution_count": 185,
   "id": "24f39d94",
   "metadata": {
    "ExecuteTime": {
     "end_time": "2022-01-17T05:26:18.583727Z",
     "start_time": "2022-01-17T05:26:18.573718Z"
    }
   },
   "outputs": [],
   "source": [
    "# 검증할 상품 리스트 생성\n",
    "validlist = [82718019106, 83544591236, 83250021943, 83079049946, 83093376861, 81729997018, 83520531417, 83566853281, 83558923616, 83504388750,\n",
    "             8325683452, 82717205816, 11781100542, 83157663150, 13305038227, 10022871025, 80023906035, 80951475879, 12823927460, 10173994686]"
   ]
  },
  {
   "cell_type": "code",
   "execution_count": 186,
   "id": "7e939ec5",
   "metadata": {
    "ExecuteTime": {
     "end_time": "2022-01-17T05:26:18.772538Z",
     "start_time": "2022-01-17T05:26:18.763571Z"
    },
    "scrolled": false
   },
   "outputs": [],
   "source": [
    "validdf = pd.DataFrame()\n",
    "# df_1 = df_1.query('상품아이디 == @idlist')\n",
    "validdf = y_pred.query('상품아이디 == @validlist')\n",
    "validdf.reset_index(drop=True, inplace=True)\n",
    "# validdf.set_index('상품아이디', inplace=True)\n",
    "# validdf.sort_values(by='stc2_오차비율', ascending=True)"
   ]
  },
  {
   "cell_type": "code",
   "execution_count": 187,
   "id": "e2386a28",
   "metadata": {
    "ExecuteTime": {
     "end_time": "2022-01-17T05:26:19.704851Z",
     "start_time": "2022-01-17T05:26:19.684840Z"
    }
   },
   "outputs": [
    {
     "data": {
      "text/html": [
       "<div>\n",
       "<style scoped>\n",
       "    .dataframe tbody tr th:only-of-type {\n",
       "        vertical-align: middle;\n",
       "    }\n",
       "\n",
       "    .dataframe tbody tr th {\n",
       "        vertical-align: top;\n",
       "    }\n",
       "\n",
       "    .dataframe thead th {\n",
       "        text-align: right;\n",
       "    }\n",
       "</style>\n",
       "<table border=\"1\" class=\"dataframe\">\n",
       "  <thead>\n",
       "    <tr style=\"text-align: right;\">\n",
       "      <th></th>\n",
       "      <th>상품아이디</th>\n",
       "      <th>sarima</th>\n",
       "      <th>autoarima</th>\n",
       "      <th>prophet</th>\n",
       "    </tr>\n",
       "  </thead>\n",
       "  <tbody>\n",
       "    <tr>\n",
       "      <th>0</th>\n",
       "      <td>83504388750</td>\n",
       "      <td>41.000000</td>\n",
       "      <td>57.590909</td>\n",
       "      <td>46.526871</td>\n",
       "    </tr>\n",
       "    <tr>\n",
       "      <th>1</th>\n",
       "      <td>83520531417</td>\n",
       "      <td>13.000000</td>\n",
       "      <td>13.363636</td>\n",
       "      <td>13.923776</td>\n",
       "    </tr>\n",
       "    <tr>\n",
       "      <th>2</th>\n",
       "      <td>83093376861</td>\n",
       "      <td>11.000000</td>\n",
       "      <td>8.590905</td>\n",
       "      <td>11.598266</td>\n",
       "    </tr>\n",
       "    <tr>\n",
       "      <th>3</th>\n",
       "      <td>83566853281</td>\n",
       "      <td>21.683860</td>\n",
       "      <td>29.677525</td>\n",
       "      <td>30.499149</td>\n",
       "    </tr>\n",
       "    <tr>\n",
       "      <th>4</th>\n",
       "      <td>83250021943</td>\n",
       "      <td>100.000000</td>\n",
       "      <td>67.185220</td>\n",
       "      <td>107.915891</td>\n",
       "    </tr>\n",
       "    <tr>\n",
       "      <th>5</th>\n",
       "      <td>81729997018</td>\n",
       "      <td>194.015341</td>\n",
       "      <td>177.304107</td>\n",
       "      <td>119.327639</td>\n",
       "    </tr>\n",
       "    <tr>\n",
       "      <th>6</th>\n",
       "      <td>80951475879</td>\n",
       "      <td>415.197488</td>\n",
       "      <td>452.546365</td>\n",
       "      <td>460.122261</td>\n",
       "    </tr>\n",
       "    <tr>\n",
       "      <th>7</th>\n",
       "      <td>80023906035</td>\n",
       "      <td>102.000000</td>\n",
       "      <td>125.681818</td>\n",
       "      <td>101.715218</td>\n",
       "    </tr>\n",
       "    <tr>\n",
       "      <th>8</th>\n",
       "      <td>83157663150</td>\n",
       "      <td>89.000000</td>\n",
       "      <td>92.437766</td>\n",
       "      <td>102.736935</td>\n",
       "    </tr>\n",
       "    <tr>\n",
       "      <th>9</th>\n",
       "      <td>10173994686</td>\n",
       "      <td>91.566568</td>\n",
       "      <td>166.090909</td>\n",
       "      <td>64.843159</td>\n",
       "    </tr>\n",
       "    <tr>\n",
       "      <th>10</th>\n",
       "      <td>11781100542</td>\n",
       "      <td>849.000000</td>\n",
       "      <td>899.818182</td>\n",
       "      <td>868.943700</td>\n",
       "    </tr>\n",
       "    <tr>\n",
       "      <th>11</th>\n",
       "      <td>12823927460</td>\n",
       "      <td>416.610249</td>\n",
       "      <td>446.510863</td>\n",
       "      <td>372.010764</td>\n",
       "    </tr>\n",
       "    <tr>\n",
       "      <th>12</th>\n",
       "      <td>82717205816</td>\n",
       "      <td>4839.592255</td>\n",
       "      <td>4674.820856</td>\n",
       "      <td>4806.217271</td>\n",
       "    </tr>\n",
       "    <tr>\n",
       "      <th>13</th>\n",
       "      <td>8325683452</td>\n",
       "      <td>410.638749</td>\n",
       "      <td>399.946199</td>\n",
       "      <td>316.882136</td>\n",
       "    </tr>\n",
       "    <tr>\n",
       "      <th>14</th>\n",
       "      <td>10022871025</td>\n",
       "      <td>408.000000</td>\n",
       "      <td>412.681818</td>\n",
       "      <td>412.688829</td>\n",
       "    </tr>\n",
       "    <tr>\n",
       "      <th>15</th>\n",
       "      <td>13305038227</td>\n",
       "      <td>45.223470</td>\n",
       "      <td>41.970608</td>\n",
       "      <td>48.379078</td>\n",
       "    </tr>\n",
       "  </tbody>\n",
       "</table>\n",
       "</div>"
      ],
      "text/plain": [
       "          상품아이디       sarima    autoarima      prophet\n",
       "0   83504388750    41.000000    57.590909    46.526871\n",
       "1   83520531417    13.000000    13.363636    13.923776\n",
       "2   83093376861    11.000000     8.590905    11.598266\n",
       "3   83566853281    21.683860    29.677525    30.499149\n",
       "4   83250021943   100.000000    67.185220   107.915891\n",
       "5   81729997018   194.015341   177.304107   119.327639\n",
       "6   80951475879   415.197488   452.546365   460.122261\n",
       "7   80023906035   102.000000   125.681818   101.715218\n",
       "8   83157663150    89.000000    92.437766   102.736935\n",
       "9   10173994686    91.566568   166.090909    64.843159\n",
       "10  11781100542   849.000000   899.818182   868.943700\n",
       "11  12823927460   416.610249   446.510863   372.010764\n",
       "12  82717205816  4839.592255  4674.820856  4806.217271\n",
       "13   8325683452   410.638749   399.946199   316.882136\n",
       "14  10022871025   408.000000   412.681818   412.688829\n",
       "15  13305038227    45.223470    41.970608    48.379078"
      ]
     },
     "execution_count": 187,
     "metadata": {},
     "output_type": "execute_result"
    }
   ],
   "source": [
    "forecast = pd.read_csv('forecastresults.csv'); forecast"
   ]
  },
  {
   "cell_type": "code",
   "execution_count": 179,
   "id": "b8271f5a",
   "metadata": {
    "ExecuteTime": {
     "end_time": "2022-01-17T05:24:28.189975Z",
     "start_time": "2022-01-17T05:24:28.176013Z"
    }
   },
   "outputs": [
    {
     "data": {
      "text/html": [
       "<div>\n",
       "<style scoped>\n",
       "    .dataframe tbody tr th:only-of-type {\n",
       "        vertical-align: middle;\n",
       "    }\n",
       "\n",
       "    .dataframe tbody tr th {\n",
       "        vertical-align: top;\n",
       "    }\n",
       "\n",
       "    .dataframe thead th {\n",
       "        text-align: right;\n",
       "    }\n",
       "</style>\n",
       "<table border=\"1\" class=\"dataframe\">\n",
       "  <thead>\n",
       "    <tr style=\"text-align: right;\">\n",
       "      <th></th>\n",
       "      <th>상품아이디</th>\n",
       "      <th>상품명</th>\n",
       "    </tr>\n",
       "  </thead>\n",
       "  <tbody>\n",
       "    <tr>\n",
       "      <th>0</th>\n",
       "      <td>83250021943</td>\n",
       "      <td>커플 젠가</td>\n",
       "    </tr>\n",
       "    <tr>\n",
       "      <th>1</th>\n",
       "      <td>80951475879</td>\n",
       "      <td>액체세제</td>\n",
       "    </tr>\n",
       "    <tr>\n",
       "      <th>2</th>\n",
       "      <td>83520531417</td>\n",
       "      <td>파티룩 원피스</td>\n",
       "    </tr>\n",
       "    <tr>\n",
       "      <th>3</th>\n",
       "      <td>80023906035</td>\n",
       "      <td>반팔 티셔츠</td>\n",
       "    </tr>\n",
       "    <tr>\n",
       "      <th>4</th>\n",
       "      <td>83093376861</td>\n",
       "      <td>홈파티 음식배달</td>\n",
       "    </tr>\n",
       "    <tr>\n",
       "      <th>5</th>\n",
       "      <td>13305038227</td>\n",
       "      <td>제주 렌터카</td>\n",
       "    </tr>\n",
       "    <tr>\n",
       "      <th>6</th>\n",
       "      <td>83566853281</td>\n",
       "      <td>송혜교 귀걸이</td>\n",
       "    </tr>\n",
       "    <tr>\n",
       "      <th>7</th>\n",
       "      <td>80951475879</td>\n",
       "      <td>무지 양말</td>\n",
       "    </tr>\n",
       "    <tr>\n",
       "      <th>8</th>\n",
       "      <td>83504388750</td>\n",
       "      <td>바라클라바</td>\n",
       "    </tr>\n",
       "    <tr>\n",
       "      <th>9</th>\n",
       "      <td>10173994686</td>\n",
       "      <td>스포츠테이프</td>\n",
       "    </tr>\n",
       "    <tr>\n",
       "      <th>10</th>\n",
       "      <td>81729997018</td>\n",
       "      <td>신생아 실내복</td>\n",
       "    </tr>\n",
       "    <tr>\n",
       "      <th>11</th>\n",
       "      <td>10022871025</td>\n",
       "      <td>유기농 아이과자</td>\n",
       "    </tr>\n",
       "  </tbody>\n",
       "</table>\n",
       "</div>"
      ],
      "text/plain": [
       "          상품아이디       상품명\n",
       "0   83250021943     커플 젠가\n",
       "1   80951475879      액체세제\n",
       "2   83520531417   파티룩 원피스\n",
       "3   80023906035    반팔 티셔츠\n",
       "4   83093376861  홈파티 음식배달\n",
       "5   13305038227    제주 렌터카\n",
       "6   83566853281   송혜교 귀걸이\n",
       "7   80951475879     무지 양말\n",
       "8   83504388750     바라클라바\n",
       "9   10173994686    스포츠테이프\n",
       "10  81729997018   신생아 실내복\n",
       "11  10022871025  유기농 아이과자"
      ]
     },
     "execution_count": 179,
     "metadata": {},
     "output_type": "execute_result"
    }
   ],
   "source": [
    "testid = pd.read_csv('G:/내 드라이브/프로젝트/아자아자2조유통파이팅~!/상훈/결과.csv', encoding='cp949')\n",
    "testid = testid[['상품아이디', '상품명']]\n",
    "testid.iloc[1,0]=11781100542; testid"
   ]
  },
  {
   "cell_type": "code",
   "execution_count": 188,
   "id": "deff7ab5",
   "metadata": {
    "ExecuteTime": {
     "end_time": "2022-01-17T05:26:20.361760Z",
     "start_time": "2022-01-17T05:26:20.343809Z"
    }
   },
   "outputs": [
    {
     "data": {
      "text/html": [
       "<div>\n",
       "<style scoped>\n",
       "    .dataframe tbody tr th:only-of-type {\n",
       "        vertical-align: middle;\n",
       "    }\n",
       "\n",
       "    .dataframe tbody tr th {\n",
       "        vertical-align: top;\n",
       "    }\n",
       "\n",
       "    .dataframe thead th {\n",
       "        text-align: right;\n",
       "    }\n",
       "</style>\n",
       "<table border=\"1\" class=\"dataframe\">\n",
       "  <thead>\n",
       "    <tr style=\"text-align: right;\">\n",
       "      <th></th>\n",
       "      <th></th>\n",
       "      <th>리뷰건수증감</th>\n",
       "      <th>stc2_예측값</th>\n",
       "      <th>sarima</th>\n",
       "      <th>autoarima</th>\n",
       "      <th>prophet</th>\n",
       "    </tr>\n",
       "    <tr>\n",
       "      <th>상품아이디</th>\n",
       "      <th>상품명</th>\n",
       "      <th></th>\n",
       "      <th></th>\n",
       "      <th></th>\n",
       "      <th></th>\n",
       "      <th></th>\n",
       "    </tr>\n",
       "  </thead>\n",
       "  <tbody>\n",
       "    <tr>\n",
       "      <th>80023906035</th>\n",
       "      <th>반팔 티셔츠</th>\n",
       "      <td>130</td>\n",
       "      <td>131.850804</td>\n",
       "      <td>102.000000</td>\n",
       "      <td>125.681818</td>\n",
       "      <td>101.715218</td>\n",
       "    </tr>\n",
       "    <tr>\n",
       "      <th>83520531417</th>\n",
       "      <th>파티룩 원피스</th>\n",
       "      <td>9</td>\n",
       "      <td>24.986382</td>\n",
       "      <td>13.000000</td>\n",
       "      <td>13.363636</td>\n",
       "      <td>13.923776</td>\n",
       "    </tr>\n",
       "    <tr>\n",
       "      <th>80951475879</th>\n",
       "      <th>무지 양말</th>\n",
       "      <td>509</td>\n",
       "      <td>442.611647</td>\n",
       "      <td>415.197488</td>\n",
       "      <td>452.546365</td>\n",
       "      <td>460.122261</td>\n",
       "    </tr>\n",
       "    <tr>\n",
       "      <th>83566853281</th>\n",
       "      <th>송혜교 귀걸이</th>\n",
       "      <td>35</td>\n",
       "      <td>65.013462</td>\n",
       "      <td>21.683860</td>\n",
       "      <td>29.677525</td>\n",
       "      <td>30.499149</td>\n",
       "    </tr>\n",
       "    <tr>\n",
       "      <th>12823927460</th>\n",
       "      <th>NaN</th>\n",
       "      <td>422</td>\n",
       "      <td>413.690687</td>\n",
       "      <td>416.610249</td>\n",
       "      <td>446.510863</td>\n",
       "      <td>372.010764</td>\n",
       "    </tr>\n",
       "    <tr>\n",
       "      <th>82717205816</th>\n",
       "      <th>NaN</th>\n",
       "      <td>4985</td>\n",
       "      <td>2965.294684</td>\n",
       "      <td>4839.592255</td>\n",
       "      <td>4674.820856</td>\n",
       "      <td>4806.217271</td>\n",
       "    </tr>\n",
       "    <tr>\n",
       "      <th>8325683452</th>\n",
       "      <th>NaN</th>\n",
       "      <td>454</td>\n",
       "      <td>369.548427</td>\n",
       "      <td>410.638749</td>\n",
       "      <td>399.946199</td>\n",
       "      <td>316.882136</td>\n",
       "    </tr>\n",
       "    <tr>\n",
       "      <th>10022871025</th>\n",
       "      <th>유기농 아이과자</th>\n",
       "      <td>865</td>\n",
       "      <td>333.262478</td>\n",
       "      <td>408.000000</td>\n",
       "      <td>412.681818</td>\n",
       "      <td>412.688829</td>\n",
       "    </tr>\n",
       "    <tr>\n",
       "      <th>81729997018</th>\n",
       "      <th>신생아 실내복</th>\n",
       "      <td>108</td>\n",
       "      <td>146.814163</td>\n",
       "      <td>194.015341</td>\n",
       "      <td>177.304107</td>\n",
       "      <td>119.327639</td>\n",
       "    </tr>\n",
       "    <tr>\n",
       "      <th>83157663150</th>\n",
       "      <th>NaN</th>\n",
       "      <td>83</td>\n",
       "      <td>102.239622</td>\n",
       "      <td>89.000000</td>\n",
       "      <td>92.437766</td>\n",
       "      <td>102.736935</td>\n",
       "    </tr>\n",
       "    <tr>\n",
       "      <th>83504388750</th>\n",
       "      <th>바라클라바</th>\n",
       "      <td>62</td>\n",
       "      <td>50.998600</td>\n",
       "      <td>41.000000</td>\n",
       "      <td>57.590909</td>\n",
       "      <td>46.526871</td>\n",
       "    </tr>\n",
       "    <tr>\n",
       "      <th>10173994686</th>\n",
       "      <th>스포츠테이프</th>\n",
       "      <td>198</td>\n",
       "      <td>191.244042</td>\n",
       "      <td>91.566568</td>\n",
       "      <td>166.090909</td>\n",
       "      <td>64.843159</td>\n",
       "    </tr>\n",
       "    <tr>\n",
       "      <th>11781100542</th>\n",
       "      <th>액체세제</th>\n",
       "      <td>988</td>\n",
       "      <td>884.624624</td>\n",
       "      <td>849.000000</td>\n",
       "      <td>899.818182</td>\n",
       "      <td>868.943700</td>\n",
       "    </tr>\n",
       "    <tr>\n",
       "      <th>83250021943</th>\n",
       "      <th>커플 젠가</th>\n",
       "      <td>80</td>\n",
       "      <td>70.997167</td>\n",
       "      <td>100.000000</td>\n",
       "      <td>67.185220</td>\n",
       "      <td>107.915891</td>\n",
       "    </tr>\n",
       "    <tr>\n",
       "      <th>13305038227</th>\n",
       "      <th>제주 렌터카</th>\n",
       "      <td>50</td>\n",
       "      <td>46.888955</td>\n",
       "      <td>45.223470</td>\n",
       "      <td>41.970608</td>\n",
       "      <td>48.379078</td>\n",
       "    </tr>\n",
       "    <tr>\n",
       "      <th>83093376861</th>\n",
       "      <th>홈파티 음식배달</th>\n",
       "      <td>9</td>\n",
       "      <td>11.975855</td>\n",
       "      <td>11.000000</td>\n",
       "      <td>8.590905</td>\n",
       "      <td>11.598266</td>\n",
       "    </tr>\n",
       "  </tbody>\n",
       "</table>\n",
       "</div>"
      ],
      "text/plain": [
       "                      리뷰건수증감     stc2_예측값       sarima    autoarima  \\\n",
       "상품아이디       상품명                                                       \n",
       "80023906035 반팔 티셔츠       130   131.850804   102.000000   125.681818   \n",
       "83520531417 파티룩 원피스        9    24.986382    13.000000    13.363636   \n",
       "80951475879 무지 양말        509   442.611647   415.197488   452.546365   \n",
       "83566853281 송혜교 귀걸이       35    65.013462    21.683860    29.677525   \n",
       "12823927460 NaN          422   413.690687   416.610249   446.510863   \n",
       "82717205816 NaN         4985  2965.294684  4839.592255  4674.820856   \n",
       "8325683452  NaN          454   369.548427   410.638749   399.946199   \n",
       "10022871025 유기농 아이과자     865   333.262478   408.000000   412.681818   \n",
       "81729997018 신생아 실내복      108   146.814163   194.015341   177.304107   \n",
       "83157663150 NaN           83   102.239622    89.000000    92.437766   \n",
       "83504388750 바라클라바         62    50.998600    41.000000    57.590909   \n",
       "10173994686 스포츠테이프       198   191.244042    91.566568   166.090909   \n",
       "11781100542 액체세제         988   884.624624   849.000000   899.818182   \n",
       "83250021943 커플 젠가         80    70.997167   100.000000    67.185220   \n",
       "13305038227 제주 렌터카        50    46.888955    45.223470    41.970608   \n",
       "83093376861 홈파티 음식배달       9    11.975855    11.000000     8.590905   \n",
       "\n",
       "                          prophet  \n",
       "상품아이디       상품명                    \n",
       "80023906035 반팔 티셔츠     101.715218  \n",
       "83520531417 파티룩 원피스     13.923776  \n",
       "80951475879 무지 양말      460.122261  \n",
       "83566853281 송혜교 귀걸이     30.499149  \n",
       "12823927460 NaN        372.010764  \n",
       "82717205816 NaN       4806.217271  \n",
       "8325683452  NaN        316.882136  \n",
       "10022871025 유기농 아이과자   412.688829  \n",
       "81729997018 신생아 실내복    119.327639  \n",
       "83157663150 NaN        102.736935  \n",
       "83504388750 바라클라바       46.526871  \n",
       "10173994686 스포츠테이프      64.843159  \n",
       "11781100542 액체세제       868.943700  \n",
       "83250021943 커플 젠가      107.915891  \n",
       "13305038227 제주 렌터카      48.379078  \n",
       "83093376861 홈파티 음식배달    11.598266  "
      ]
     },
     "execution_count": 188,
     "metadata": {},
     "output_type": "execute_result"
    }
   ],
   "source": [
    "validdf = pd.merge(validdf, forecast, on='상품아이디', how='outer')\n",
    "validdf = pd.merge(validdf, testid, on='상품아이디', how='left')\n",
    "\n",
    "validdf.set_index(['상품아이디', '상품명'], inplace=True); validdf"
   ]
  },
  {
   "cell_type": "code",
   "execution_count": 196,
   "id": "32c08901",
   "metadata": {
    "ExecuteTime": {
     "end_time": "2022-01-17T05:49:44.288213Z",
     "start_time": "2022-01-17T05:49:44.264278Z"
    }
   },
   "outputs": [
    {
     "data": {
      "text/html": [
       "<div>\n",
       "<style scoped>\n",
       "    .dataframe tbody tr th:only-of-type {\n",
       "        vertical-align: middle;\n",
       "    }\n",
       "\n",
       "    .dataframe tbody tr th {\n",
       "        vertical-align: top;\n",
       "    }\n",
       "\n",
       "    .dataframe thead th {\n",
       "        text-align: right;\n",
       "    }\n",
       "</style>\n",
       "<table border=\"1\" class=\"dataframe\">\n",
       "  <thead>\n",
       "    <tr style=\"text-align: right;\">\n",
       "      <th></th>\n",
       "      <th></th>\n",
       "      <th>리뷰건수증감</th>\n",
       "      <th>stc2_예측값</th>\n",
       "      <th>sarima</th>\n",
       "      <th>autoarima</th>\n",
       "      <th>prophet</th>\n",
       "    </tr>\n",
       "    <tr>\n",
       "      <th>상품아이디</th>\n",
       "      <th>상품명</th>\n",
       "      <th></th>\n",
       "      <th></th>\n",
       "      <th></th>\n",
       "      <th></th>\n",
       "      <th></th>\n",
       "    </tr>\n",
       "  </thead>\n",
       "  <tbody>\n",
       "    <tr>\n",
       "      <th>80023906035</th>\n",
       "      <th>반팔 티셔츠</th>\n",
       "      <td>130</td>\n",
       "      <td>131.850804</td>\n",
       "      <td>102.000000</td>\n",
       "      <td>125.681818</td>\n",
       "      <td>101.715218</td>\n",
       "    </tr>\n",
       "    <tr>\n",
       "      <th>83520531417</th>\n",
       "      <th>파티룩 원피스</th>\n",
       "      <td>9</td>\n",
       "      <td>24.986382</td>\n",
       "      <td>13.000000</td>\n",
       "      <td>13.363636</td>\n",
       "      <td>13.923776</td>\n",
       "    </tr>\n",
       "    <tr>\n",
       "      <th>80951475879</th>\n",
       "      <th>무지 양말</th>\n",
       "      <td>509</td>\n",
       "      <td>442.611647</td>\n",
       "      <td>415.197488</td>\n",
       "      <td>452.546365</td>\n",
       "      <td>460.122261</td>\n",
       "    </tr>\n",
       "    <tr>\n",
       "      <th>83566853281</th>\n",
       "      <th>송혜교 귀걸이</th>\n",
       "      <td>35</td>\n",
       "      <td>65.013462</td>\n",
       "      <td>21.683860</td>\n",
       "      <td>29.677525</td>\n",
       "      <td>30.499149</td>\n",
       "    </tr>\n",
       "    <tr>\n",
       "      <th>12823927460</th>\n",
       "      <th>NaN</th>\n",
       "      <td>422</td>\n",
       "      <td>413.690687</td>\n",
       "      <td>416.610249</td>\n",
       "      <td>446.510863</td>\n",
       "      <td>372.010764</td>\n",
       "    </tr>\n",
       "    <tr>\n",
       "      <th>82717205816</th>\n",
       "      <th>NaN</th>\n",
       "      <td>4985</td>\n",
       "      <td>2965.294684</td>\n",
       "      <td>4839.592255</td>\n",
       "      <td>4674.820856</td>\n",
       "      <td>4806.217271</td>\n",
       "    </tr>\n",
       "    <tr>\n",
       "      <th>8325683452</th>\n",
       "      <th>NaN</th>\n",
       "      <td>454</td>\n",
       "      <td>369.548427</td>\n",
       "      <td>410.638749</td>\n",
       "      <td>399.946199</td>\n",
       "      <td>316.882136</td>\n",
       "    </tr>\n",
       "    <tr>\n",
       "      <th>10022871025</th>\n",
       "      <th>유기농 아이과자</th>\n",
       "      <td>865</td>\n",
       "      <td>333.262478</td>\n",
       "      <td>408.000000</td>\n",
       "      <td>412.681818</td>\n",
       "      <td>412.688829</td>\n",
       "    </tr>\n",
       "    <tr>\n",
       "      <th>81729997018</th>\n",
       "      <th>신생아 실내복</th>\n",
       "      <td>108</td>\n",
       "      <td>146.814163</td>\n",
       "      <td>194.015341</td>\n",
       "      <td>177.304107</td>\n",
       "      <td>119.327639</td>\n",
       "    </tr>\n",
       "    <tr>\n",
       "      <th>83157663150</th>\n",
       "      <th>NaN</th>\n",
       "      <td>83</td>\n",
       "      <td>102.239622</td>\n",
       "      <td>89.000000</td>\n",
       "      <td>92.437766</td>\n",
       "      <td>102.736935</td>\n",
       "    </tr>\n",
       "    <tr>\n",
       "      <th>83504388750</th>\n",
       "      <th>바라클라바</th>\n",
       "      <td>62</td>\n",
       "      <td>50.998600</td>\n",
       "      <td>41.000000</td>\n",
       "      <td>57.590909</td>\n",
       "      <td>46.526871</td>\n",
       "    </tr>\n",
       "    <tr>\n",
       "      <th>10173994686</th>\n",
       "      <th>스포츠테이프</th>\n",
       "      <td>198</td>\n",
       "      <td>191.244042</td>\n",
       "      <td>91.566568</td>\n",
       "      <td>166.090909</td>\n",
       "      <td>64.843159</td>\n",
       "    </tr>\n",
       "    <tr>\n",
       "      <th>11781100542</th>\n",
       "      <th>액체세제</th>\n",
       "      <td>988</td>\n",
       "      <td>884.624624</td>\n",
       "      <td>849.000000</td>\n",
       "      <td>899.818182</td>\n",
       "      <td>868.943700</td>\n",
       "    </tr>\n",
       "    <tr>\n",
       "      <th>83250021943</th>\n",
       "      <th>커플 젠가</th>\n",
       "      <td>80</td>\n",
       "      <td>70.997167</td>\n",
       "      <td>100.000000</td>\n",
       "      <td>67.185220</td>\n",
       "      <td>107.915891</td>\n",
       "    </tr>\n",
       "    <tr>\n",
       "      <th>13305038227</th>\n",
       "      <th>제주 렌터카</th>\n",
       "      <td>50</td>\n",
       "      <td>46.888955</td>\n",
       "      <td>45.223470</td>\n",
       "      <td>41.970608</td>\n",
       "      <td>48.379078</td>\n",
       "    </tr>\n",
       "    <tr>\n",
       "      <th>83093376861</th>\n",
       "      <th>홈파티 음식배달</th>\n",
       "      <td>9</td>\n",
       "      <td>11.975855</td>\n",
       "      <td>11.000000</td>\n",
       "      <td>8.590905</td>\n",
       "      <td>11.598266</td>\n",
       "    </tr>\n",
       "  </tbody>\n",
       "</table>\n",
       "</div>"
      ],
      "text/plain": [
       "                      리뷰건수증감     stc2_예측값       sarima    autoarima  \\\n",
       "상품아이디       상품명                                                       \n",
       "80023906035 반팔 티셔츠       130   131.850804   102.000000   125.681818   \n",
       "83520531417 파티룩 원피스        9    24.986382    13.000000    13.363636   \n",
       "80951475879 무지 양말        509   442.611647   415.197488   452.546365   \n",
       "83566853281 송혜교 귀걸이       35    65.013462    21.683860    29.677525   \n",
       "12823927460 NaN          422   413.690687   416.610249   446.510863   \n",
       "82717205816 NaN         4985  2965.294684  4839.592255  4674.820856   \n",
       "8325683452  NaN          454   369.548427   410.638749   399.946199   \n",
       "10022871025 유기농 아이과자     865   333.262478   408.000000   412.681818   \n",
       "81729997018 신생아 실내복      108   146.814163   194.015341   177.304107   \n",
       "83157663150 NaN           83   102.239622    89.000000    92.437766   \n",
       "83504388750 바라클라바         62    50.998600    41.000000    57.590909   \n",
       "10173994686 스포츠테이프       198   191.244042    91.566568   166.090909   \n",
       "11781100542 액체세제         988   884.624624   849.000000   899.818182   \n",
       "83250021943 커플 젠가         80    70.997167   100.000000    67.185220   \n",
       "13305038227 제주 렌터카        50    46.888955    45.223470    41.970608   \n",
       "83093376861 홈파티 음식배달       9    11.975855    11.000000     8.590905   \n",
       "\n",
       "                          prophet  \n",
       "상품아이디       상품명                    \n",
       "80023906035 반팔 티셔츠     101.715218  \n",
       "83520531417 파티룩 원피스     13.923776  \n",
       "80951475879 무지 양말      460.122261  \n",
       "83566853281 송혜교 귀걸이     30.499149  \n",
       "12823927460 NaN        372.010764  \n",
       "82717205816 NaN       4806.217271  \n",
       "8325683452  NaN        316.882136  \n",
       "10022871025 유기농 아이과자   412.688829  \n",
       "81729997018 신생아 실내복    119.327639  \n",
       "83157663150 NaN        102.736935  \n",
       "83504388750 바라클라바       46.526871  \n",
       "10173994686 스포츠테이프      64.843159  \n",
       "11781100542 액체세제       868.943700  \n",
       "83250021943 커플 젠가      107.915891  \n",
       "13305038227 제주 렌터카      48.379078  \n",
       "83093376861 홈파티 음식배달    11.598266  "
      ]
     },
     "execution_count": 196,
     "metadata": {},
     "output_type": "execute_result"
    }
   ],
   "source": [
    "validdf"
   ]
  },
  {
   "cell_type": "code",
   "execution_count": 194,
   "id": "1f2f5ef4",
   "metadata": {
    "ExecuteTime": {
     "end_time": "2022-01-17T05:49:05.839803Z",
     "start_time": "2022-01-17T05:49:05.516415Z"
    }
   },
   "outputs": [
    {
     "data": {
      "image/png": "[encoded data removed]",
      "text/plain": [
       "<Figure size 1152x576 with 1 Axes>"
      ]
     },
     "metadata": {},
     "output_type": "display_data"
    }
   ],
   "source": [
    "sns.set_palette('Set2')\n",
    "validdf.plot(kind='bar', figsize=(16, 8))\n",
    "plt.xticks(rotation=45)\n",
    "plt.title('모델별 리뷰수 증감 예측값 그래프')\n",
    "plt.ylabel('리뷰수 증감')\n",
    "plt.show()\n",
    "\n",
    "# plt.savefig('모델별 리뷰수 증감 예측값 그래프.png')"
   ]
  },
  {
   "cell_type": "code",
   "execution_count": 206,
   "id": "b764a984",
   "metadata": {
    "ExecuteTime": {
     "end_time": "2022-01-17T05:57:42.156070Z",
     "start_time": "2022-01-17T05:57:42.017476Z"
    },
    "scrolled": false
   },
   "outputs": [
    {
     "data": {
      "image/png": "[encoded data removed]",
      "text/plain": [
       "<Figure size 864x576 with 1 Axes>"
      ]
     },
     "metadata": {},
     "output_type": "display_data"
    }
   ],
   "source": [
    "sns.set_palette('Set2')\n",
    "validdf.iloc[[13, 12],].plot(kind='bar', figsize=(12, 8))\n",
    "plt.xticks(rotation=0)\n",
    "plt.legend(loc=2, prop={'size': 15})\n",
    "plt.xlabel('카테고리 : 생활/건강')\n",
    "plt.ylabel('리뷰수 증감')\n",
    "plt.show()"
   ]
  },
  {
   "cell_type": "code",
   "execution_count": 205,
   "id": "e3a63306",
   "metadata": {
    "ExecuteTime": {
     "end_time": "2022-01-17T05:57:23.238977Z",
     "start_time": "2022-01-17T05:57:23.097320Z"
    },
    "scrolled": false
   },
   "outputs": [
    {
     "data": {
      "image/png": "[encoded data removed]",
      "text/plain": [
       "<Figure size 864x576 with 1 Axes>"
      ]
     },
     "metadata": {},
     "output_type": "display_data"
    }
   ],
   "source": [
    "sns.set_palette('Set2')\n",
    "validdf.iloc[[15, 14],].plot(kind='bar', figsize=(12, 8))\n",
    "plt.xticks(rotation=0)\n",
    "plt.legend(loc=2, prop={'size': 15})\n",
    "plt.xlabel('카테고리 : 여가/생활편의')\n",
    "plt.ylabel('리뷰수 증감')\n",
    "plt.show()"
   ]
  },
  {
   "cell_type": "code",
   "execution_count": 209,
   "id": "fdfd1a5c",
   "metadata": {
    "ExecuteTime": {
     "end_time": "2022-01-17T06:02:06.979597Z",
     "start_time": "2022-01-17T06:02:06.835665Z"
    }
   },
   "outputs": [
    {
     "data": {
      "image/png": "[encoded data removed]",
      "text/plain": [
       "<Figure size 864x576 with 1 Axes>"
      ]
     },
     "metadata": {},
     "output_type": "display_data"
    }
   ],
   "source": [
    "sns.set_palette('Set2')\n",
    "validdf.iloc[[8, 7],].plot(kind='bar', figsize=(12, 8))\n",
    "plt.xticks(rotation=0)\n",
    "plt.legend(loc=2, prop={'size': 15})\n",
    "plt.xlabel('카테고리 : 출산/육아')\n",
    "plt.ylabel('리뷰수 증감')\n",
    "plt.show()"
   ]
  },
  {
   "cell_type": "code",
   "execution_count": 210,
   "id": "d55de179",
   "metadata": {
    "ExecuteTime": {
     "end_time": "2022-01-17T06:02:06.979597Z",
     "start_time": "2022-01-17T06:02:06.835665Z"
    }
   },
   "outputs": [
    {
     "data": {
      "image/png": "[encoded data removed]",
      "text/plain": [
       "<Figure size 864x576 with 1 Axes>"
      ]
     },
     "metadata": {},
     "output_type": "display_data"
    }
   ],
   "source": [
    "sns.set_palette('Set2')\n",
    "validdf.iloc[[1, 0],].plot(kind='bar', figsize=(12, 8))\n",
    "plt.xticks(rotation=0)\n",
    "plt.legend(loc=2, prop={'size': 15})\n",
    "plt.xlabel('카테고리 : 패션의류 ')\n",
    "plt.ylabel('리뷰수 증감')\n",
    "plt.show()"
   ]
  },
  {
   "cell_type": "code",
   "execution_count": 213,
   "id": "7fa448eb",
   "metadata": {
    "ExecuteTime": {
     "end_time": "2022-01-17T06:02:06.979597Z",
     "start_time": "2022-01-17T06:02:06.835665Z"
    }
   },
   "outputs": [
    {
     "data": {
      "image/png": "[encoded data removed]",
      "text/plain": [
       "<Figure size 864x576 with 1 Axes>"
      ]
     },
     "metadata": {},
     "output_type": "display_data"
    }
   ],
   "source": [
    "sns.set_palette('Set2')\n",
    "validdf.iloc[[3, 2],].plot(kind='bar', figsize=(12, 8))\n",
    "plt.xticks(rotation=0)\n",
    "plt.legend(loc=2, prop={'size': 15})\n",
    "plt.xlabel('카테고리 : 패션잡화')\n",
    "plt.ylabel('리뷰수 증감')\n",
    "plt.show()"
   ]
  },
  {
   "cell_type": "code",
   "execution_count": 212,
   "id": "bf4d4b8a",
   "metadata": {
    "ExecuteTime": {
     "end_time": "2022-01-17T06:02:03.218308Z",
     "start_time": "2022-01-17T06:02:03.074687Z"
    }
   },
   "outputs": [
    {
     "data": {
      "image/png": "[encoded data removed]",
      "text/plain": [
       "<Figure size 864x576 with 1 Axes>"
      ]
     },
     "metadata": {},
     "output_type": "display_data"
    }
   ],
   "source": [
    "sns.set_palette('Set2')\n",
    "validdf.iloc[[10, 11],].plot(kind='bar', figsize=(12, 8))\n",
    "plt.xticks(rotation=0)\n",
    "plt.legend(loc=2, prop={'size': 15})\n",
    "plt.xlabel('카테고리 : 스포츠/레저')\n",
    "plt.ylabel('리뷰수 증감')\n",
    "plt.show()"
   ]
  },
  {
   "cell_type": "markdown",
   "id": "ce68c49a",
   "metadata": {
    "heading_collapsed": true
   },
   "source": [
    "## PCA"
   ]
  },
  {
   "cell_type": "code",
   "execution_count": null,
   "id": "61ce6c08",
   "metadata": {
    "ExecuteTime": {
     "end_time": "2022-01-11T06:17:51.737826Z",
     "start_time": "2022-01-11T06:17:51.737826Z"
    },
    "hidden": true
   },
   "outputs": [],
   "source": [
    "df"
   ]
  },
  {
   "cell_type": "code",
   "execution_count": null,
   "id": "ac961a3a",
   "metadata": {
    "ExecuteTime": {
     "end_time": "2022-01-11T06:17:51.738820Z",
     "start_time": "2022-01-11T06:17:51.738820Z"
    },
    "hidden": true
   },
   "outputs": [],
   "source": [
    "display(x)\n",
    "display(y)"
   ]
  },
  {
   "cell_type": "code",
   "execution_count": null,
   "id": "9e166885",
   "metadata": {
    "ExecuteTime": {
     "end_time": "2022-01-11T06:17:51.739816Z",
     "start_time": "2022-01-11T06:17:51.739816Z"
    },
    "hidden": true
   },
   "outputs": [],
   "source": [
    "x = StandardScaler().fit_transform(x); x # 스탠다드 스케일링"
   ]
  },
  {
   "cell_type": "code",
   "execution_count": null,
   "id": "18b7a28e",
   "metadata": {
    "ExecuteTime": {
     "end_time": "2022-01-11T06:17:51.740815Z",
     "start_time": "2022-01-11T06:17:51.740815Z"
    },
    "hidden": true
   },
   "outputs": [],
   "source": [
    "from sklearn.decomposition import PCA\n",
    "pca = PCA()\n",
    "principalComponents = pca.fit_transform(x)\n",
    "# principalDf = pd.DataFrame(data = principalComponents, columns = ['principal component 1', 'principal component 2'])"
   ]
  },
  {
   "cell_type": "code",
   "execution_count": null,
   "id": "784528ae",
   "metadata": {
    "ExecuteTime": {
     "end_time": "2022-01-11T06:17:51.742809Z",
     "start_time": "2022-01-11T06:17:51.742809Z"
    },
    "hidden": true,
    "scrolled": false
   },
   "outputs": [],
   "source": [
    "# pcadf = pd.concat([principalDf, df[['리뷰건수증감']]], axis=1); pcadf"
   ]
  },
  {
   "cell_type": "code",
   "execution_count": null,
   "id": "f637bfb3",
   "metadata": {
    "ExecuteTime": {
     "end_time": "2022-01-11T06:17:51.743806Z",
     "start_time": "2022-01-11T06:17:51.743806Z"
    },
    "hidden": true
   },
   "outputs": [],
   "source": [
    "from sklearn import model_selection"
   ]
  },
  {
   "cell_type": "code",
   "execution_count": null,
   "id": "0781dd7b",
   "metadata": {
    "ExecuteTime": {
     "end_time": "2022-01-11T06:17:51.744804Z",
     "start_time": "2022-01-11T06:17:51.744804Z"
    },
    "hidden": true
   },
   "outputs": [],
   "source": [
    "x_reduced = pca.fit_transform(scale(x))\n",
    "regr = LinearRegression()\n",
    "rmse = []\n",
    "\n",
    "score = -1*model_selection.cross_val_score(regr,\n",
    "           np.ones((len(x_reduced),1)), y, cv=kfold,\n",
    "           scoring='neg_root_mean_squared_error').mean()    \n",
    "rmse.append(score)"
   ]
  },
  {
   "cell_type": "code",
   "execution_count": null,
   "id": "716632fb",
   "metadata": {
    "ExecuteTime": {
     "end_time": "2022-01-11T06:17:51.745801Z",
     "start_time": "2022-01-11T06:17:51.745801Z"
    },
    "hidden": true
   },
   "outputs": [],
   "source": [
    "for i in np.arange(1, 21):\n",
    "    score = -1*model_selection.cross_val_score(regr,\n",
    "               x_reduced[:,:i], y, cv=kfold, scoring='neg_root_mean_squared_error').mean()\n",
    "    rmse.append(score)"
   ]
  },
  {
   "cell_type": "code",
   "execution_count": null,
   "id": "4f7075e1",
   "metadata": {
    "ExecuteTime": {
     "end_time": "2022-01-11T06:17:51.746799Z",
     "start_time": "2022-01-11T06:17:51.746799Z"
    },
    "hidden": true
   },
   "outputs": [],
   "source": [
    "plt.plot(rmse)\n",
    "plt.xlabel('Number of Principal Components')\n",
    "plt.ylabel('RMSE')\n",
    "plt.title('hp')\n",
    "plt.show()"
   ]
  },
  {
   "cell_type": "code",
   "execution_count": null,
   "id": "37982507",
   "metadata": {
    "ExecuteTime": {
     "end_time": "2022-01-11T06:17:51.746799Z",
     "start_time": "2022-01-11T06:17:51.746799Z"
    },
    "hidden": true
   },
   "outputs": [],
   "source": [
    "np.cumsum(np.round(pca.explained_variance_ratio_, decimals=4)*100)"
   ]
  },
  {
   "cell_type": "code",
   "execution_count": null,
   "id": "c05e72f6",
   "metadata": {
    "ExecuteTime": {
     "end_time": "2022-01-11T06:17:51.747796Z",
     "start_time": "2022-01-11T06:17:51.747796Z"
    },
    "hidden": true
   },
   "outputs": [],
   "source": [
    "from sklearn.preprocessing import scale "
   ]
  },
  {
   "cell_type": "code",
   "execution_count": null,
   "id": "4c34bb09",
   "metadata": {
    "ExecuteTime": {
     "end_time": "2022-01-11T06:17:51.748793Z",
     "start_time": "2022-01-11T06:17:51.748793Z"
    },
    "hidden": true
   },
   "outputs": [],
   "source": [
    "x_reduced_train = pca.fit_transform(scale(x_train))\n",
    "x_reduced_test = pca.transform(scale(x_test))[:,:1]"
   ]
  },
  {
   "cell_type": "code",
   "execution_count": null,
   "id": "9eaed828",
   "metadata": {
    "ExecuteTime": {
     "end_time": "2022-01-11T06:17:51.749790Z",
     "start_time": "2022-01-11T06:17:51.749790Z"
    },
    "hidden": true
   },
   "outputs": [],
   "source": [
    "#train PCR model on training data \n",
    "regr = LinearRegression()\n",
    "regr.fit(x_reduced_train[:,:1], y_train)\n",
    "\n",
    "#calculate RMSE\n",
    "pred = regr.predict(x_reduced_test)\n",
    "mean_squared_error(y_test, pred, squared=False)"
   ]
  },
  {
   "cell_type": "code",
   "execution_count": null,
   "id": "5863cf53",
   "metadata": {
    "ExecuteTime": {
     "end_time": "2022-01-11T06:17:51.750786Z",
     "start_time": "2022-01-11T06:17:51.750786Z"
    },
    "hidden": true
   },
   "outputs": [],
   "source": [
    "r2_score(y_test, pred)"
   ]
  },
  {
   "cell_type": "code",
   "execution_count": null,
   "id": "edfcba50",
   "metadata": {
    "hidden": true
   },
   "outputs": [],
   "source": []
  },
  {
   "cell_type": "code",
   "execution_count": null,
   "id": "7e319fb6",
   "metadata": {
    "hidden": true
   },
   "outputs": [],
   "source": []
  }
 ],
 "metadata": {
  "kernelspec": {
   "display_name": "Python 3 (ipykernel)",
   "language": "python",
   "name": "python3"
  },
  "language_info": {
   "codemirror_mode": {
    "name": "ipython",
    "version": 3
   },
   "file_extension": ".py",
   "mimetype": "text/x-python",
   "name": "python",
   "nbconvert_exporter": "python",
   "pygments_lexer": "ipython3",
   "version": "3.9.7"
  },
  "toc": {
   "base_numbering": 1,
   "nav_menu": {},
   "number_sections": true,
   "sideBar": true,
   "skip_h1_title": false,
   "title_cell": "Table of Contents",
   "title_sidebar": "Contents",
   "toc_cell": false,
   "toc_position": {
    "height": "calc(100% - 180px)",
    "left": "10px",
    "top": "150px",
    "width": "307.2px"
   },
   "toc_section_display": true,
   "toc_window_display": false
  }
 },
 "nbformat": 4,
 "nbformat_minor": 5
}
